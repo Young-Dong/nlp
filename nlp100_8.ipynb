{
  "nbformat": 4,
  "nbformat_minor": 0,
  "metadata": {
    "colab": {
      "name": "nlp100_8.ipynb",
      "provenance": [],
      "collapsed_sections": [],
      "mount_file_id": "1q27_3f4aulDvYJB1TGQWCyDlfmdTZC1Z",
      "authorship_tag": "ABX9TyN1cNI316rA3KpLSA7JKBO6",
      "include_colab_link": true
    },
    "kernelspec": {
      "name": "python3",
      "display_name": "Python 3"
    },
    "language_info": {
      "name": "python"
    },
    "accelerator": "GPU"
  },
  "cells": [
    {
      "cell_type": "markdown",
      "metadata": {
        "id": "view-in-github",
        "colab_type": "text"
      },
      "source": [
        "<a href=\"https://colab.research.google.com/github/Young-Dong/nlp/blob/main/nlp100_8.ipynb\" target=\"_parent\"><img src=\"https://colab.research.google.com/assets/colab-badge.svg\" alt=\"Open In Colab\"/></a>"
      ]
    },
    {
      "cell_type": "markdown",
      "source": [
        "第8章: ニューラルネット\n",
        "\n",
        "第6章で取り組んだニュース記事のカテゴリ分類を題材として，ニューラルネットワークでカテゴリ分類モデルを実装する．なお，この章ではPyTorch, TensorFlow, Chainerなどの機械学習プラットフォームを活用せよ．"
      ],
      "metadata": {
        "id": "9s2nJWBMnjR5"
      }
    },
    {
      "cell_type": "code",
      "source": [
        "!wget https://archive.ics.uci.edu/ml/machine-learning-databases/00359/NewsAggregatorDataset.zip\n",
        "\n",
        "import zipfile\n",
        "import pandas as pd\n",
        "from sklearn.model_selection import train_test_split\n",
        "\n",
        "\n",
        "with zipfile.ZipFile('NewsAggregatorDataset.zip') as f:\n",
        "    f.extractall('data')\n",
        "\n",
        "df = pd.read_csv('data/newsCorpora.csv', sep='\\t'\n",
        "   ,header=None, names=['ID','TITLE','URL','PUBLISHER','CATEGORY','STORY','HOSTNAME','TIMESTAMP'])\n",
        "target = ['Reuters', 'Huffington Post', 'Businessweek', 'Contactmusic.com', 'Daily Mail']\n",
        "df_target = df[df['PUBLISHER'].isin(target)]"
      ],
      "metadata": {
        "id": "uPfNfzkg50pX",
        "colab": {
          "base_uri": "https://localhost:8080/"
        },
        "outputId": "a5b87cb1-8cb8-4c50-8656-378d234aa0c0"
      },
      "execution_count": null,
      "outputs": [
        {
          "output_type": "stream",
          "name": "stdout",
          "text": [
            "--2022-01-27 11:07:13--  https://archive.ics.uci.edu/ml/machine-learning-databases/00359/NewsAggregatorDataset.zip\n",
            "Resolving archive.ics.uci.edu (archive.ics.uci.edu)... 128.195.10.252\n",
            "Connecting to archive.ics.uci.edu (archive.ics.uci.edu)|128.195.10.252|:443... connected.\n",
            "HTTP request sent, awaiting response... 200 OK\n",
            "Length: 29224203 (28M) [application/x-httpd-php]\n",
            "Saving to: ‘NewsAggregatorDataset.zip’\n",
            "\n",
            "NewsAggregatorDatas 100%[===================>]  27.87M  33.6MB/s    in 0.8s    \n",
            "\n",
            "2022-01-27 11:07:14 (33.6 MB/s) - ‘NewsAggregatorDataset.zip’ saved [29224203/29224203]\n",
            "\n"
          ]
        }
      ]
    },
    {
      "cell_type": "code",
      "source": [
        "df_target.head()"
      ],
      "metadata": {
        "colab": {
          "base_uri": "https://localhost:8080/",
          "height": 617
        },
        "id": "0Xg0OFv_SbKd",
        "outputId": "b4ed4bde-6421-489c-8630-e1c8ab579b0e"
      },
      "execution_count": null,
      "outputs": [
        {
          "output_type": "execute_result",
          "data": {
            "text/html": [
              "\n",
              "  <div id=\"df-584ff752-c951-4e61-89b7-c02b99ddc52b\">\n",
              "    <div class=\"colab-df-container\">\n",
              "      <div>\n",
              "<style scoped>\n",
              "    .dataframe tbody tr th:only-of-type {\n",
              "        vertical-align: middle;\n",
              "    }\n",
              "\n",
              "    .dataframe tbody tr th {\n",
              "        vertical-align: top;\n",
              "    }\n",
              "\n",
              "    .dataframe thead th {\n",
              "        text-align: right;\n",
              "    }\n",
              "</style>\n",
              "<table border=\"1\" class=\"dataframe\">\n",
              "  <thead>\n",
              "    <tr style=\"text-align: right;\">\n",
              "      <th></th>\n",
              "      <th>ID</th>\n",
              "      <th>TITLE</th>\n",
              "      <th>URL</th>\n",
              "      <th>PUBLISHER</th>\n",
              "      <th>CATEGORY</th>\n",
              "      <th>STORY</th>\n",
              "      <th>HOSTNAME</th>\n",
              "      <th>TIMESTAMP</th>\n",
              "    </tr>\n",
              "  </thead>\n",
              "  <tbody>\n",
              "    <tr>\n",
              "      <th>12</th>\n",
              "      <td>13</td>\n",
              "      <td>Europe reaches crunch point on banking union</td>\n",
              "      <td>http://in.reuters.com/article/2014/03/10/eu-ba...</td>\n",
              "      <td>Reuters</td>\n",
              "      <td>b</td>\n",
              "      <td>dPhGU51DcrolUIMxbRm0InaHGA2XM</td>\n",
              "      <td>in.reuters.com</td>\n",
              "      <td>1394470501755</td>\n",
              "    </tr>\n",
              "    <tr>\n",
              "      <th>13</th>\n",
              "      <td>14</td>\n",
              "      <td>ECB FOCUS-Stronger euro drowns out ECB's messa...</td>\n",
              "      <td>http://in.reuters.com/article/2014/03/10/ecb-p...</td>\n",
              "      <td>Reuters</td>\n",
              "      <td>b</td>\n",
              "      <td>dPhGU51DcrolUIMxbRm0InaHGA2XM</td>\n",
              "      <td>in.reuters.com</td>\n",
              "      <td>1394470501948</td>\n",
              "    </tr>\n",
              "    <tr>\n",
              "      <th>19</th>\n",
              "      <td>20</td>\n",
              "      <td>Euro Anxieties Wane as Bunds Top Treasuries, S...</td>\n",
              "      <td>http://www.businessweek.com/news/2014-03-10/ge...</td>\n",
              "      <td>Businessweek</td>\n",
              "      <td>b</td>\n",
              "      <td>dPhGU51DcrolUIMxbRm0InaHGA2XM</td>\n",
              "      <td>www.businessweek.com</td>\n",
              "      <td>1394470503148</td>\n",
              "    </tr>\n",
              "    <tr>\n",
              "      <th>20</th>\n",
              "      <td>21</td>\n",
              "      <td>Noyer Says Strong Euro Creates Unwarranted Eco...</td>\n",
              "      <td>http://www.businessweek.com/news/2014-03-10/no...</td>\n",
              "      <td>Businessweek</td>\n",
              "      <td>b</td>\n",
              "      <td>dPhGU51DcrolUIMxbRm0InaHGA2XM</td>\n",
              "      <td>www.businessweek.com</td>\n",
              "      <td>1394470503366</td>\n",
              "    </tr>\n",
              "    <tr>\n",
              "      <th>29</th>\n",
              "      <td>30</td>\n",
              "      <td>REFILE-Bad loan triggers key feature in ECB ba...</td>\n",
              "      <td>http://in.reuters.com/article/2014/03/10/euroz...</td>\n",
              "      <td>Reuters</td>\n",
              "      <td>b</td>\n",
              "      <td>dPhGU51DcrolUIMxbRm0InaHGA2XM</td>\n",
              "      <td>in.reuters.com</td>\n",
              "      <td>1394470505070</td>\n",
              "    </tr>\n",
              "  </tbody>\n",
              "</table>\n",
              "</div>\n",
              "      <button class=\"colab-df-convert\" onclick=\"convertToInteractive('df-584ff752-c951-4e61-89b7-c02b99ddc52b')\"\n",
              "              title=\"Convert this dataframe to an interactive table.\"\n",
              "              style=\"display:none;\">\n",
              "        \n",
              "  <svg xmlns=\"http://www.w3.org/2000/svg\" height=\"24px\"viewBox=\"0 0 24 24\"\n",
              "       width=\"24px\">\n",
              "    <path d=\"M0 0h24v24H0V0z\" fill=\"none\"/>\n",
              "    <path d=\"M18.56 5.44l.94 2.06.94-2.06 2.06-.94-2.06-.94-.94-2.06-.94 2.06-2.06.94zm-11 1L8.5 8.5l.94-2.06 2.06-.94-2.06-.94L8.5 2.5l-.94 2.06-2.06.94zm10 10l.94 2.06.94-2.06 2.06-.94-2.06-.94-.94-2.06-.94 2.06-2.06.94z\"/><path d=\"M17.41 7.96l-1.37-1.37c-.4-.4-.92-.59-1.43-.59-.52 0-1.04.2-1.43.59L10.3 9.45l-7.72 7.72c-.78.78-.78 2.05 0 2.83L4 21.41c.39.39.9.59 1.41.59.51 0 1.02-.2 1.41-.59l7.78-7.78 2.81-2.81c.8-.78.8-2.07 0-2.86zM5.41 20L4 18.59l7.72-7.72 1.47 1.35L5.41 20z\"/>\n",
              "  </svg>\n",
              "      </button>\n",
              "      \n",
              "  <style>\n",
              "    .colab-df-container {\n",
              "      display:flex;\n",
              "      flex-wrap:wrap;\n",
              "      gap: 12px;\n",
              "    }\n",
              "\n",
              "    .colab-df-convert {\n",
              "      background-color: #E8F0FE;\n",
              "      border: none;\n",
              "      border-radius: 50%;\n",
              "      cursor: pointer;\n",
              "      display: none;\n",
              "      fill: #1967D2;\n",
              "      height: 32px;\n",
              "      padding: 0 0 0 0;\n",
              "      width: 32px;\n",
              "    }\n",
              "\n",
              "    .colab-df-convert:hover {\n",
              "      background-color: #E2EBFA;\n",
              "      box-shadow: 0px 1px 2px rgba(60, 64, 67, 0.3), 0px 1px 3px 1px rgba(60, 64, 67, 0.15);\n",
              "      fill: #174EA6;\n",
              "    }\n",
              "\n",
              "    [theme=dark] .colab-df-convert {\n",
              "      background-color: #3B4455;\n",
              "      fill: #D2E3FC;\n",
              "    }\n",
              "\n",
              "    [theme=dark] .colab-df-convert:hover {\n",
              "      background-color: #434B5C;\n",
              "      box-shadow: 0px 1px 3px 1px rgba(0, 0, 0, 0.15);\n",
              "      filter: drop-shadow(0px 1px 2px rgba(0, 0, 0, 0.3));\n",
              "      fill: #FFFFFF;\n",
              "    }\n",
              "  </style>\n",
              "\n",
              "      <script>\n",
              "        const buttonEl =\n",
              "          document.querySelector('#df-584ff752-c951-4e61-89b7-c02b99ddc52b button.colab-df-convert');\n",
              "        buttonEl.style.display =\n",
              "          google.colab.kernel.accessAllowed ? 'block' : 'none';\n",
              "\n",
              "        async function convertToInteractive(key) {\n",
              "          const element = document.querySelector('#df-584ff752-c951-4e61-89b7-c02b99ddc52b');\n",
              "          const dataTable =\n",
              "            await google.colab.kernel.invokeFunction('convertToInteractive',\n",
              "                                                     [key], {});\n",
              "          if (!dataTable) return;\n",
              "\n",
              "          const docLinkHtml = 'Like what you see? Visit the ' +\n",
              "            '<a target=\"_blank\" href=https://colab.research.google.com/notebooks/data_table.ipynb>data table notebook</a>'\n",
              "            + ' to learn more about interactive tables.';\n",
              "          element.innerHTML = '';\n",
              "          dataTable['output_type'] = 'display_data';\n",
              "          await google.colab.output.renderOutput(dataTable, element);\n",
              "          const docLink = document.createElement('div');\n",
              "          docLink.innerHTML = docLinkHtml;\n",
              "          element.appendChild(docLink);\n",
              "        }\n",
              "      </script>\n",
              "    </div>\n",
              "  </div>\n",
              "  "
            ],
            "text/plain": [
              "    ID  ...      TIMESTAMP\n",
              "12  13  ...  1394470501755\n",
              "13  14  ...  1394470501948\n",
              "19  20  ...  1394470503148\n",
              "20  21  ...  1394470503366\n",
              "29  30  ...  1394470505070\n",
              "\n",
              "[5 rows x 8 columns]"
            ]
          },
          "metadata": {},
          "execution_count": 2
        }
      ]
    },
    {
      "cell_type": "markdown",
      "source": [
        "**70. 単語ベクトルの和による特徴量**\n",
        "\n",
        "問題50で構築した学習データ，検証データ，評価データを行列・ベクトルに変換したい．例えば，学習データについて，すべての事例$x_i$の特徴ベクトル$x_i$を並べた行列Xと，正解ラベルを並べた行列（ベクトル）Yを作成したい．\n",
        "\n",
        "> $\n",
        "X=\n",
        "\\left(\n",
        "\\begin{array}{c} \n",
        "    x_1\\\\ x_2\\\\ ...\\\\ x_n\\\\\n",
        "\\end{array}\n",
        "\\right)\n",
        "∈R^{n×d},\n",
        "Y=\n",
        "\\left(\n",
        "\\begin{array}{c} \n",
        "    y_1\\\\ y_2\\\\ ...\\\\ y_n\\\\\n",
        "\\end{array}\n",
        "\\right)\n",
        "∈N^{n}\n",
        "$\n",
        "\n",
        "ここで，nは学習データの事例数であり，$x_i$∈$R^d$と$y_i$∈Nはそれぞれ，i∈{1,…,n}番目の事例の特徴量ベクトルと正解ラベルを表す． なお，今回は「ビジネス」「科学技術」「エンターテイメント」「健康」の4カテゴリ分類である．N<4で4未満の自然数（0を含む）を表すことにすれば，任意の事例の正解ラベル$y_i$は$y_i$∈N<4で表現できる． 以降では，ラベルの種類数をLで表す（今回の分類タスクではL=4である）．\n",
        "\n",
        "i番目の事例の特徴ベクトル$x_i$は，次式で求める．\n",
        "\n",
        "> $x_i=\\frac{1}{T_i}∑_{t=1}^{T_i}emb(w_i,t)$\n",
        "\n",
        "ここで，i番目の事例は$T_i$個の（記事見出しの）単語列($w_{i,1},w_{i,2},…,w_{i,Ti}$)から構成され，emb(w)∈$R^d$は単語wに対応する単語ベクトル（次元数はd）である．すなわち，i番目の事例の記事見出しを，その見出しに含まれる単語のベクトルの平均で表現したものが$x_i$である．今回は単語ベクトルとして，問題60でダウンロードしたものを用いればよい．300次元の単語ベクトルを用いたので，d=300である．\n",
        "\n",
        "i番目の事例のラベル$y_i$は，次のように定義する．\n",
        "\n",
        "> $\n",
        "y_i=\\begin{cases}\n",
        "  {0 (記事x_iが「ビジネス」カテゴリの場合)\\\\\n",
        "  1 (記事x_iが「科学技術」カテゴリの場合)\\\\\n",
        "  2 (記事x_iが「エンターテイメント」カテゴリの場合)\\\\\n",
        "  3 (記事x_iが「健康」カテゴリの場合)}\n",
        "\\end{cases}\n",
        "$\n",
        "\n",
        "なお，カテゴリ名とラベルの番号が一対一で対応付いていれば，上式の通りの対応付けでなくてもよい．\n",
        "\n",
        "以上の仕様に基づき，以下の行列・ベクトルを作成し，ファイルに保存せよ．\n",
        "\n",
        "・学習データの特徴量行列: $X_{train}∈R^{Nt×d}$\n",
        "\n",
        "・学習データのラベルベクトル: $Y_{train}∈N^{Nt}$\n",
        "\n",
        "・検証データの特徴量行列: $X_{valid}∈R^{Nv×d}$\n",
        "\n",
        "・検証データのラベルベクトル: $Y_{valid}∈N^{Nv}$\n",
        "\n",
        "・評価データの特徴量行列: $X_{test}∈R^{Ne×d}$\n",
        "\n",
        "・評価データのラベルベクトル: $Y_{test}∈N^{Ne}$\n",
        "\n",
        "なお，$N_t,N_v,N_e$はそれぞれ，学習データの事例数，検証データの事例数，評価データの事例数である．"
      ],
      "metadata": {
        "id": "RwBpYmMNr4zp"
      }
    },
    {
      "cell_type": "code",
      "source": [
        "train, non_train = train_test_split(df_target, test_size=0.2, random_state=42)\n",
        "valid, test = train_test_split(non_train, test_size=0.5, random_state=42)"
      ],
      "metadata": {
        "id": "oxl9v1-pXWzF"
      },
      "execution_count": null,
      "outputs": []
    },
    {
      "cell_type": "code",
      "source": [
        "from gensim.models.keyedvectors import KeyedVectors\n",
        "from gensim.models import word2vec\n",
        "\n",
        "# official document https://radimrehurek.com/gensim/auto_examples/index.html#documentation\n",
        "\n",
        "data = '/content/drive/MyDrive/Colab Notebooks/GoogleNews-vectors-negative300.bin.gz'\n",
        "model = KeyedVectors.load_word2vec_format(data, binary=True)"
      ],
      "metadata": {
        "id": "Iw__AH5KXeVs"
      },
      "execution_count": null,
      "outputs": []
    },
    {
      "cell_type": "code",
      "source": [
        "import string\n",
        "import torch\n",
        "\n",
        "def transform_w2v(text):\n",
        "  table = str.maketrans(string.punctuation, ' '*len(string.punctuation))\n",
        "  words = text.translate(table).split()  # 記号をスペースに置換後、スペースで分割してリスト化\n",
        "  vec = [model[word] for word in words if word in model]  # 1語ずつベクトル化\n",
        "\n",
        "  return torch.tensor(sum(vec) / len(vec))  # 平均ベクトルをTensor型に変換して出力"
      ],
      "metadata": {
        "id": "ud0EuTj-YntT"
      },
      "execution_count": null,
      "outputs": []
    },
    {
      "cell_type": "code",
      "source": [
        "# 特徴ベクトルの作成\n",
        "X_train = torch.stack([transform_w2v(text) for text in train['TITLE']])\n",
        "X_valid = torch.stack([transform_w2v(text) for text in valid['TITLE']])\n",
        "X_test = torch.stack([transform_w2v(text) for text in test['TITLE']])\n",
        "\n",
        "print(X_train.size())\n",
        "print(X_train)"
      ],
      "metadata": {
        "colab": {
          "base_uri": "https://localhost:8080/"
        },
        "id": "1wgWWwsMYqN2",
        "outputId": "64de31bd-1696-43e7-d00c-204c4e1395be"
      },
      "execution_count": null,
      "outputs": [
        {
          "output_type": "stream",
          "name": "stdout",
          "text": [
            "torch.Size([10672, 300])\n",
            "tensor([[ 0.0892, -0.0251, -0.0682,  ..., -0.0559, -0.0038, -0.0919],\n",
            "        [ 0.0538,  0.0353,  0.0121,  ...,  0.1317,  0.2012,  0.0249],\n",
            "        [ 0.1075,  0.0263, -0.0342,  ...,  0.0381,  0.0845,  0.0992],\n",
            "        ...,\n",
            "        [ 0.0018,  0.0506,  0.0403,  ..., -0.0771,  0.0192, -0.0621],\n",
            "        [-0.0252,  0.0566, -0.0808,  ...,  0.0292,  0.0887,  0.0360],\n",
            "        [-0.0016,  0.1155, -0.0469,  ...,  0.0594, -0.0317, -0.1071]])\n"
          ]
        }
      ]
    },
    {
      "cell_type": "code",
      "source": [
        "# ラベルベクトルの作成\n",
        "category_dict = {'b': 0, 't': 1, 'e': 2, 'm': 3}\n",
        "y_train = torch.LongTensor([category_dict[x] for x in train['CATEGORY']])\n",
        "y_valid = torch.LongTensor([category_dict[x] for x in valid['CATEGORY']])\n",
        "y_test = torch.LongTensor([category_dict[x] for x in test['CATEGORY']])\n",
        "\n",
        "print(y_train.size())\n",
        "print(y_train)"
      ],
      "metadata": {
        "id": "sSS3B_UeT67P",
        "colab": {
          "base_uri": "https://localhost:8080/"
        },
        "outputId": "17c7c3e4-47a1-4d63-9684-58382c103b45"
      },
      "execution_count": null,
      "outputs": [
        {
          "output_type": "stream",
          "name": "stdout",
          "text": [
            "torch.Size([10672])\n",
            "tensor([0, 3, 2,  ..., 2, 0, 0])\n"
          ]
        }
      ]
    },
    {
      "cell_type": "code",
      "source": [
        "# 保存\n",
        "torch.save(X_train, 'X_train.pt')\n",
        "torch.save(X_valid, 'X_valid.pt')\n",
        "torch.save(X_test, 'X_test.pt')\n",
        "torch.save(y_train, 'y_train.pt')\n",
        "torch.save(y_valid, 'y_valid.pt')\n",
        "torch.save(y_test, 'y_test.pt')"
      ],
      "metadata": {
        "id": "hnsp3ESOaXjE"
      },
      "execution_count": null,
      "outputs": []
    },
    {
      "cell_type": "markdown",
      "source": [
        "**71. 単層ニューラルネットワークによる予測**\n",
        "\n",
        "問題70で保存した行列を読み込み，学習データについて以下の計算を実行せよ．\n",
        "\n",
        "$y_1=softmax(x_1W),Y=softmax(X_{[1:4]}W)$\n",
        "\n",
        "ただし，softmaxはソフトマックス関数，X[1:4]∈R4×dは特徴ベクトルx1,x2,x3,x4を縦に並べた行列である．\n",
        "\n",
        "\n",
        "\n",
        "> $\n",
        "X_{[1:4]}=\n",
        "\\left(\n",
        "\\begin{array}{c} \n",
        "    x_1\\\\ x_2\\\\ x_3\\\\ x_4\\\\\n",
        "\\end{array}\n",
        "\\right)\n",
        "$\n",
        "\n",
        "行列$W∈R^{d×L}$は単層ニューラルネットワークの重み行列で，ここではランダムな値で初期化すればよい（問題73以降で学習して求める）．なお，$y_1∈R^L$は未学習の行列Wで事例$x_1$を分類したときに，各カテゴリに属する確率を表すベクトルである． 同様に，$Y∈R^{n×L}$は，学習データの事例$x_1,x_2,x_3,x_4$について，各カテゴリに属する確率を行列として表現している．"
      ],
      "metadata": {
        "id": "0orfKthQ8BQ4"
      }
    },
    {
      "cell_type": "code",
      "source": [
        "import torch.nn as nn\n",
        "\n",
        "m = nn.Linear(300, 4)"
      ],
      "metadata": {
        "id": "fkSAgweNPXKe"
      },
      "execution_count": null,
      "outputs": []
    },
    {
      "cell_type": "code",
      "source": [
        "m.forward(X_train)"
      ],
      "metadata": {
        "colab": {
          "base_uri": "https://localhost:8080/"
        },
        "id": "edDRR_tQfbzs",
        "outputId": "de86baae-b731-4811-e422-51a86b00c417"
      },
      "execution_count": null,
      "outputs": [
        {
          "output_type": "execute_result",
          "data": {
            "text/plain": [
              "tensor([[-0.0866,  0.0092,  0.0851,  0.0258],\n",
              "        [-0.0129, -0.0249,  0.1280,  0.0317],\n",
              "        [-0.0566,  0.0274,  0.0046,  0.0176],\n",
              "        ...,\n",
              "        [-0.0281, -0.0380,  0.0823,  0.0281],\n",
              "        [-0.0335, -0.0066,  0.1265,  0.0348],\n",
              "        [-0.0622,  0.0037,  0.0909,  0.1341]], grad_fn=<AddmmBackward0>)"
            ]
          },
          "metadata": {},
          "execution_count": 10
        }
      ]
    },
    {
      "cell_type": "code",
      "source": [
        "y_pred = torch.softmax(m.forward(X_train[:4]), dim=1)\n",
        "y_pred"
      ],
      "metadata": {
        "colab": {
          "base_uri": "https://localhost:8080/"
        },
        "id": "9mPVxSdN76vu",
        "outputId": "6a0fa5aa-4814-426b-d803-de67facdc1c1"
      },
      "execution_count": null,
      "outputs": [
        {
          "output_type": "execute_result",
          "data": {
            "text/plain": [
              "tensor([[0.7322, 0.0242, 0.2265, 0.0171],\n",
              "        [0.2979, 0.0383, 0.6327, 0.0312],\n",
              "        [0.2879, 0.0461, 0.6345, 0.0314],\n",
              "        [0.4471, 0.0289, 0.5040, 0.0200]], grad_fn=<SoftmaxBackward0>)"
            ]
          },
          "metadata": {},
          "execution_count": 86
        }
      ]
    },
    {
      "cell_type": "markdown",
      "source": [
        "**72. 損失と勾配の計算**\n",
        "\n",
        "学習データの事例$x_1$と事例集合$x_1,x_2,x_3,x_4$に対して，クロスエントロピー損失と，行列Wに対する勾配を計算せよ．なお，ある事例$x_i$に対して損失は次式で計算される．\n",
        "\n",
        "> $l_i=−log[事例x_iがy_iに分類される確率]$\n",
        "\n",
        "ただし，事例集合に対するクロスエントロピー損失は，その集合に含まれる各事例の損失の平均とする．"
      ],
      "metadata": {
        "id": "USND8r928BTr"
      }
    },
    {
      "cell_type": "code",
      "source": [
        "loss = nn.CrossEntropyLoss()"
      ],
      "metadata": {
        "id": "uhiqS72m7dR7"
      },
      "execution_count": null,
      "outputs": []
    },
    {
      "cell_type": "code",
      "source": [
        "l1 = loss(m(X_train[:1]), y_train[:1])  # 入力ベクトルはsoftmax前の値\n",
        "# m.zero_grad()  # 勾配をゼロで初期化\n",
        "l1.backward()  # 勾配を計算\n",
        "print(f'損失: {l1:.4f}')\n",
        "print(f'勾配: {m.weight.grad}')"
      ],
      "metadata": {
        "colab": {
          "base_uri": "https://localhost:8080/"
        },
        "id": "Jos6YoeIG_hP",
        "outputId": "5339e7ca-cddc-49ca-ae61-dab538333c7d"
      },
      "execution_count": null,
      "outputs": [
        {
          "output_type": "stream",
          "name": "stdout",
          "text": [
            "損失: 1.3754\n",
            "勾配: tensor([[-0.0642,  0.0151,  0.0538,  ...,  0.0326, -0.0082,  0.0798],\n",
            "        [ 0.0225, -0.0022, -0.0217,  ..., -0.0133,  0.0069, -0.0223],\n",
            "        [ 0.0168, -0.0121, -0.0093,  ..., -0.0043, -0.0042, -0.0323],\n",
            "        [ 0.0249, -0.0008, -0.0229,  ..., -0.0150,  0.0054, -0.0252]])\n"
          ]
        }
      ]
    },
    {
      "cell_type": "markdown",
      "source": [
        "**73. 確率的勾配降下法による学習**\n",
        "\n",
        "確率的勾配降下法（SGD: Stochastic Gradient Descent）を用いて，行列Wを学習せよ．なお，学習は適当な基準で終了させればよい（例えば「100エポックで終了」など）．"
      ],
      "metadata": {
        "id": "0I8c8Bvt8BWo"
      }
    },
    {
      "cell_type": "code",
      "source": [
        "optimizer = torch.optim.SGD(m.parameters(), lr=0.1)\n",
        "\n",
        "num_epochs = 100\n",
        "for epoch in range(num_epochs):\n",
        "  m.train()\n",
        "\n",
        "  y_train_pred = torch.softmax(m.forward(X_train), dim=1)\n",
        "  y_valid_pred = torch.softmax(m.forward(X_valid), dim=1)\n",
        "\n",
        "  loss_train = loss(y_train_pred, y_train)\n",
        "  loss_valid = loss(y_valid_pred, y_valid)\n",
        "\n",
        "  loss_train.backward()\n",
        "  optimizer.step()\n",
        "  optimizer.zero_grad()\n",
        "\n",
        "  print(f'epoch: {epoch + 1}, loss_train: {loss_train:.4f}, loss_valid: {loss_valid:.4f}')"
      ],
      "metadata": {
        "id": "58kAEq5MI5fD",
        "colab": {
          "base_uri": "https://localhost:8080/"
        },
        "outputId": "a3a494e1-dc98-4402-de65-ea16dd14bc93"
      },
      "execution_count": null,
      "outputs": [
        {
          "output_type": "stream",
          "name": "stdout",
          "text": [
            "epoch: 1, loss_train: 1.0634, loss_valid: 1.0782\n",
            "epoch: 2, loss_train: 1.0632, loss_valid: 1.0781\n",
            "epoch: 3, loss_train: 1.0630, loss_valid: 1.0779\n",
            "epoch: 4, loss_train: 1.0629, loss_valid: 1.0778\n",
            "epoch: 5, loss_train: 1.0627, loss_valid: 1.0776\n",
            "epoch: 6, loss_train: 1.0625, loss_valid: 1.0774\n",
            "epoch: 7, loss_train: 1.0624, loss_valid: 1.0773\n",
            "epoch: 8, loss_train: 1.0622, loss_valid: 1.0771\n",
            "epoch: 9, loss_train: 1.0621, loss_valid: 1.0770\n",
            "epoch: 10, loss_train: 1.0619, loss_valid: 1.0768\n",
            "epoch: 11, loss_train: 1.0617, loss_valid: 1.0767\n",
            "epoch: 12, loss_train: 1.0616, loss_valid: 1.0765\n",
            "epoch: 13, loss_train: 1.0614, loss_valid: 1.0764\n",
            "epoch: 14, loss_train: 1.0613, loss_valid: 1.0762\n",
            "epoch: 15, loss_train: 1.0611, loss_valid: 1.0761\n",
            "epoch: 16, loss_train: 1.0610, loss_valid: 1.0759\n",
            "epoch: 17, loss_train: 1.0608, loss_valid: 1.0758\n",
            "epoch: 18, loss_train: 1.0607, loss_valid: 1.0756\n",
            "epoch: 19, loss_train: 1.0605, loss_valid: 1.0755\n",
            "epoch: 20, loss_train: 1.0604, loss_valid: 1.0753\n",
            "epoch: 21, loss_train: 1.0602, loss_valid: 1.0752\n",
            "epoch: 22, loss_train: 1.0600, loss_valid: 1.0750\n",
            "epoch: 23, loss_train: 1.0599, loss_valid: 1.0749\n",
            "epoch: 24, loss_train: 1.0597, loss_valid: 1.0747\n",
            "epoch: 25, loss_train: 1.0596, loss_valid: 1.0746\n",
            "epoch: 26, loss_train: 1.0594, loss_valid: 1.0744\n",
            "epoch: 27, loss_train: 1.0593, loss_valid: 1.0743\n",
            "epoch: 28, loss_train: 1.0591, loss_valid: 1.0742\n",
            "epoch: 29, loss_train: 1.0590, loss_valid: 1.0740\n",
            "epoch: 30, loss_train: 1.0588, loss_valid: 1.0739\n",
            "epoch: 31, loss_train: 1.0587, loss_valid: 1.0737\n",
            "epoch: 32, loss_train: 1.0585, loss_valid: 1.0736\n",
            "epoch: 33, loss_train: 1.0584, loss_valid: 1.0734\n",
            "epoch: 34, loss_train: 1.0583, loss_valid: 1.0733\n",
            "epoch: 35, loss_train: 1.0581, loss_valid: 1.0732\n",
            "epoch: 36, loss_train: 1.0580, loss_valid: 1.0730\n",
            "epoch: 37, loss_train: 1.0578, loss_valid: 1.0729\n",
            "epoch: 38, loss_train: 1.0577, loss_valid: 1.0727\n",
            "epoch: 39, loss_train: 1.0575, loss_valid: 1.0726\n",
            "epoch: 40, loss_train: 1.0574, loss_valid: 1.0725\n",
            "epoch: 41, loss_train: 1.0572, loss_valid: 1.0723\n",
            "epoch: 42, loss_train: 1.0571, loss_valid: 1.0722\n",
            "epoch: 43, loss_train: 1.0570, loss_valid: 1.0720\n",
            "epoch: 44, loss_train: 1.0568, loss_valid: 1.0719\n",
            "epoch: 45, loss_train: 1.0567, loss_valid: 1.0718\n",
            "epoch: 46, loss_train: 1.0565, loss_valid: 1.0716\n",
            "epoch: 47, loss_train: 1.0564, loss_valid: 1.0715\n",
            "epoch: 48, loss_train: 1.0562, loss_valid: 1.0714\n",
            "epoch: 49, loss_train: 1.0561, loss_valid: 1.0712\n",
            "epoch: 50, loss_train: 1.0560, loss_valid: 1.0711\n",
            "epoch: 51, loss_train: 1.0558, loss_valid: 1.0710\n",
            "epoch: 52, loss_train: 1.0557, loss_valid: 1.0708\n",
            "epoch: 53, loss_train: 1.0556, loss_valid: 1.0707\n",
            "epoch: 54, loss_train: 1.0554, loss_valid: 1.0706\n",
            "epoch: 55, loss_train: 1.0553, loss_valid: 1.0704\n",
            "epoch: 56, loss_train: 1.0551, loss_valid: 1.0703\n",
            "epoch: 57, loss_train: 1.0550, loss_valid: 1.0702\n",
            "epoch: 58, loss_train: 1.0549, loss_valid: 1.0700\n",
            "epoch: 59, loss_train: 1.0547, loss_valid: 1.0699\n",
            "epoch: 60, loss_train: 1.0546, loss_valid: 1.0698\n",
            "epoch: 61, loss_train: 1.0545, loss_valid: 1.0696\n",
            "epoch: 62, loss_train: 1.0543, loss_valid: 1.0695\n",
            "epoch: 63, loss_train: 1.0542, loss_valid: 1.0694\n",
            "epoch: 64, loss_train: 1.0541, loss_valid: 1.0693\n",
            "epoch: 65, loss_train: 1.0539, loss_valid: 1.0691\n",
            "epoch: 66, loss_train: 1.0538, loss_valid: 1.0690\n",
            "epoch: 67, loss_train: 1.0537, loss_valid: 1.0689\n",
            "epoch: 68, loss_train: 1.0535, loss_valid: 1.0687\n",
            "epoch: 69, loss_train: 1.0534, loss_valid: 1.0686\n",
            "epoch: 70, loss_train: 1.0533, loss_valid: 1.0685\n",
            "epoch: 71, loss_train: 1.0531, loss_valid: 1.0684\n",
            "epoch: 72, loss_train: 1.0530, loss_valid: 1.0682\n",
            "epoch: 73, loss_train: 1.0529, loss_valid: 1.0681\n",
            "epoch: 74, loss_train: 1.0527, loss_valid: 1.0680\n",
            "epoch: 75, loss_train: 1.0526, loss_valid: 1.0679\n",
            "epoch: 76, loss_train: 1.0525, loss_valid: 1.0677\n",
            "epoch: 77, loss_train: 1.0524, loss_valid: 1.0676\n",
            "epoch: 78, loss_train: 1.0522, loss_valid: 1.0675\n",
            "epoch: 79, loss_train: 1.0521, loss_valid: 1.0674\n",
            "epoch: 80, loss_train: 1.0520, loss_valid: 1.0672\n",
            "epoch: 81, loss_train: 1.0518, loss_valid: 1.0671\n",
            "epoch: 82, loss_train: 1.0517, loss_valid: 1.0670\n",
            "epoch: 83, loss_train: 1.0516, loss_valid: 1.0669\n",
            "epoch: 84, loss_train: 1.0515, loss_valid: 1.0667\n",
            "epoch: 85, loss_train: 1.0513, loss_valid: 1.0666\n",
            "epoch: 86, loss_train: 1.0512, loss_valid: 1.0665\n",
            "epoch: 87, loss_train: 1.0511, loss_valid: 1.0664\n",
            "epoch: 88, loss_train: 1.0510, loss_valid: 1.0663\n",
            "epoch: 89, loss_train: 1.0508, loss_valid: 1.0661\n",
            "epoch: 90, loss_train: 1.0507, loss_valid: 1.0660\n",
            "epoch: 91, loss_train: 1.0506, loss_valid: 1.0659\n",
            "epoch: 92, loss_train: 1.0505, loss_valid: 1.0658\n",
            "epoch: 93, loss_train: 1.0503, loss_valid: 1.0657\n",
            "epoch: 94, loss_train: 1.0502, loss_valid: 1.0655\n",
            "epoch: 95, loss_train: 1.0501, loss_valid: 1.0654\n",
            "epoch: 96, loss_train: 1.0500, loss_valid: 1.0653\n",
            "epoch: 97, loss_train: 1.0499, loss_valid: 1.0652\n",
            "epoch: 98, loss_train: 1.0497, loss_valid: 1.0651\n",
            "epoch: 99, loss_train: 1.0496, loss_valid: 1.0650\n",
            "epoch: 100, loss_train: 1.0495, loss_valid: 1.0648\n"
          ]
        }
      ]
    },
    {
      "cell_type": "markdown",
      "source": [
        "**74. 正解率の計測**\n",
        "\n",
        "問題73で求めた行列を用いて学習データおよび評価データの事例を分類したとき，その正解率をそれぞれ求めよ．"
      ],
      "metadata": {
        "id": "JcotgOiK8BZj"
      }
    },
    {
      "cell_type": "code",
      "source": [
        "def acc(pred, y):\n",
        "  pred = torch.max(pred.data,1)[1]\n",
        "  return (pred == y).sum().item() / len(y)"
      ],
      "metadata": {
        "id": "9kQRUTGul4ID"
      },
      "execution_count": null,
      "outputs": []
    },
    {
      "cell_type": "code",
      "source": [
        "# 正解率の確認\n",
        "acc_train = acc(y_train_pred, y_train)\n",
        "acc_valid = acc(y_valid_pred, y_valid)\n",
        "print(f'正解率（学習データ）：{acc_train:.3f}')\n",
        "print(f'正解率（評価データ）：{acc_valid:.3f}')"
      ],
      "metadata": {
        "colab": {
          "base_uri": "https://localhost:8080/"
        },
        "id": "vj_LgKPUdfVY",
        "outputId": "97b3a3d3-fc20-4b9c-d6f3-22ecfa356574"
      },
      "execution_count": null,
      "outputs": [
        {
          "output_type": "stream",
          "name": "stdout",
          "text": [
            "正解率（学習データ）：0.782\n",
            "正解率（評価データ）：0.763\n"
          ]
        }
      ]
    },
    {
      "cell_type": "markdown",
      "source": [
        "**75. 損失と正解率のプロット**\n",
        "\n",
        "問題73のコードを改変し，各エポックのパラメータ更新が完了するたびに，訓練データでの損失，正解率，検証データでの損失，正解率をグラフにプロットし，学習の進捗状況を確認できるようにせよ．"
      ],
      "metadata": {
        "id": "k2urfBD-8Bca"
      }
    },
    {
      "cell_type": "code",
      "source": [
        "optimizer = torch.optim.SGD(m.parameters(), lr=0.1)\n",
        "\n",
        "num_epochs = 100\n",
        "log_train = []\n",
        "log_valid = []\n",
        "for epoch in range(num_epochs):\n",
        "  m.train()\n",
        "\n",
        "  y_train_pred = torch.softmax(m.forward(X_train), dim=1)\n",
        "  y_valid_pred = torch.softmax(m.forward(X_valid), dim=1)\n",
        "\n",
        "  loss_train = loss(y_train_pred, y_train)\n",
        "  loss_valid = loss(y_valid_pred, y_valid)\n",
        "\n",
        "  loss_train.backward()\n",
        "  optimizer.step()\n",
        "  optimizer.zero_grad()\n",
        "\n",
        "  # 正解率の算出\n",
        "  acc_train = acc(y_train_pred, y_train)\n",
        "  acc_valid = acc(y_valid_pred, y_valid)\n",
        "  log_train.append([loss_train, acc_train])\n",
        "  log_valid.append([loss_valid, acc_valid])\n",
        "\n",
        "  # ログを出力\n",
        "  print(f'epoch: {epoch + 1}, loss_train: {loss_train:.4f}, accuracy_train: {acc_train:.4f}, loss_valid: {loss_valid:.4f}, accuracy_valid: {acc_valid:.4f}')"
      ],
      "metadata": {
        "colab": {
          "base_uri": "https://localhost:8080/"
        },
        "id": "G_sdCG_bfTNv",
        "outputId": "c1178261-16d1-41f0-a9bb-242937a42cf6"
      },
      "execution_count": null,
      "outputs": [
        {
          "output_type": "stream",
          "name": "stdout",
          "text": [
            "epoch: 1, loss_train: 1.0305, accuracy_train: 0.7823, loss_valid: 1.0465, accuracy_valid: 0.7639\n",
            "epoch: 2, loss_train: 1.0304, accuracy_train: 0.7823, loss_valid: 1.0465, accuracy_valid: 0.7639\n",
            "epoch: 3, loss_train: 1.0303, accuracy_train: 0.7823, loss_valid: 1.0464, accuracy_valid: 0.7639\n",
            "epoch: 4, loss_train: 1.0302, accuracy_train: 0.7823, loss_valid: 1.0463, accuracy_valid: 0.7639\n",
            "epoch: 5, loss_train: 1.0302, accuracy_train: 0.7823, loss_valid: 1.0462, accuracy_valid: 0.7639\n",
            "epoch: 6, loss_train: 1.0301, accuracy_train: 0.7823, loss_valid: 1.0462, accuracy_valid: 0.7639\n",
            "epoch: 7, loss_train: 1.0300, accuracy_train: 0.7823, loss_valid: 1.0461, accuracy_valid: 0.7639\n",
            "epoch: 8, loss_train: 1.0299, accuracy_train: 0.7823, loss_valid: 1.0460, accuracy_valid: 0.7639\n",
            "epoch: 9, loss_train: 1.0299, accuracy_train: 0.7823, loss_valid: 1.0460, accuracy_valid: 0.7639\n",
            "epoch: 10, loss_train: 1.0298, accuracy_train: 0.7823, loss_valid: 1.0459, accuracy_valid: 0.7639\n",
            "epoch: 11, loss_train: 1.0297, accuracy_train: 0.7824, loss_valid: 1.0458, accuracy_valid: 0.7639\n",
            "epoch: 12, loss_train: 1.0297, accuracy_train: 0.7824, loss_valid: 1.0458, accuracy_valid: 0.7639\n",
            "epoch: 13, loss_train: 1.0296, accuracy_train: 0.7824, loss_valid: 1.0457, accuracy_valid: 0.7639\n",
            "epoch: 14, loss_train: 1.0295, accuracy_train: 0.7824, loss_valid: 1.0456, accuracy_valid: 0.7639\n",
            "epoch: 15, loss_train: 1.0294, accuracy_train: 0.7824, loss_valid: 1.0456, accuracy_valid: 0.7639\n",
            "epoch: 16, loss_train: 1.0294, accuracy_train: 0.7824, loss_valid: 1.0455, accuracy_valid: 0.7639\n",
            "epoch: 17, loss_train: 1.0293, accuracy_train: 0.7824, loss_valid: 1.0454, accuracy_valid: 0.7639\n",
            "epoch: 18, loss_train: 1.0292, accuracy_train: 0.7824, loss_valid: 1.0453, accuracy_valid: 0.7639\n",
            "epoch: 19, loss_train: 1.0292, accuracy_train: 0.7824, loss_valid: 1.0453, accuracy_valid: 0.7639\n",
            "epoch: 20, loss_train: 1.0291, accuracy_train: 0.7825, loss_valid: 1.0452, accuracy_valid: 0.7639\n",
            "epoch: 21, loss_train: 1.0290, accuracy_train: 0.7825, loss_valid: 1.0451, accuracy_valid: 0.7639\n",
            "epoch: 22, loss_train: 1.0289, accuracy_train: 0.7825, loss_valid: 1.0451, accuracy_valid: 0.7639\n",
            "epoch: 23, loss_train: 1.0289, accuracy_train: 0.7825, loss_valid: 1.0450, accuracy_valid: 0.7639\n",
            "epoch: 24, loss_train: 1.0288, accuracy_train: 0.7825, loss_valid: 1.0449, accuracy_valid: 0.7639\n",
            "epoch: 25, loss_train: 1.0287, accuracy_train: 0.7826, loss_valid: 1.0449, accuracy_valid: 0.7639\n",
            "epoch: 26, loss_train: 1.0287, accuracy_train: 0.7826, loss_valid: 1.0448, accuracy_valid: 0.7639\n",
            "epoch: 27, loss_train: 1.0286, accuracy_train: 0.7826, loss_valid: 1.0447, accuracy_valid: 0.7639\n",
            "epoch: 28, loss_train: 1.0285, accuracy_train: 0.7826, loss_valid: 1.0447, accuracy_valid: 0.7639\n",
            "epoch: 29, loss_train: 1.0284, accuracy_train: 0.7826, loss_valid: 1.0446, accuracy_valid: 0.7639\n",
            "epoch: 30, loss_train: 1.0284, accuracy_train: 0.7826, loss_valid: 1.0445, accuracy_valid: 0.7639\n",
            "epoch: 31, loss_train: 1.0283, accuracy_train: 0.7826, loss_valid: 1.0445, accuracy_valid: 0.7639\n",
            "epoch: 32, loss_train: 1.0282, accuracy_train: 0.7826, loss_valid: 1.0444, accuracy_valid: 0.7639\n",
            "epoch: 33, loss_train: 1.0282, accuracy_train: 0.7826, loss_valid: 1.0443, accuracy_valid: 0.7639\n",
            "epoch: 34, loss_train: 1.0281, accuracy_train: 0.7826, loss_valid: 1.0443, accuracy_valid: 0.7639\n",
            "epoch: 35, loss_train: 1.0280, accuracy_train: 0.7826, loss_valid: 1.0442, accuracy_valid: 0.7639\n",
            "epoch: 36, loss_train: 1.0280, accuracy_train: 0.7826, loss_valid: 1.0441, accuracy_valid: 0.7639\n",
            "epoch: 37, loss_train: 1.0279, accuracy_train: 0.7826, loss_valid: 1.0441, accuracy_valid: 0.7639\n",
            "epoch: 38, loss_train: 1.0278, accuracy_train: 0.7826, loss_valid: 1.0440, accuracy_valid: 0.7639\n",
            "epoch: 39, loss_train: 1.0278, accuracy_train: 0.7826, loss_valid: 1.0439, accuracy_valid: 0.7639\n",
            "epoch: 40, loss_train: 1.0277, accuracy_train: 0.7826, loss_valid: 1.0439, accuracy_valid: 0.7639\n",
            "epoch: 41, loss_train: 1.0276, accuracy_train: 0.7826, loss_valid: 1.0438, accuracy_valid: 0.7639\n",
            "epoch: 42, loss_train: 1.0276, accuracy_train: 0.7826, loss_valid: 1.0437, accuracy_valid: 0.7639\n",
            "epoch: 43, loss_train: 1.0275, accuracy_train: 0.7826, loss_valid: 1.0437, accuracy_valid: 0.7639\n",
            "epoch: 44, loss_train: 1.0274, accuracy_train: 0.7826, loss_valid: 1.0436, accuracy_valid: 0.7639\n",
            "epoch: 45, loss_train: 1.0274, accuracy_train: 0.7826, loss_valid: 1.0436, accuracy_valid: 0.7639\n",
            "epoch: 46, loss_train: 1.0273, accuracy_train: 0.7826, loss_valid: 1.0435, accuracy_valid: 0.7639\n",
            "epoch: 47, loss_train: 1.0272, accuracy_train: 0.7826, loss_valid: 1.0434, accuracy_valid: 0.7639\n",
            "epoch: 48, loss_train: 1.0272, accuracy_train: 0.7826, loss_valid: 1.0434, accuracy_valid: 0.7639\n",
            "epoch: 49, loss_train: 1.0271, accuracy_train: 0.7826, loss_valid: 1.0433, accuracy_valid: 0.7639\n",
            "epoch: 50, loss_train: 1.0270, accuracy_train: 0.7826, loss_valid: 1.0432, accuracy_valid: 0.7639\n",
            "epoch: 51, loss_train: 1.0270, accuracy_train: 0.7826, loss_valid: 1.0432, accuracy_valid: 0.7639\n",
            "epoch: 52, loss_train: 1.0269, accuracy_train: 0.7826, loss_valid: 1.0431, accuracy_valid: 0.7639\n",
            "epoch: 53, loss_train: 1.0268, accuracy_train: 0.7826, loss_valid: 1.0430, accuracy_valid: 0.7639\n",
            "epoch: 54, loss_train: 1.0268, accuracy_train: 0.7826, loss_valid: 1.0430, accuracy_valid: 0.7639\n",
            "epoch: 55, loss_train: 1.0267, accuracy_train: 0.7826, loss_valid: 1.0429, accuracy_valid: 0.7639\n",
            "epoch: 56, loss_train: 1.0266, accuracy_train: 0.7826, loss_valid: 1.0429, accuracy_valid: 0.7639\n",
            "epoch: 57, loss_train: 1.0266, accuracy_train: 0.7826, loss_valid: 1.0428, accuracy_valid: 0.7639\n",
            "epoch: 58, loss_train: 1.0265, accuracy_train: 0.7826, loss_valid: 1.0427, accuracy_valid: 0.7639\n",
            "epoch: 59, loss_train: 1.0264, accuracy_train: 0.7827, loss_valid: 1.0427, accuracy_valid: 0.7639\n",
            "epoch: 60, loss_train: 1.0264, accuracy_train: 0.7827, loss_valid: 1.0426, accuracy_valid: 0.7639\n",
            "epoch: 61, loss_train: 1.0263, accuracy_train: 0.7827, loss_valid: 1.0425, accuracy_valid: 0.7639\n",
            "epoch: 62, loss_train: 1.0262, accuracy_train: 0.7827, loss_valid: 1.0425, accuracy_valid: 0.7639\n",
            "epoch: 63, loss_train: 1.0262, accuracy_train: 0.7828, loss_valid: 1.0424, accuracy_valid: 0.7639\n",
            "epoch: 64, loss_train: 1.0261, accuracy_train: 0.7828, loss_valid: 1.0423, accuracy_valid: 0.7639\n",
            "epoch: 65, loss_train: 1.0260, accuracy_train: 0.7828, loss_valid: 1.0423, accuracy_valid: 0.7639\n",
            "epoch: 66, loss_train: 1.0260, accuracy_train: 0.7828, loss_valid: 1.0422, accuracy_valid: 0.7639\n",
            "epoch: 67, loss_train: 1.0259, accuracy_train: 0.7828, loss_valid: 1.0422, accuracy_valid: 0.7639\n",
            "epoch: 68, loss_train: 1.0258, accuracy_train: 0.7828, loss_valid: 1.0421, accuracy_valid: 0.7639\n",
            "epoch: 69, loss_train: 1.0258, accuracy_train: 0.7829, loss_valid: 1.0420, accuracy_valid: 0.7639\n",
            "epoch: 70, loss_train: 1.0257, accuracy_train: 0.7829, loss_valid: 1.0420, accuracy_valid: 0.7639\n",
            "epoch: 71, loss_train: 1.0256, accuracy_train: 0.7829, loss_valid: 1.0419, accuracy_valid: 0.7639\n",
            "epoch: 72, loss_train: 1.0256, accuracy_train: 0.7829, loss_valid: 1.0419, accuracy_valid: 0.7639\n",
            "epoch: 73, loss_train: 1.0255, accuracy_train: 0.7829, loss_valid: 1.0418, accuracy_valid: 0.7639\n",
            "epoch: 74, loss_train: 1.0255, accuracy_train: 0.7829, loss_valid: 1.0417, accuracy_valid: 0.7639\n",
            "epoch: 75, loss_train: 1.0254, accuracy_train: 0.7829, loss_valid: 1.0417, accuracy_valid: 0.7639\n",
            "epoch: 76, loss_train: 1.0253, accuracy_train: 0.7829, loss_valid: 1.0416, accuracy_valid: 0.7639\n",
            "epoch: 77, loss_train: 1.0253, accuracy_train: 0.7829, loss_valid: 1.0416, accuracy_valid: 0.7639\n",
            "epoch: 78, loss_train: 1.0252, accuracy_train: 0.7829, loss_valid: 1.0415, accuracy_valid: 0.7639\n",
            "epoch: 79, loss_train: 1.0251, accuracy_train: 0.7829, loss_valid: 1.0414, accuracy_valid: 0.7639\n",
            "epoch: 80, loss_train: 1.0251, accuracy_train: 0.7829, loss_valid: 1.0414, accuracy_valid: 0.7639\n",
            "epoch: 81, loss_train: 1.0250, accuracy_train: 0.7829, loss_valid: 1.0413, accuracy_valid: 0.7639\n",
            "epoch: 82, loss_train: 1.0249, accuracy_train: 0.7829, loss_valid: 1.0413, accuracy_valid: 0.7639\n",
            "epoch: 83, loss_train: 1.0249, accuracy_train: 0.7829, loss_valid: 1.0412, accuracy_valid: 0.7639\n",
            "epoch: 84, loss_train: 1.0248, accuracy_train: 0.7829, loss_valid: 1.0411, accuracy_valid: 0.7639\n",
            "epoch: 85, loss_train: 1.0248, accuracy_train: 0.7829, loss_valid: 1.0411, accuracy_valid: 0.7639\n",
            "epoch: 86, loss_train: 1.0247, accuracy_train: 0.7829, loss_valid: 1.0410, accuracy_valid: 0.7639\n",
            "epoch: 87, loss_train: 1.0246, accuracy_train: 0.7829, loss_valid: 1.0410, accuracy_valid: 0.7639\n",
            "epoch: 88, loss_train: 1.0246, accuracy_train: 0.7829, loss_valid: 1.0409, accuracy_valid: 0.7639\n",
            "epoch: 89, loss_train: 1.0245, accuracy_train: 0.7829, loss_valid: 1.0408, accuracy_valid: 0.7639\n",
            "epoch: 90, loss_train: 1.0245, accuracy_train: 0.7829, loss_valid: 1.0408, accuracy_valid: 0.7639\n",
            "epoch: 91, loss_train: 1.0244, accuracy_train: 0.7829, loss_valid: 1.0407, accuracy_valid: 0.7639\n",
            "epoch: 92, loss_train: 1.0243, accuracy_train: 0.7829, loss_valid: 1.0407, accuracy_valid: 0.7639\n",
            "epoch: 93, loss_train: 1.0243, accuracy_train: 0.7829, loss_valid: 1.0406, accuracy_valid: 0.7639\n",
            "epoch: 94, loss_train: 1.0242, accuracy_train: 0.7829, loss_valid: 1.0405, accuracy_valid: 0.7639\n",
            "epoch: 95, loss_train: 1.0241, accuracy_train: 0.7829, loss_valid: 1.0405, accuracy_valid: 0.7639\n",
            "epoch: 96, loss_train: 1.0241, accuracy_train: 0.7829, loss_valid: 1.0404, accuracy_valid: 0.7639\n",
            "epoch: 97, loss_train: 1.0240, accuracy_train: 0.7829, loss_valid: 1.0404, accuracy_valid: 0.7639\n",
            "epoch: 98, loss_train: 1.0240, accuracy_train: 0.7829, loss_valid: 1.0403, accuracy_valid: 0.7639\n",
            "epoch: 99, loss_train: 1.0239, accuracy_train: 0.7829, loss_valid: 1.0402, accuracy_valid: 0.7639\n",
            "epoch: 100, loss_train: 1.0238, accuracy_train: 0.7829, loss_valid: 1.0402, accuracy_valid: 0.7639\n"
          ]
        }
      ]
    },
    {
      "cell_type": "code",
      "source": [
        "import numpy as np\n",
        "from matplotlib import pyplot as plt\n",
        "\n",
        "# 可視化\n",
        "fig, ax = plt.subplots(1, 2, figsize=(15, 5))\n",
        "ax[0].plot(np.array(log_train).T[0], label='train')\n",
        "ax[0].plot(np.array(log_valid).T[0], label='valid')\n",
        "ax[0].set_xlabel('epoch')\n",
        "ax[0].set_ylabel('loss')\n",
        "ax[0].legend()\n",
        "ax[1].plot(np.array(log_train).T[1], label='train')\n",
        "ax[1].plot(np.array(log_valid).T[1], label='valid')\n",
        "ax[1].set_xlabel('epoch')\n",
        "ax[1].set_ylabel('accuracy')\n",
        "ax[1].legend()\n",
        "plt.show()"
      ],
      "metadata": {
        "colab": {
          "base_uri": "https://localhost:8080/",
          "height": 311
        },
        "id": "RDVkejDYwNk4",
        "outputId": "11944938-08f0-4299-db03-d1b061efc5b0"
      },
      "execution_count": null,
      "outputs": [
        {
          "output_type": "display_data",
          "data": {
            "image/png": "[encoded data removed]",
            "text/plain": [
              "<Figure size 1080x360 with 2 Axes>"
            ]
          },
          "metadata": {
            "needs_background": "light"
          }
        }
      ]
    },
    {
      "cell_type": "markdown",
      "source": [
        "**76. チェックポイント**\n",
        "\n",
        "問題75のコードを改変し，各エポックのパラメータ更新が完了するたびに，チェックポイント（学習途中のパラメータ（重み行列など）の値や最適化アルゴリズムの内部状態）をファイルに書き出せ．"
      ],
      "metadata": {
        "id": "cGmPhuGj8Bfa"
      }
    },
    {
      "cell_type": "markdown",
      "source": [
        "**77. ミニバッチ化**\n",
        "\n",
        "問題76のコードを改変し，B事例ごとに損失・勾配を計算し，行列Wの値を更新せよ（ミニバッチ化）．Bの値を1,2,4,8,…と変化させながら，1エポックの学習に要する時間を比較せよ．"
      ],
      "metadata": {
        "id": "2OQjhoDf8BiP"
      }
    },
    {
      "cell_type": "markdown",
      "source": [
        "**78. GPU上での学習**\n",
        "\n",
        "問題77のコードを改変し，GPU上で学習を実行せよ．"
      ],
      "metadata": {
        "id": "ky2OHFx_8Bky"
      }
    },
    {
      "cell_type": "markdown",
      "source": [
        "**79. 多層ニューラルネットワーク**\n",
        "\n",
        "問題78のコードを改変し，バイアス項の導入や多層化など，ニューラルネットワークの形状を変更しながら，高性能なカテゴリ分類器を構築せよ．"
      ],
      "metadata": {
        "id": "Eb5aZqu8-j2p"
      }
    },
    {
      "cell_type": "code",
      "execution_count": null,
      "metadata": {
        "id": "rvgZg88smrYj"
      },
      "outputs": [],
      "source": [
        ""
      ]
    }
  ]
}