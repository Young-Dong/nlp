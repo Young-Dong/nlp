{
  "nbformat": 4,
  "nbformat_minor": 0,
  "metadata": {
    "colab": {
      "name": "nlp100_8.ipynb",
      "provenance": [],
      "collapsed_sections": [],
      "mount_file_id": "1q27_3f4aulDvYJB1TGQWCyDlfmdTZC1Z",
      "authorship_tag": "ABX9TyOseVyVSQSNbiaIXu3t50IQ",
      "include_colab_link": true
    },
    "kernelspec": {
      "name": "python3",
      "display_name": "Python 3"
    },
    "language_info": {
      "name": "python"
    },
    "accelerator": "GPU"
  },
  "cells": [
    {
      "cell_type": "markdown",
      "metadata": {
        "id": "view-in-github",
        "colab_type": "text"
      },
      "source": [
        "<a href=\"https://colab.research.google.com/github/Young-Dong/nlp/blob/main/nlp100_8.ipynb\" target=\"_parent\"><img src=\"https://colab.research.google.com/assets/colab-badge.svg\" alt=\"Open In Colab\"/></a>"
      ]
    },
    {
      "cell_type": "markdown",
      "source": [
        "第8章: ニューラルネット\n",
        "\n",
        "第6章で取り組んだニュース記事のカテゴリ分類を題材として，ニューラルネットワークでカテゴリ分類モデルを実装する．なお，この章ではPyTorch, TensorFlow, Chainerなどの機械学習プラットフォームを活用せよ．"
      ],
      "metadata": {
        "id": "9s2nJWBMnjR5"
      }
    },
    {
      "cell_type": "code",
      "source": [
        "!wget https://archive.ics.uci.edu/ml/machine-learning-databases/00359/NewsAggregatorDataset.zip\n",
        "\n",
        "import zipfile\n",
        "import pandas as pd\n",
        "from sklearn.model_selection import train_test_split\n",
        "\n",
        "\n",
        "with zipfile.ZipFile('NewsAggregatorDataset.zip') as f:\n",
        "    f.extractall('data')\n",
        "\n",
        "df = pd.read_csv('data/newsCorpora.csv', sep='\\t'\n",
        "   ,header=None, names=['ID','TITLE','URL','PUBLISHER','CATEGORY','STORY','HOSTNAME','TIMESTAMP'])\n",
        "target = ['Reuters', 'Huffington Post', 'Businessweek', 'Contactmusic.com', 'Daily Mail']\n",
        "df_target = df[df['PUBLISHER'].isin(target)]"
      ],
      "metadata": {
        "id": "uPfNfzkg50pX",
        "colab": {
          "base_uri": "https://localhost:8080/"
        },
        "outputId": "33b0aea5-dcd7-455b-c458-46d282962dde"
      },
      "execution_count": 1,
      "outputs": [
        {
          "output_type": "stream",
          "name": "stdout",
          "text": [
            "--2022-02-24 11:22:44--  https://archive.ics.uci.edu/ml/machine-learning-databases/00359/NewsAggregatorDataset.zip\n",
            "Resolving archive.ics.uci.edu (archive.ics.uci.edu)... 128.195.10.252\n",
            "Connecting to archive.ics.uci.edu (archive.ics.uci.edu)|128.195.10.252|:443... connected.\n",
            "HTTP request sent, awaiting response... 200 OK\n",
            "Length: 29224203 (28M) [application/x-httpd-php]\n",
            "Saving to: ‘NewsAggregatorDataset.zip’\n",
            "\n",
            "NewsAggregatorDatas 100%[===================>]  27.87M  33.5MB/s    in 0.8s    \n",
            "\n",
            "2022-02-24 11:22:45 (33.5 MB/s) - ‘NewsAggregatorDataset.zip’ saved [29224203/29224203]\n",
            "\n"
          ]
        }
      ]
    },
    {
      "cell_type": "code",
      "source": [
        "df_target.head()"
      ],
      "metadata": {
        "colab": {
          "base_uri": "https://localhost:8080/",
          "height": 206
        },
        "id": "0Xg0OFv_SbKd",
        "outputId": "1d52fb78-4fe2-453a-e1db-4bc6d6d46347"
      },
      "execution_count": 2,
      "outputs": [
        {
          "output_type": "execute_result",
          "data": {
            "text/html": [
              "\n",
              "  <div id=\"df-23a6b3ca-5f3a-4351-8452-259748e60243\">\n",
              "    <div class=\"colab-df-container\">\n",
              "      <div>\n",
              "<style scoped>\n",
              "    .dataframe tbody tr th:only-of-type {\n",
              "        vertical-align: middle;\n",
              "    }\n",
              "\n",
              "    .dataframe tbody tr th {\n",
              "        vertical-align: top;\n",
              "    }\n",
              "\n",
              "    .dataframe thead th {\n",
              "        text-align: right;\n",
              "    }\n",
              "</style>\n",
              "<table border=\"1\" class=\"dataframe\">\n",
              "  <thead>\n",
              "    <tr style=\"text-align: right;\">\n",
              "      <th></th>\n",
              "      <th>ID</th>\n",
              "      <th>TITLE</th>\n",
              "      <th>URL</th>\n",
              "      <th>PUBLISHER</th>\n",
              "      <th>CATEGORY</th>\n",
              "      <th>STORY</th>\n",
              "      <th>HOSTNAME</th>\n",
              "      <th>TIMESTAMP</th>\n",
              "    </tr>\n",
              "  </thead>\n",
              "  <tbody>\n",
              "    <tr>\n",
              "      <th>12</th>\n",
              "      <td>13</td>\n",
              "      <td>Europe reaches crunch point on banking union</td>\n",
              "      <td>http://in.reuters.com/article/2014/03/10/eu-ba...</td>\n",
              "      <td>Reuters</td>\n",
              "      <td>b</td>\n",
              "      <td>dPhGU51DcrolUIMxbRm0InaHGA2XM</td>\n",
              "      <td>in.reuters.com</td>\n",
              "      <td>1394470501755</td>\n",
              "    </tr>\n",
              "    <tr>\n",
              "      <th>13</th>\n",
              "      <td>14</td>\n",
              "      <td>ECB FOCUS-Stronger euro drowns out ECB's messa...</td>\n",
              "      <td>http://in.reuters.com/article/2014/03/10/ecb-p...</td>\n",
              "      <td>Reuters</td>\n",
              "      <td>b</td>\n",
              "      <td>dPhGU51DcrolUIMxbRm0InaHGA2XM</td>\n",
              "      <td>in.reuters.com</td>\n",
              "      <td>1394470501948</td>\n",
              "    </tr>\n",
              "    <tr>\n",
              "      <th>19</th>\n",
              "      <td>20</td>\n",
              "      <td>Euro Anxieties Wane as Bunds Top Treasuries, S...</td>\n",
              "      <td>http://www.businessweek.com/news/2014-03-10/ge...</td>\n",
              "      <td>Businessweek</td>\n",
              "      <td>b</td>\n",
              "      <td>dPhGU51DcrolUIMxbRm0InaHGA2XM</td>\n",
              "      <td>www.businessweek.com</td>\n",
              "      <td>1394470503148</td>\n",
              "    </tr>\n",
              "    <tr>\n",
              "      <th>20</th>\n",
              "      <td>21</td>\n",
              "      <td>Noyer Says Strong Euro Creates Unwarranted Eco...</td>\n",
              "      <td>http://www.businessweek.com/news/2014-03-10/no...</td>\n",
              "      <td>Businessweek</td>\n",
              "      <td>b</td>\n",
              "      <td>dPhGU51DcrolUIMxbRm0InaHGA2XM</td>\n",
              "      <td>www.businessweek.com</td>\n",
              "      <td>1394470503366</td>\n",
              "    </tr>\n",
              "    <tr>\n",
              "      <th>29</th>\n",
              "      <td>30</td>\n",
              "      <td>REFILE-Bad loan triggers key feature in ECB ba...</td>\n",
              "      <td>http://in.reuters.com/article/2014/03/10/euroz...</td>\n",
              "      <td>Reuters</td>\n",
              "      <td>b</td>\n",
              "      <td>dPhGU51DcrolUIMxbRm0InaHGA2XM</td>\n",
              "      <td>in.reuters.com</td>\n",
              "      <td>1394470505070</td>\n",
              "    </tr>\n",
              "  </tbody>\n",
              "</table>\n",
              "</div>\n",
              "      <button class=\"colab-df-convert\" onclick=\"convertToInteractive('df-23a6b3ca-5f3a-4351-8452-259748e60243')\"\n",
              "              title=\"Convert this dataframe to an interactive table.\"\n",
              "              style=\"display:none;\">\n",
              "        \n",
              "  <svg xmlns=\"http://www.w3.org/2000/svg\" height=\"24px\"viewBox=\"0 0 24 24\"\n",
              "       width=\"24px\">\n",
              "    <path d=\"M0 0h24v24H0V0z\" fill=\"none\"/>\n",
              "    <path d=\"M18.56 5.44l.94 2.06.94-2.06 2.06-.94-2.06-.94-.94-2.06-.94 2.06-2.06.94zm-11 1L8.5 8.5l.94-2.06 2.06-.94-2.06-.94L8.5 2.5l-.94 2.06-2.06.94zm10 10l.94 2.06.94-2.06 2.06-.94-2.06-.94-.94-2.06-.94 2.06-2.06.94z\"/><path d=\"M17.41 7.96l-1.37-1.37c-.4-.4-.92-.59-1.43-.59-.52 0-1.04.2-1.43.59L10.3 9.45l-7.72 7.72c-.78.78-.78 2.05 0 2.83L4 21.41c.39.39.9.59 1.41.59.51 0 1.02-.2 1.41-.59l7.78-7.78 2.81-2.81c.8-.78.8-2.07 0-2.86zM5.41 20L4 18.59l7.72-7.72 1.47 1.35L5.41 20z\"/>\n",
              "  </svg>\n",
              "      </button>\n",
              "      \n",
              "  <style>\n",
              "    .colab-df-container {\n",
              "      display:flex;\n",
              "      flex-wrap:wrap;\n",
              "      gap: 12px;\n",
              "    }\n",
              "\n",
              "    .colab-df-convert {\n",
              "      background-color: #E8F0FE;\n",
              "      border: none;\n",
              "      border-radius: 50%;\n",
              "      cursor: pointer;\n",
              "      display: none;\n",
              "      fill: #1967D2;\n",
              "      height: 32px;\n",
              "      padding: 0 0 0 0;\n",
              "      width: 32px;\n",
              "    }\n",
              "\n",
              "    .colab-df-convert:hover {\n",
              "      background-color: #E2EBFA;\n",
              "      box-shadow: 0px 1px 2px rgba(60, 64, 67, 0.3), 0px 1px 3px 1px rgba(60, 64, 67, 0.15);\n",
              "      fill: #174EA6;\n",
              "    }\n",
              "\n",
              "    [theme=dark] .colab-df-convert {\n",
              "      background-color: #3B4455;\n",
              "      fill: #D2E3FC;\n",
              "    }\n",
              "\n",
              "    [theme=dark] .colab-df-convert:hover {\n",
              "      background-color: #434B5C;\n",
              "      box-shadow: 0px 1px 3px 1px rgba(0, 0, 0, 0.15);\n",
              "      filter: drop-shadow(0px 1px 2px rgba(0, 0, 0, 0.3));\n",
              "      fill: #FFFFFF;\n",
              "    }\n",
              "  </style>\n",
              "\n",
              "      <script>\n",
              "        const buttonEl =\n",
              "          document.querySelector('#df-23a6b3ca-5f3a-4351-8452-259748e60243 button.colab-df-convert');\n",
              "        buttonEl.style.display =\n",
              "          google.colab.kernel.accessAllowed ? 'block' : 'none';\n",
              "\n",
              "        async function convertToInteractive(key) {\n",
              "          const element = document.querySelector('#df-23a6b3ca-5f3a-4351-8452-259748e60243');\n",
              "          const dataTable =\n",
              "            await google.colab.kernel.invokeFunction('convertToInteractive',\n",
              "                                                     [key], {});\n",
              "          if (!dataTable) return;\n",
              "\n",
              "          const docLinkHtml = 'Like what you see? Visit the ' +\n",
              "            '<a target=\"_blank\" href=https://colab.research.google.com/notebooks/data_table.ipynb>data table notebook</a>'\n",
              "            + ' to learn more about interactive tables.';\n",
              "          element.innerHTML = '';\n",
              "          dataTable['output_type'] = 'display_data';\n",
              "          await google.colab.output.renderOutput(dataTable, element);\n",
              "          const docLink = document.createElement('div');\n",
              "          docLink.innerHTML = docLinkHtml;\n",
              "          element.appendChild(docLink);\n",
              "        }\n",
              "      </script>\n",
              "    </div>\n",
              "  </div>\n",
              "  "
            ],
            "text/plain": [
              "    ID  ...      TIMESTAMP\n",
              "12  13  ...  1394470501755\n",
              "13  14  ...  1394470501948\n",
              "19  20  ...  1394470503148\n",
              "20  21  ...  1394470503366\n",
              "29  30  ...  1394470505070\n",
              "\n",
              "[5 rows x 8 columns]"
            ]
          },
          "metadata": {},
          "execution_count": 2
        }
      ]
    },
    {
      "cell_type": "markdown",
      "source": [
        "**70. 単語ベクトルの和による特徴量**\n",
        "\n",
        "問題50で構築した学習データ，検証データ，評価データを行列・ベクトルに変換したい．例えば，学習データについて，すべての事例$x_i$の特徴ベクトル$x_i$を並べた行列Xと，正解ラベルを並べた行列（ベクトル）Yを作成したい．\n",
        "\n",
        "> $\n",
        "X=\n",
        "\\left(\n",
        "\\begin{array}{c} \n",
        "    x_1\\\\ x_2\\\\ ...\\\\ x_n\\\\\n",
        "\\end{array}\n",
        "\\right)\n",
        "∈R^{n×d},\n",
        "Y=\n",
        "\\left(\n",
        "\\begin{array}{c} \n",
        "    y_1\\\\ y_2\\\\ ...\\\\ y_n\\\\\n",
        "\\end{array}\n",
        "\\right)\n",
        "∈N^{n}\n",
        "$\n",
        "\n",
        "ここで，nは学習データの事例数であり，$x_i$∈$R^d$と$y_i$∈Nはそれぞれ，i∈{1,…,n}番目の事例の特徴量ベクトルと正解ラベルを表す． なお，今回は「ビジネス」「科学技術」「エンターテイメント」「健康」の4カテゴリ分類である．N<4で4未満の自然数（0を含む）を表すことにすれば，任意の事例の正解ラベル$y_i$は$y_i$∈N<4で表現できる． 以降では，ラベルの種類数をLで表す（今回の分類タスクではL=4である）．\n",
        "\n",
        "i番目の事例の特徴ベクトル$x_i$は，次式で求める．\n",
        "\n",
        "> $x_i=\\frac{1}{T_i}∑_{t=1}^{T_i}emb(w_i,t)$\n",
        "\n",
        "ここで，i番目の事例は$T_i$個の（記事見出しの）単語列($w_{i,1},w_{i,2},…,w_{i,Ti}$)から構成され，emb(w)∈$R^d$は単語wに対応する単語ベクトル（次元数はd）である．すなわち，i番目の事例の記事見出しを，その見出しに含まれる単語のベクトルの平均で表現したものが$x_i$である．今回は単語ベクトルとして，問題60でダウンロードしたものを用いればよい．300次元の単語ベクトルを用いたので，d=300である．\n",
        "\n",
        "i番目の事例のラベル$y_i$は，次のように定義する．\n",
        "\n",
        "> $\n",
        "y_i=\\begin{cases}\n",
        "  {0 (記事x_iが「ビジネス」カテゴリの場合)\\\\\n",
        "  1 (記事x_iが「科学技術」カテゴリの場合)\\\\\n",
        "  2 (記事x_iが「エンターテイメント」カテゴリの場合)\\\\\n",
        "  3 (記事x_iが「健康」カテゴリの場合)}\n",
        "\\end{cases}\n",
        "$\n",
        "\n",
        "なお，カテゴリ名とラベルの番号が一対一で対応付いていれば，上式の通りの対応付けでなくてもよい．\n",
        "\n",
        "以上の仕様に基づき，以下の行列・ベクトルを作成し，ファイルに保存せよ．\n",
        "\n",
        "・学習データの特徴量行列: $X_{train}∈R^{Nt×d}$\n",
        "\n",
        "・学習データのラベルベクトル: $Y_{train}∈N^{Nt}$\n",
        "\n",
        "・検証データの特徴量行列: $X_{valid}∈R^{Nv×d}$\n",
        "\n",
        "・検証データのラベルベクトル: $Y_{valid}∈N^{Nv}$\n",
        "\n",
        "・評価データの特徴量行列: $X_{test}∈R^{Ne×d}$\n",
        "\n",
        "・評価データのラベルベクトル: $Y_{test}∈N^{Ne}$\n",
        "\n",
        "なお，$N_t,N_v,N_e$はそれぞれ，学習データの事例数，検証データの事例数，評価データの事例数である．"
      ],
      "metadata": {
        "id": "RwBpYmMNr4zp"
      }
    },
    {
      "cell_type": "code",
      "source": [
        "train, non_train = train_test_split(df_target, test_size=0.2, stratify=df_target['CATEGORY'], random_state=42)\n",
        "valid, test = train_test_split(non_train, test_size=0.5, stratify=non_train['CATEGORY'], random_state=42)"
      ],
      "metadata": {
        "id": "oxl9v1-pXWzF"
      },
      "execution_count": 3,
      "outputs": []
    },
    {
      "cell_type": "code",
      "source": [
        "# 事例数の確認\n",
        "print('【学習データ】')\n",
        "print(train['CATEGORY'].value_counts())\n",
        "print('【検証データ】')\n",
        "print(valid['CATEGORY'].value_counts())\n",
        "print('【評価データ】')\n",
        "print(test['CATEGORY'].value_counts())"
      ],
      "metadata": {
        "colab": {
          "base_uri": "https://localhost:8080/"
        },
        "id": "MWLEzEHOnLOU",
        "outputId": "63308b68-70fd-477f-a63c-517c1b0ece7b"
      },
      "execution_count": 4,
      "outputs": [
        {
          "output_type": "stream",
          "name": "stdout",
          "text": [
            "【学習データ】\n",
            "b    4502\n",
            "e    4223\n",
            "t    1219\n",
            "m     728\n",
            "Name: CATEGORY, dtype: int64\n",
            "【検証データ】\n",
            "b    562\n",
            "e    528\n",
            "t    153\n",
            "m     91\n",
            "Name: CATEGORY, dtype: int64\n",
            "【評価データ】\n",
            "b    563\n",
            "e    528\n",
            "t    152\n",
            "m     91\n",
            "Name: CATEGORY, dtype: int64\n"
          ]
        }
      ]
    },
    {
      "cell_type": "code",
      "source": [
        "from gensim.models.keyedvectors import KeyedVectors\n",
        "from gensim.models import word2vec\n",
        "\n",
        "# official document https://radimrehurek.com/gensim/auto_examples/index.html#documentation\n",
        "\n",
        "data = '/content/drive/MyDrive/Colab Notebooks/GoogleNews-vectors-negative300.bin.gz'\n",
        "model = KeyedVectors.load_word2vec_format(data, binary=True)"
      ],
      "metadata": {
        "id": "Iw__AH5KXeVs"
      },
      "execution_count": 5,
      "outputs": []
    },
    {
      "cell_type": "code",
      "source": [
        "import string\n",
        "import torch\n",
        "\n",
        "def transform_w2v(text):\n",
        "  table = str.maketrans(string.punctuation, ' '*len(string.punctuation))\n",
        "  words = text.translate(table).split()  # 記号をスペースに置換後、スペースで分割してリスト化\n",
        "  vec = [model[word] for word in words if word in model]  # 1語ずつベクトル化\n",
        "\n",
        "  return torch.tensor(sum(vec) / len(vec))  # 平均ベクトルをTensor型に変換して出力"
      ],
      "metadata": {
        "id": "ud0EuTj-YntT"
      },
      "execution_count": 6,
      "outputs": []
    },
    {
      "cell_type": "code",
      "source": [
        "# 特徴ベクトルの作成\n",
        "X_train = torch.stack([transform_w2v(text) for text in train['TITLE']])\n",
        "X_valid = torch.stack([transform_w2v(text) for text in valid['TITLE']])\n",
        "X_test = torch.stack([transform_w2v(text) for text in test['TITLE']])\n",
        "\n",
        "print(X_train.size())\n",
        "print(X_train)"
      ],
      "metadata": {
        "colab": {
          "base_uri": "https://localhost:8080/"
        },
        "id": "1wgWWwsMYqN2",
        "outputId": "4bd9a13c-0302-49ea-827e-a7ab528de386"
      },
      "execution_count": 7,
      "outputs": [
        {
          "output_type": "stream",
          "name": "stdout",
          "text": [
            "torch.Size([10672, 300])\n",
            "tensor([[ 0.0085,  0.0628,  0.0180,  ..., -0.1601,  0.0352,  0.1221],\n",
            "        [-0.0952,  0.0496,  0.0650,  ...,  0.0259, -0.0036,  0.1435],\n",
            "        [ 0.0583,  0.0295, -0.0386,  ...,  0.0912,  0.1007, -0.1357],\n",
            "        ...,\n",
            "        [ 0.0287,  0.0165, -0.0757,  ..., -0.0712,  0.0378, -0.0391],\n",
            "        [-0.0738, -0.0352, -0.0405,  ...,  0.0280,  0.0646,  0.0919],\n",
            "        [ 0.0394,  0.0317,  0.0094,  ...,  0.0160,  0.0709,  0.0104]])\n"
          ]
        }
      ]
    },
    {
      "cell_type": "code",
      "source": [
        "# ラベルベクトルの作成\n",
        "category_dict = {'b': 0, 't': 1, 'e': 2, 'm': 3}\n",
        "y_train = torch.LongTensor([category_dict[x] for x in train['CATEGORY']])\n",
        "y_valid = torch.LongTensor([category_dict[x] for x in valid['CATEGORY']])\n",
        "y_test = torch.LongTensor([category_dict[x] for x in test['CATEGORY']])\n",
        "\n",
        "print(y_train.size())\n",
        "print(y_train)"
      ],
      "metadata": {
        "id": "sSS3B_UeT67P",
        "colab": {
          "base_uri": "https://localhost:8080/"
        },
        "outputId": "bb82fafe-1a98-4828-f21c-b2d7a9c88724"
      },
      "execution_count": 8,
      "outputs": [
        {
          "output_type": "stream",
          "name": "stdout",
          "text": [
            "torch.Size([10672])\n",
            "tensor([2, 0, 1,  ..., 2, 0, 0])\n"
          ]
        }
      ]
    },
    {
      "cell_type": "code",
      "source": [
        "# 保存\n",
        "torch.save(X_train, 'X_train.pt')\n",
        "torch.save(X_valid, 'X_valid.pt')\n",
        "torch.save(X_test, 'X_test.pt')\n",
        "torch.save(y_train, 'y_train.pt')\n",
        "torch.save(y_valid, 'y_valid.pt')\n",
        "torch.save(y_test, 'y_test.pt')"
      ],
      "metadata": {
        "id": "hnsp3ESOaXjE"
      },
      "execution_count": 9,
      "outputs": []
    },
    {
      "cell_type": "markdown",
      "source": [
        "**71. 単層ニューラルネットワークによる予測**\n",
        "\n",
        "問題70で保存した行列を読み込み，学習データについて以下の計算を実行せよ．\n",
        "\n",
        "$y_1=softmax(x_1W),Y=softmax(X_{[1:4]}W)$\n",
        "\n",
        "ただし，softmaxはソフトマックス関数，X[1:4]∈R4×dは特徴ベクトルx1,x2,x3,x4を縦に並べた行列である．\n",
        "\n",
        "\n",
        "\n",
        "> $\n",
        "X_{[1:4]}=\n",
        "\\left(\n",
        "\\begin{array}{c} \n",
        "    x_1\\\\ x_2\\\\ x_3\\\\ x_4\\\\\n",
        "\\end{array}\n",
        "\\right)\n",
        "$\n",
        "\n",
        "行列$W∈R^{d×L}$は単層ニューラルネットワークの重み行列で，ここではランダムな値で初期化すればよい（問題73以降で学習して求める）．なお，$y_1∈R^L$は未学習の行列Wで事例$x_1$を分類したときに，各カテゴリに属する確率を表すベクトルである． 同様に，$Y∈R^{n×L}$は，学習データの事例$x_1,x_2,x_3,x_4$について，各カテゴリに属する確率を行列として表現している．"
      ],
      "metadata": {
        "id": "0orfKthQ8BQ4"
      }
    },
    {
      "cell_type": "code",
      "source": [
        "import torch.nn as nn\n",
        "\n",
        "# 1) Model\n",
        "# Linear model f = wx + b\n",
        "n_samples, n_features = X_train.shape\n",
        "input_size = n_features\n",
        "output_size = 4\n",
        "model = nn.Linear(input_size, output_size)"
      ],
      "metadata": {
        "id": "fkSAgweNPXKe"
      },
      "execution_count": 10,
      "outputs": []
    },
    {
      "cell_type": "code",
      "source": [
        "model(X_train)"
      ],
      "metadata": {
        "colab": {
          "base_uri": "https://localhost:8080/"
        },
        "id": "ZuwaIfNRQhCD",
        "outputId": "35f13c99-5c57-4b8d-b0bf-c83ba924f423"
      },
      "execution_count": 11,
      "outputs": [
        {
          "output_type": "execute_result",
          "data": {
            "text/plain": [
              "tensor([[ 0.0313, -0.0793, -0.0046,  0.0623],\n",
              "        [-0.0538,  0.0382,  0.0315,  0.0538],\n",
              "        [ 0.0665,  0.0704, -0.0385, -0.0305],\n",
              "        ...,\n",
              "        [ 0.0302,  0.0028,  0.0208,  0.0354],\n",
              "        [ 0.0355,  0.0493, -0.0313,  0.0261],\n",
              "        [-0.0173,  0.0845, -0.0021,  0.0719]], grad_fn=<AddmmBackward0>)"
            ]
          },
          "metadata": {},
          "execution_count": 11
        }
      ]
    },
    {
      "cell_type": "code",
      "source": [
        "y_pred = torch.softmax(model(X_train[:4]), dim=1)\n",
        "y_pred"
      ],
      "metadata": {
        "colab": {
          "base_uri": "https://localhost:8080/"
        },
        "id": "9mPVxSdN76vu",
        "outputId": "01deeb74-28c6-47e5-c31a-e44e1cd456a3"
      },
      "execution_count": 12,
      "outputs": [
        {
          "output_type": "execute_result",
          "data": {
            "text/plain": [
              "tensor([[0.2570, 0.2301, 0.2479, 0.2651],\n",
              "        [0.2326, 0.2550, 0.2533, 0.2590],\n",
              "        [0.2624, 0.2634, 0.2362, 0.2381],\n",
              "        [0.2416, 0.2653, 0.2436, 0.2494]], grad_fn=<SoftmaxBackward0>)"
            ]
          },
          "metadata": {},
          "execution_count": 12
        }
      ]
    },
    {
      "cell_type": "markdown",
      "source": [
        "**72. 損失と勾配の計算**\n",
        "\n",
        "学習データの事例$x_1$と事例集合$x_1,x_2,x_3,x_4$に対して，クロスエントロピー損失と，行列Wに対する勾配を計算せよ．なお，ある事例$x_i$に対して損失は次式で計算される．\n",
        "\n",
        "> $l_i=−log[事例x_iがy_iに分類される確率]$\n",
        "\n",
        "ただし，事例集合に対するクロスエントロピー損失は，その集合に含まれる各事例の損失の平均とする．"
      ],
      "metadata": {
        "id": "USND8r928BTr"
      }
    },
    {
      "cell_type": "code",
      "source": [
        "# 2) Loss and optimizer\n",
        "criterion = nn.CrossEntropyLoss()\n",
        "\n",
        "# Forward pass and loss\n",
        "y_predicted = model(X_train[:1])\n",
        "loss = criterion(y_predicted, y_train[:1])\n",
        "# Backward pass\n",
        "loss.backward()\n",
        "\n",
        "print(f'損失: {loss:.4f}')\n",
        "print(f'勾配: {model.weight.grad}')"
      ],
      "metadata": {
        "colab": {
          "base_uri": "https://localhost:8080/"
        },
        "id": "Jos6YoeIG_hP",
        "outputId": "59c6269d-1fc2-4a34-8355-116e8f132861"
      },
      "execution_count": 13,
      "outputs": [
        {
          "output_type": "stream",
          "name": "stdout",
          "text": [
            "損失: 1.3947\n",
            "勾配: tensor([[ 0.0022,  0.0161,  0.0046,  ..., -0.0411,  0.0091,  0.0314],\n",
            "        [ 0.0020,  0.0144,  0.0041,  ..., -0.0368,  0.0081,  0.0281],\n",
            "        [-0.0064, -0.0472, -0.0135,  ...,  0.1204, -0.0265, -0.0918],\n",
            "        [ 0.0023,  0.0166,  0.0048,  ..., -0.0424,  0.0093,  0.0324]])\n"
          ]
        }
      ]
    },
    {
      "cell_type": "markdown",
      "source": [
        "**73. 確率的勾配降下法による学習**\n",
        "\n",
        "確率的勾配降下法（SGD: Stochastic Gradient Descent）を用いて，行列Wを学習せよ．なお，学習は適当な基準で終了させればよい（例えば「100エポックで終了」など）．"
      ],
      "metadata": {
        "id": "0I8c8Bvt8BWo"
      }
    },
    {
      "cell_type": "code",
      "source": [
        "# 2) Loss and optimizer\n",
        "learning_rate = 20\n",
        "\n",
        "criterion = nn.CrossEntropyLoss()\n",
        "optimizer = torch.optim.SGD(model.parameters(), lr=learning_rate)  \n",
        "\n",
        "# 3) Training loop\n",
        "num_epochs = 100\n",
        "for epoch in range(num_epochs):\n",
        "    # Forward pass and loss\n",
        "    y_predicted = model(X_train)\n",
        "    loss = criterion(y_predicted, y_train)\n",
        "    \n",
        "    # Backward pass and update\n",
        "    loss.backward()\n",
        "    optimizer.step()\n",
        "\n",
        "    # zero grad before new step\n",
        "    optimizer.zero_grad()\n",
        "\n",
        "    if (epoch+1) % 10 == 0:\n",
        "        print(f'epoch: {epoch+1}, loss = {loss.item():.4f}')"
      ],
      "metadata": {
        "id": "58kAEq5MI5fD",
        "colab": {
          "base_uri": "https://localhost:8080/"
        },
        "outputId": "174b28f6-b5a3-4835-d0cd-18cedf2c3f81"
      },
      "execution_count": 14,
      "outputs": [
        {
          "output_type": "stream",
          "name": "stdout",
          "text": [
            "epoch: 10, loss = 0.6374\n",
            "epoch: 20, loss = 0.6308\n",
            "epoch: 30, loss = 0.4029\n",
            "epoch: 40, loss = 0.5014\n",
            "epoch: 50, loss = 0.4404\n",
            "epoch: 60, loss = 0.4168\n",
            "epoch: 70, loss = 0.3962\n",
            "epoch: 80, loss = 0.3802\n",
            "epoch: 90, loss = 0.3670\n",
            "epoch: 100, loss = 0.3559\n"
          ]
        }
      ]
    },
    {
      "cell_type": "markdown",
      "source": [
        "**74. 正解率の計測**\n",
        "\n",
        "問題73で求めた行列を用いて学習データおよび評価データの事例を分類したとき，その正解率をそれぞれ求めよ．"
      ],
      "metadata": {
        "id": "JcotgOiK8BZj"
      }
    },
    {
      "cell_type": "code",
      "source": [
        "def acc_c(pred, y):\n",
        "  pred = torch.max(pred.data,1)[1]\n",
        "  return (pred == y).sum().item() / len(y)"
      ],
      "metadata": {
        "id": "9kQRUTGul4ID"
      },
      "execution_count": 15,
      "outputs": []
    },
    {
      "cell_type": "code",
      "source": [
        "with torch.no_grad():\n",
        "  y_predicted = model(X_train)\n",
        "  y_predicted_cls = y_predicted.round()\n",
        "  acc = acc_c(y_predicted_cls, y_train)\n",
        "  print(f'train accuracy: {acc:.4f}')\n",
        "\n",
        "  y_predicted = model(X_test)\n",
        "  y_predicted_cls = y_predicted.round()\n",
        "  acc = acc_c(y_predicted_cls, y_test)\n",
        "  print(f'test accuracy: {acc:.4f}')"
      ],
      "metadata": {
        "colab": {
          "base_uri": "https://localhost:8080/"
        },
        "id": "vj_LgKPUdfVY",
        "outputId": "657903ec-a9dc-44bb-f95b-92bb7677ad17"
      },
      "execution_count": 16,
      "outputs": [
        {
          "output_type": "stream",
          "name": "stdout",
          "text": [
            "train accuracy: 0.8659\n",
            "test accuracy: 0.8621\n"
          ]
        }
      ]
    },
    {
      "cell_type": "markdown",
      "source": [
        "**75. 損失と正解率のプロット**\n",
        "\n",
        "問題73のコードを改変し，各エポックのパラメータ更新が完了するたびに，訓練データでの損失，正解率，検証データでの損失，正解率をグラフにプロットし，学習の進捗状況を確認できるようにせよ．"
      ],
      "metadata": {
        "id": "k2urfBD-8Bca"
      }
    },
    {
      "cell_type": "code",
      "source": [
        "# 1) Model\n",
        "# Linear model f = wx + b\n",
        "n_samples, n_features = X_train.shape\n",
        "input_size = n_features\n",
        "output_size = 4\n",
        "model = nn.Linear(input_size, output_size)\n",
        "\n",
        "# 2) Loss and optimizer\n",
        "learning_rate = 0.1\n",
        "\n",
        "criterion = nn.CrossEntropyLoss()\n",
        "optimizer = torch.optim.SGD(model.parameters(), lr=learning_rate)  \n",
        "\n",
        "# 3) Training loop\n",
        "num_epochs = 100\n",
        "log_train = []\n",
        "log_valid = []\n",
        "for epoch in range(num_epochs):\n",
        "  # Forward pass and loss\n",
        "  y_train_pred = model(X_train)\n",
        "  y_valid_pred = model(X_valid)\n",
        "  loss_train = criterion(y_train_pred, y_train)\n",
        "  loss_valid = criterion(y_valid_pred, y_valid)\n",
        "\n",
        "  # Backward pass and update\n",
        "  loss_train.backward()\n",
        "  optimizer.step()\n",
        "\n",
        "  # zero grad before new step\n",
        "  optimizer.zero_grad()\n",
        "\n",
        "  with torch.no_grad():\n",
        "    # 正解率の算出\n",
        "    acc_train = acc_c(y_train_pred.round(), y_train)\n",
        "    acc_valid = acc_c(y_valid_pred.round(), y_valid)\n",
        "    log_train.append([loss_train.detach(), acc_train])\n",
        "    log_valid.append([loss_valid.detach(), acc_valid])\n",
        "\n",
        "    # ログを出力\n",
        "    if (epoch+1) % 10 == 0:\n",
        "      print(f'epoch: {epoch + 1}, loss_train: {loss_train:.4f}, accuracy_train: {acc_train:.4f}, loss_valid: {loss_valid:.4f}, accuracy_valid: {acc_valid:.4f}')"
      ],
      "metadata": {
        "colab": {
          "base_uri": "https://localhost:8080/"
        },
        "id": "G_sdCG_bfTNv",
        "outputId": "0db88167-9411-4bbd-fa4e-246712d7f0ef"
      },
      "execution_count": 41,
      "outputs": [
        {
          "output_type": "stream",
          "name": "stdout",
          "text": [
            "epoch: 10, loss_train: 1.2582, accuracy_train: 0.4219, loss_valid: 1.2565, accuracy_valid: 0.4213\n",
            "epoch: 20, loss_train: 1.1623, accuracy_train: 0.4255, loss_valid: 1.1604, accuracy_valid: 0.4265\n",
            "epoch: 30, loss_train: 1.1023, accuracy_train: 0.6325, loss_valid: 1.1007, accuracy_valid: 0.6364\n",
            "epoch: 40, loss_train: 1.0596, accuracy_train: 0.7319, loss_valid: 1.0583, accuracy_valid: 0.7294\n",
            "epoch: 50, loss_train: 1.0261, accuracy_train: 0.7281, loss_valid: 1.0253, accuracy_valid: 0.7234\n",
            "epoch: 60, loss_train: 0.9983, accuracy_train: 0.7200, loss_valid: 0.9979, accuracy_valid: 0.7046\n",
            "epoch: 70, loss_train: 0.9742, accuracy_train: 0.7182, loss_valid: 0.9743, accuracy_valid: 0.7039\n",
            "epoch: 80, loss_train: 0.9529, accuracy_train: 0.7213, loss_valid: 0.9534, accuracy_valid: 0.7121\n",
            "epoch: 90, loss_train: 0.9337, accuracy_train: 0.7269, loss_valid: 0.9346, accuracy_valid: 0.7241\n",
            "epoch: 100, loss_train: 0.9161, accuracy_train: 0.7338, loss_valid: 0.9175, accuracy_valid: 0.7354\n"
          ]
        }
      ]
    },
    {
      "cell_type": "code",
      "source": [
        "import numpy as np\n",
        "from matplotlib import pyplot as plt\n",
        "\n",
        "# 可視化\n",
        "fig, ax = plt.subplots(1, 2, figsize=(15, 5))\n",
        "ax[0].plot(np.array(log_train).T[0], label='train')\n",
        "ax[0].plot(np.array(log_valid).T[0], label='valid')\n",
        "ax[0].set_xlabel('epoch')\n",
        "ax[0].set_ylabel('loss')\n",
        "ax[0].legend()\n",
        "ax[1].plot(np.array(log_train).T[1], label='train')\n",
        "ax[1].plot(np.array(log_valid).T[1], label='valid')\n",
        "ax[1].set_xlabel('epoch')\n",
        "ax[1].set_ylabel('accuracy')\n",
        "ax[1].legend()\n",
        "plt.show()"
      ],
      "metadata": {
        "id": "RDVkejDYwNk4",
        "colab": {
          "base_uri": "https://localhost:8080/",
          "height": 336
        },
        "outputId": "cecf7230-44f1-471f-d13f-ecffa4aa7578"
      },
      "execution_count": 42,
      "outputs": [
        {
          "output_type": "display_data",
          "data": {
            "image/png": "[encoded data removed]",
            "text/plain": [
              "<Figure size 1080x360 with 2 Axes>"
            ]
          },
          "metadata": {
            "needs_background": "light"
          }
        }
      ]
    },
    {
      "cell_type": "markdown",
      "source": [
        "**76. チェックポイント**\n",
        "\n",
        "問題75のコードを改変し，各エポックのパラメータ更新が完了するたびに，チェックポイント（学習途中のパラメータ（重み行列など）の値や最適化アルゴリズムの内部状態）をファイルに書き出せ．"
      ],
      "metadata": {
        "id": "cGmPhuGj8Bfa"
      }
    },
    {
      "cell_type": "code",
      "source": [
        "# 1) Model\n",
        "# Linear model f = wx + b\n",
        "n_samples, n_features = X_train.shape\n",
        "input_size = n_features\n",
        "output_size = 4\n",
        "model = nn.Linear(input_size, output_size)\n",
        "\n",
        "# 2) Loss and optimizer\n",
        "learning_rate = 0.1\n",
        "\n",
        "criterion = nn.CrossEntropyLoss()\n",
        "optimizer = torch.optim.SGD(model.parameters(), lr=learning_rate)  \n",
        "\n",
        "# 3) Training loop\n",
        "num_epochs = 100\n",
        "log_train = []\n",
        "log_valid = []\n",
        "for epoch in range(num_epochs):\n",
        "  # Forward pass and loss\n",
        "  y_train_pred = model(X_train)\n",
        "  y_valid_pred = model(X_valid)\n",
        "  loss_train = criterion(y_train_pred, y_train)\n",
        "  loss_valid = criterion(y_valid_pred, y_valid)\n",
        "\n",
        "  # Backward pass and update\n",
        "  loss_train.backward()\n",
        "  optimizer.step()\n",
        "\n",
        "  # zero grad before new step\n",
        "  optimizer.zero_grad()\n",
        "\n",
        "  with torch.no_grad():\n",
        "    # 正解率の算出\n",
        "    acc_train = acc_c(y_train_pred.round(), y_train)\n",
        "    acc_valid = acc_c(y_valid_pred.round(), y_valid)\n",
        "    log_train.append([loss_train.detach(), acc_train])\n",
        "    log_valid.append([loss_valid.detach(), acc_valid])\n",
        "\n",
        "    # ログを出力\n",
        "    if (epoch+1) % 10 == 0:\n",
        "      print(f'epoch: {epoch + 1}, loss_train: {loss_train:.4f}, accuracy_train: {acc_train:.4f}, loss_valid: {loss_valid:.4f}, accuracy_valid: {acc_valid:.4f}')\n",
        "  \n",
        "  # チェックポイントの保存\n",
        "  torch.save(model, f'checkpoint{epoch + 1}.pth')"
      ],
      "metadata": {
        "colab": {
          "base_uri": "https://localhost:8080/"
        },
        "id": "zBm35SdThlzr",
        "outputId": "e93675ab-ec32-4d3b-d718-06f373702c89"
      },
      "execution_count": 43,
      "outputs": [
        {
          "output_type": "stream",
          "name": "stdout",
          "text": [
            "epoch: 10, loss_train: 1.2445, accuracy_train: 0.4219, loss_valid: 1.2428, accuracy_valid: 0.4213\n",
            "epoch: 20, loss_train: 1.1524, accuracy_train: 0.4322, loss_valid: 1.1506, accuracy_valid: 0.4318\n",
            "epoch: 30, loss_train: 1.0945, accuracy_train: 0.6868, loss_valid: 1.0929, accuracy_valid: 0.6829\n",
            "epoch: 40, loss_train: 1.0531, accuracy_train: 0.7464, loss_valid: 1.0518, accuracy_valid: 0.7399\n",
            "epoch: 50, loss_train: 1.0206, accuracy_train: 0.7352, loss_valid: 1.0198, accuracy_valid: 0.7241\n",
            "epoch: 60, loss_train: 0.9936, accuracy_train: 0.7254, loss_valid: 0.9932, accuracy_valid: 0.7151\n",
            "epoch: 70, loss_train: 0.9702, accuracy_train: 0.7248, loss_valid: 0.9702, accuracy_valid: 0.7144\n",
            "epoch: 80, loss_train: 0.9495, accuracy_train: 0.7279, loss_valid: 0.9499, accuracy_valid: 0.7196\n",
            "epoch: 90, loss_train: 0.9307, accuracy_train: 0.7336, loss_valid: 0.9315, accuracy_valid: 0.7234\n",
            "epoch: 100, loss_train: 0.9136, accuracy_train: 0.7407, loss_valid: 0.9149, accuracy_valid: 0.7301\n"
          ]
        }
      ]
    },
    {
      "cell_type": "markdown",
      "source": [
        "**77. ミニバッチ化**\n",
        "\n",
        "問題76のコードを改変し，B事例ごとに損失・勾配を計算し，行列Wの値を更新せよ（ミニバッチ化）．Bの値を1,2,4,8,…と変化させながら，1エポックの学習に要する時間を比較せよ．"
      ],
      "metadata": {
        "id": "2OQjhoDf8BiP"
      }
    },
    {
      "cell_type": "code",
      "source": [
        "from torch.utils.data import Dataset\n",
        "\n",
        "class CreateDataset(Dataset):\n",
        "  def __init__(self, X, y):  # datasetの構成要素を指定\n",
        "    self.X = X\n",
        "    self.y = y\n",
        "\n",
        "  def __len__(self):  # len(dataset)で返す値を指定\n",
        "    return len(self.y)\n",
        "\n",
        "  def __getitem__(self, idx):  # dataset[idx]で返す値を指定\n",
        "    if isinstance(idx, torch.Tensor):\n",
        "      idx = idx.tolist()\n",
        "    return [self.X[idx], self.y[idx]]"
      ],
      "metadata": {
        "id": "daw8r238kyyl"
      },
      "execution_count": 84,
      "outputs": []
    },
    {
      "cell_type": "code",
      "source": [
        "from torch.utils.data import DataLoader\n",
        "\n",
        "dataset_train = CreateDataset(X_train, y_train)\n",
        "dataset_valid = CreateDataset(X_valid, y_valid)\n",
        "dataset_test = CreateDataset(X_test, y_test)\n",
        "\n",
        "print(len(dataset_train))"
      ],
      "metadata": {
        "colab": {
          "base_uri": "https://localhost:8080/"
        },
        "id": "l3lYHI_Mkz_z",
        "outputId": "271b7219-6eb7-48c6-8549-a86c4bf540aa"
      },
      "execution_count": 85,
      "outputs": [
        {
          "output_type": "stream",
          "name": "stdout",
          "text": [
            "10672\n"
          ]
        }
      ]
    },
    {
      "cell_type": "code",
      "source": [
        "def calculate_loss_and_accuracy(model, criterion, loader):\n",
        "  model.eval()\n",
        "  loss = 0.0\n",
        "  total = 0\n",
        "  correct = 0\n",
        "  with torch.no_grad():\n",
        "    for inputs, labels in loader:\n",
        "      outputs = model(inputs)\n",
        "      loss += criterion(outputs, labels).item()\n",
        "      pred = torch.argmax(outputs, dim=-1)\n",
        "      total += len(inputs)\n",
        "      correct += (pred == labels).sum().item()\n",
        "      \n",
        "  return loss / len(loader), correct / total"
      ],
      "metadata": {
        "id": "1djpkW5FqIFK"
      },
      "execution_count": 86,
      "outputs": []
    },
    {
      "cell_type": "code",
      "source": [
        "from torch.utils.data import Dataset, DataLoader\n",
        "\n",
        "# gradient computation etc. not efficient for whole data set\n",
        "# -> divide dataset into small batches\n",
        "\n",
        "'''\n",
        "# training loop\n",
        "for epoch in range(num_epochs):\n",
        "    # loop over all batches\n",
        "    for i in range(total_batches):\n",
        "        batch_x, batch_y = ...\n",
        "'''\n",
        "\n",
        "# epoch = one forward and backward pass of ALL training samples\n",
        "# batch_size = number of training samples used in one forward/backward pass\n",
        "# number of iterations = number of passes, each pass (forward+backward) using [batch_size] number of sampes\n",
        "# e.g : 100 samples, batch_size=20 -> 100/20=5 iterations for 1 epoch\n",
        "# --> DataLoader can do the batch computation for us\n",
        "\n",
        "# 1) Model\n",
        "# Linear model f = wx + b\n",
        "n_samples, n_features = X_train.shape\n",
        "input_size = n_features\n",
        "output_size = 4\n",
        "model = nn.Linear(input_size, output_size)\n",
        "\n",
        "# 2) Loss and optimizer\n",
        "learning_rate = 0.1\n",
        "\n",
        "criterion = nn.CrossEntropyLoss()\n",
        "optimizer = torch.optim.SGD(model.parameters(), lr=learning_rate)  \n",
        "\n",
        "\n",
        "import time\n",
        "\n",
        "def train_model(dataset_train, dataset_valid, batch_size, model, criterion, optimizer, num_epochs):\n",
        "  # dataloaderの作成\n",
        "  dataloader_train = DataLoader(dataset_train, batch_size=batch_size, shuffle=True)\n",
        "  dataloader_valid = DataLoader(dataset_valid, batch_size=len(dataset_valid), shuffle=False)\n",
        "\n",
        "  # 学習\n",
        "  log_train = []\n",
        "  log_valid = []\n",
        "  for epoch in range(num_epochs):\n",
        "    # 開始時刻の記録\n",
        "    s_time = time.time()\n",
        "\n",
        "    for inputs, labels in dataloader_train:\n",
        "      # 順伝播 + 誤差逆伝播 + 重み更新\n",
        "      outputs = model(inputs)\n",
        "      loss = criterion(outputs, labels)\n",
        "      loss.backward()\n",
        "      optimizer.step()\n",
        "\n",
        "      # 勾配をゼロで初期化\n",
        "      optimizer.zero_grad()\n",
        "\n",
        "    # 損失と正解率の算出\n",
        "    loss_train, acc_train = calculate_loss_and_accuracy(model, criterion, dataloader_train)\n",
        "    loss_valid, acc_valid = calculate_loss_and_accuracy(model, criterion, dataloader_valid)\n",
        "    log_train.append([loss_train, acc_train])\n",
        "    log_valid.append([loss_valid, acc_valid])\n",
        "\n",
        "    # チェックポイントの保存\n",
        "    torch.save({'epoch': epoch, 'model_state_dict': model.state_dict(), 'optimizer_state_dict': optimizer.state_dict()}, f'checkpoint{epoch + 1}.pt')\n",
        "\n",
        "    # 終了時刻の記録\n",
        "    e_time = time.time()\n",
        "\n",
        "    # ログを出力\n",
        "    if (epoch+1) % 1 == 0:\n",
        "      print(f'epoch: {epoch + 1}, loss_train: {loss_train:.4f}, accuracy_train: {acc_train:.4f}, loss_valid: {loss_valid:.4f}, accuracy_valid: {acc_valid:.4f}, {(e_time - s_time):.4f}sec') \n",
        "\n",
        "  return {'train': log_train, 'valid': log_valid}"
      ],
      "metadata": {
        "id": "20c76vfhiLVU"
      },
      "execution_count": 89,
      "outputs": []
    },
    {
      "cell_type": "code",
      "source": [
        "# モデルの学習\n",
        "for batch_size in [2 ** i for i in range(11)]:\n",
        "  print(f'batch_size: {batch_size}')\n",
        "  log = train_model(dataset_train, dataset_valid, batch_size, model, criterion, optimizer, 10)"
      ],
      "metadata": {
        "colab": {
          "base_uri": "https://localhost:8080/"
        },
        "id": "Xo4HvKDHnDuL",
        "outputId": "6a1739e4-62d7-4c64-f1f1-89989b01b347"
      },
      "execution_count": 90,
      "outputs": [
        {
          "output_type": "stream",
          "name": "stdout",
          "text": [
            "batch_size: 1\n",
            "epoch: 1, loss_train: 0.2983, accuracy_train: 0.8955, loss_valid: 0.3355, accuracy_valid: 0.8853, 8.6408sec\n",
            "epoch: 2, loss_train: 0.2671, accuracy_train: 0.9102, loss_valid: 0.3132, accuracy_valid: 0.8996, 6.6539sec\n",
            "epoch: 3, loss_train: 0.2529, accuracy_train: 0.9153, loss_valid: 0.3022, accuracy_valid: 0.8966, 6.5370sec\n",
            "epoch: 4, loss_train: 0.2519, accuracy_train: 0.9145, loss_valid: 0.3111, accuracy_valid: 0.8913, 6.4146sec\n",
            "epoch: 5, loss_train: 0.2396, accuracy_train: 0.9180, loss_valid: 0.2989, accuracy_valid: 0.8943, 6.6008sec\n",
            "epoch: 6, loss_train: 0.2398, accuracy_train: 0.9198, loss_valid: 0.3027, accuracy_valid: 0.9033, 6.5312sec\n",
            "epoch: 7, loss_train: 0.2305, accuracy_train: 0.9229, loss_valid: 0.2982, accuracy_valid: 0.9003, 6.4740sec\n",
            "epoch: 8, loss_train: 0.2318, accuracy_train: 0.9214, loss_valid: 0.3035, accuracy_valid: 0.8988, 6.5231sec\n",
            "epoch: 9, loss_train: 0.2258, accuracy_train: 0.9239, loss_valid: 0.2985, accuracy_valid: 0.9010, 6.5343sec\n",
            "epoch: 10, loss_train: 0.2232, accuracy_train: 0.9259, loss_valid: 0.2988, accuracy_valid: 0.9025, 6.6357sec\n",
            "batch_size: 2\n",
            "epoch: 1, loss_train: 0.2262, accuracy_train: 0.9217, loss_valid: 0.2991, accuracy_valid: 0.8973, 3.4863sec\n",
            "epoch: 2, loss_train: 0.2232, accuracy_train: 0.9234, loss_valid: 0.3004, accuracy_valid: 0.8996, 3.5434sec\n",
            "epoch: 3, loss_train: 0.2202, accuracy_train: 0.9265, loss_valid: 0.2976, accuracy_valid: 0.9018, 3.5570sec\n",
            "epoch: 4, loss_train: 0.2230, accuracy_train: 0.9238, loss_valid: 0.2979, accuracy_valid: 0.9018, 3.5119sec\n",
            "epoch: 5, loss_train: 0.2208, accuracy_train: 0.9243, loss_valid: 0.2991, accuracy_valid: 0.9003, 3.5560sec\n",
            "epoch: 6, loss_train: 0.2208, accuracy_train: 0.9254, loss_valid: 0.3010, accuracy_valid: 0.9003, 3.4853sec\n",
            "epoch: 7, loss_train: 0.2258, accuracy_train: 0.9212, loss_valid: 0.3030, accuracy_valid: 0.9003, 3.4874sec\n",
            "epoch: 8, loss_train: 0.2238, accuracy_train: 0.9236, loss_valid: 0.3027, accuracy_valid: 0.8966, 3.4987sec\n",
            "epoch: 9, loss_train: 0.2208, accuracy_train: 0.9242, loss_valid: 0.3005, accuracy_valid: 0.8981, 3.5108sec\n",
            "epoch: 10, loss_train: 0.2183, accuracy_train: 0.9263, loss_valid: 0.2985, accuracy_valid: 0.8996, 3.4997sec\n",
            "batch_size: 4\n",
            "epoch: 1, loss_train: 0.2155, accuracy_train: 0.9276, loss_valid: 0.2969, accuracy_valid: 0.9010, 1.9017sec\n",
            "epoch: 2, loss_train: 0.2145, accuracy_train: 0.9265, loss_valid: 0.2968, accuracy_valid: 0.9010, 1.8967sec\n",
            "epoch: 3, loss_train: 0.2164, accuracy_train: 0.9259, loss_valid: 0.3000, accuracy_valid: 0.9003, 1.8550sec\n",
            "epoch: 4, loss_train: 0.2148, accuracy_train: 0.9267, loss_valid: 0.2970, accuracy_valid: 0.9018, 2.3670sec\n",
            "epoch: 5, loss_train: 0.2140, accuracy_train: 0.9276, loss_valid: 0.2969, accuracy_valid: 0.8996, 1.8311sec\n",
            "epoch: 6, loss_train: 0.2150, accuracy_train: 0.9261, loss_valid: 0.2996, accuracy_valid: 0.9003, 1.8886sec\n",
            "epoch: 7, loss_train: 0.2148, accuracy_train: 0.9264, loss_valid: 0.2997, accuracy_valid: 0.9010, 1.8808sec\n",
            "epoch: 8, loss_train: 0.2135, accuracy_train: 0.9266, loss_valid: 0.2975, accuracy_valid: 0.8996, 1.8685sec\n",
            "epoch: 9, loss_train: 0.2132, accuracy_train: 0.9268, loss_valid: 0.2977, accuracy_valid: 0.9010, 1.8459sec\n",
            "epoch: 10, loss_train: 0.2134, accuracy_train: 0.9268, loss_valid: 0.2982, accuracy_valid: 0.9033, 1.8445sec\n",
            "batch_size: 8\n",
            "epoch: 1, loss_train: 0.2132, accuracy_train: 0.9261, loss_valid: 0.2987, accuracy_valid: 0.9003, 1.0362sec\n",
            "epoch: 2, loss_train: 0.2131, accuracy_train: 0.9275, loss_valid: 0.2987, accuracy_valid: 0.9025, 1.0091sec\n",
            "epoch: 3, loss_train: 0.2129, accuracy_train: 0.9265, loss_valid: 0.2987, accuracy_valid: 0.9018, 1.1414sec\n",
            "epoch: 4, loss_train: 0.2127, accuracy_train: 0.9267, loss_valid: 0.2987, accuracy_valid: 0.9018, 0.9848sec\n",
            "epoch: 5, loss_train: 0.2128, accuracy_train: 0.9277, loss_valid: 0.2987, accuracy_valid: 0.9033, 0.9888sec\n",
            "epoch: 6, loss_train: 0.2123, accuracy_train: 0.9282, loss_valid: 0.2979, accuracy_valid: 0.9003, 1.0092sec\n",
            "epoch: 7, loss_train: 0.2122, accuracy_train: 0.9277, loss_valid: 0.2981, accuracy_valid: 0.9010, 1.0238sec\n",
            "epoch: 8, loss_train: 0.2123, accuracy_train: 0.9281, loss_valid: 0.2979, accuracy_valid: 0.8996, 1.0102sec\n",
            "epoch: 9, loss_train: 0.2120, accuracy_train: 0.9281, loss_valid: 0.2980, accuracy_valid: 0.8996, 0.9945sec\n",
            "epoch: 10, loss_train: 0.2120, accuracy_train: 0.9278, loss_valid: 0.2979, accuracy_valid: 0.8988, 1.0279sec\n",
            "batch_size: 16\n",
            "epoch: 1, loss_train: 0.2119, accuracy_train: 0.9276, loss_valid: 0.2985, accuracy_valid: 0.9018, 0.5775sec\n",
            "epoch: 2, loss_train: 0.2121, accuracy_train: 0.9276, loss_valid: 0.2991, accuracy_valid: 0.9018, 0.6051sec\n",
            "epoch: 3, loss_train: 0.2118, accuracy_train: 0.9276, loss_valid: 0.2980, accuracy_valid: 0.8988, 0.5811sec\n",
            "epoch: 4, loss_train: 0.2122, accuracy_train: 0.9274, loss_valid: 0.2995, accuracy_valid: 0.9010, 0.5786sec\n",
            "epoch: 5, loss_train: 0.2120, accuracy_train: 0.9276, loss_valid: 0.2990, accuracy_valid: 0.9018, 0.5801sec\n",
            "epoch: 6, loss_train: 0.2117, accuracy_train: 0.9277, loss_valid: 0.2983, accuracy_valid: 0.8988, 0.5888sec\n",
            "epoch: 7, loss_train: 0.2116, accuracy_train: 0.9276, loss_valid: 0.2983, accuracy_valid: 0.8988, 0.5845sec\n",
            "epoch: 8, loss_train: 0.2116, accuracy_train: 0.9280, loss_valid: 0.2982, accuracy_valid: 0.8988, 0.6092sec\n",
            "epoch: 9, loss_train: 0.2118, accuracy_train: 0.9278, loss_valid: 0.2984, accuracy_valid: 0.8988, 0.6046sec\n",
            "epoch: 10, loss_train: 0.2117, accuracy_train: 0.9279, loss_valid: 0.2986, accuracy_valid: 0.8996, 0.5947sec\n",
            "batch_size: 32\n",
            "epoch: 1, loss_train: 0.2112, accuracy_train: 0.9280, loss_valid: 0.2983, accuracy_valid: 0.8996, 0.3918sec\n",
            "epoch: 2, loss_train: 0.2116, accuracy_train: 0.9282, loss_valid: 0.2985, accuracy_valid: 0.9003, 0.3660sec\n",
            "epoch: 3, loss_train: 0.2116, accuracy_train: 0.9282, loss_valid: 0.2982, accuracy_valid: 0.8988, 0.3697sec\n",
            "epoch: 4, loss_train: 0.2115, accuracy_train: 0.9280, loss_valid: 0.2986, accuracy_valid: 0.9018, 0.3751sec\n",
            "epoch: 5, loss_train: 0.2116, accuracy_train: 0.9268, loss_valid: 0.2991, accuracy_valid: 0.9010, 0.3825sec\n",
            "epoch: 6, loss_train: 0.2113, accuracy_train: 0.9277, loss_valid: 0.2984, accuracy_valid: 0.8988, 0.3643sec\n",
            "epoch: 7, loss_train: 0.2114, accuracy_train: 0.9278, loss_valid: 0.2983, accuracy_valid: 0.8988, 0.3766sec\n",
            "epoch: 8, loss_train: 0.2116, accuracy_train: 0.9276, loss_valid: 0.2989, accuracy_valid: 0.9010, 0.3786sec\n",
            "epoch: 9, loss_train: 0.2117, accuracy_train: 0.9280, loss_valid: 0.2983, accuracy_valid: 0.8981, 0.3763sec\n",
            "epoch: 10, loss_train: 0.2116, accuracy_train: 0.9280, loss_valid: 0.2989, accuracy_valid: 0.9010, 0.3871sec\n",
            "batch_size: 64\n",
            "epoch: 1, loss_train: 0.2113, accuracy_train: 0.9279, loss_valid: 0.2986, accuracy_valid: 0.8988, 0.2666sec\n",
            "epoch: 2, loss_train: 0.2112, accuracy_train: 0.9278, loss_valid: 0.2985, accuracy_valid: 0.8996, 0.2686sec\n",
            "epoch: 3, loss_train: 0.2112, accuracy_train: 0.9278, loss_valid: 0.2985, accuracy_valid: 0.8988, 0.2707sec\n",
            "epoch: 4, loss_train: 0.2111, accuracy_train: 0.9281, loss_valid: 0.2984, accuracy_valid: 0.8988, 0.2762sec\n",
            "epoch: 5, loss_train: 0.2111, accuracy_train: 0.9277, loss_valid: 0.2985, accuracy_valid: 0.8988, 0.2739sec\n",
            "epoch: 6, loss_train: 0.2112, accuracy_train: 0.9279, loss_valid: 0.2986, accuracy_valid: 0.8988, 0.2886sec\n",
            "epoch: 7, loss_train: 0.2112, accuracy_train: 0.9278, loss_valid: 0.2986, accuracy_valid: 0.8996, 0.2765sec\n",
            "epoch: 8, loss_train: 0.2112, accuracy_train: 0.9278, loss_valid: 0.2986, accuracy_valid: 0.8988, 0.2656sec\n",
            "epoch: 9, loss_train: 0.2112, accuracy_train: 0.9278, loss_valid: 0.2985, accuracy_valid: 0.8988, 0.2626sec\n",
            "epoch: 10, loss_train: 0.2114, accuracy_train: 0.9278, loss_valid: 0.2985, accuracy_valid: 0.8988, 0.2873sec\n",
            "batch_size: 128\n",
            "epoch: 1, loss_train: 0.2109, accuracy_train: 0.9277, loss_valid: 0.2985, accuracy_valid: 0.8988, 0.2090sec\n",
            "epoch: 2, loss_train: 0.2108, accuracy_train: 0.9278, loss_valid: 0.2985, accuracy_valid: 0.8988, 0.3047sec\n",
            "epoch: 3, loss_train: 0.2114, accuracy_train: 0.9279, loss_valid: 0.2985, accuracy_valid: 0.8988, 0.2036sec\n",
            "epoch: 4, loss_train: 0.2107, accuracy_train: 0.9278, loss_valid: 0.2984, accuracy_valid: 0.8988, 0.2193sec\n",
            "epoch: 5, loss_train: 0.2101, accuracy_train: 0.9278, loss_valid: 0.2985, accuracy_valid: 0.8988, 0.2065sec\n",
            "epoch: 6, loss_train: 0.2114, accuracy_train: 0.9278, loss_valid: 0.2985, accuracy_valid: 0.8988, 0.2102sec\n",
            "epoch: 7, loss_train: 0.2105, accuracy_train: 0.9279, loss_valid: 0.2985, accuracy_valid: 0.8988, 0.2100sec\n",
            "epoch: 8, loss_train: 0.2103, accuracy_train: 0.9278, loss_valid: 0.2985, accuracy_valid: 0.8988, 0.2075sec\n",
            "epoch: 9, loss_train: 0.2103, accuracy_train: 0.9280, loss_valid: 0.2985, accuracy_valid: 0.8996, 0.2185sec\n",
            "epoch: 10, loss_train: 0.2112, accuracy_train: 0.9279, loss_valid: 0.2984, accuracy_valid: 0.8988, 0.2112sec\n",
            "batch_size: 256\n",
            "epoch: 1, loss_train: 0.2112, accuracy_train: 0.9278, loss_valid: 0.2985, accuracy_valid: 0.8996, 0.5280sec\n",
            "epoch: 2, loss_train: 0.2115, accuracy_train: 0.9278, loss_valid: 0.2985, accuracy_valid: 0.8996, 0.5428sec\n",
            "epoch: 3, loss_train: 0.2113, accuracy_train: 0.9278, loss_valid: 0.2985, accuracy_valid: 0.8988, 0.5257sec\n",
            "epoch: 4, loss_train: 0.2116, accuracy_train: 0.9278, loss_valid: 0.2985, accuracy_valid: 0.8988, 0.5521sec\n",
            "epoch: 5, loss_train: 0.2109, accuracy_train: 0.9278, loss_valid: 0.2985, accuracy_valid: 0.8988, 0.5158sec\n",
            "epoch: 6, loss_train: 0.2109, accuracy_train: 0.9279, loss_valid: 0.2986, accuracy_valid: 0.8988, 0.5405sec\n",
            "epoch: 7, loss_train: 0.2113, accuracy_train: 0.9279, loss_valid: 0.2985, accuracy_valid: 0.8988, 0.6294sec\n",
            "epoch: 8, loss_train: 0.2111, accuracy_train: 0.9278, loss_valid: 0.2985, accuracy_valid: 0.8988, 0.5412sec\n",
            "epoch: 9, loss_train: 0.2111, accuracy_train: 0.9278, loss_valid: 0.2985, accuracy_valid: 0.8988, 0.5430sec\n",
            "epoch: 10, loss_train: 0.2110, accuracy_train: 0.9279, loss_valid: 0.2986, accuracy_valid: 0.8988, 0.5501sec\n",
            "batch_size: 512\n",
            "epoch: 1, loss_train: 0.2108, accuracy_train: 0.9278, loss_valid: 0.2986, accuracy_valid: 0.8988, 0.3604sec\n",
            "epoch: 2, loss_train: 0.2110, accuracy_train: 0.9278, loss_valid: 0.2986, accuracy_valid: 0.8988, 0.3741sec\n",
            "epoch: 3, loss_train: 0.2109, accuracy_train: 0.9278, loss_valid: 0.2986, accuracy_valid: 0.8988, 0.3626sec\n",
            "epoch: 4, loss_train: 0.2111, accuracy_train: 0.9278, loss_valid: 0.2986, accuracy_valid: 0.8988, 0.4747sec\n",
            "epoch: 5, loss_train: 0.2111, accuracy_train: 0.9278, loss_valid: 0.2986, accuracy_valid: 0.8988, 0.3569sec\n",
            "epoch: 6, loss_train: 0.2111, accuracy_train: 0.9278, loss_valid: 0.2986, accuracy_valid: 0.8988, 0.3589sec\n",
            "epoch: 7, loss_train: 0.2113, accuracy_train: 0.9279, loss_valid: 0.2986, accuracy_valid: 0.8988, 0.3791sec\n",
            "epoch: 8, loss_train: 0.2112, accuracy_train: 0.9279, loss_valid: 0.2986, accuracy_valid: 0.8988, 0.3556sec\n",
            "epoch: 9, loss_train: 0.2110, accuracy_train: 0.9278, loss_valid: 0.2986, accuracy_valid: 0.8988, 0.3619sec\n",
            "epoch: 10, loss_train: 0.2110, accuracy_train: 0.9278, loss_valid: 0.2986, accuracy_valid: 0.8988, 0.3701sec\n",
            "batch_size: 1024\n",
            "epoch: 1, loss_train: 0.2076, accuracy_train: 0.9278, loss_valid: 0.2986, accuracy_valid: 0.8988, 0.3603sec\n",
            "epoch: 2, loss_train: 0.2110, accuracy_train: 0.9279, loss_valid: 0.2986, accuracy_valid: 0.8988, 0.2719sec\n",
            "epoch: 3, loss_train: 0.2121, accuracy_train: 0.9278, loss_valid: 0.2986, accuracy_valid: 0.8988, 0.2885sec\n",
            "epoch: 4, loss_train: 0.2130, accuracy_train: 0.9278, loss_valid: 0.2986, accuracy_valid: 0.8988, 0.3718sec\n",
            "epoch: 5, loss_train: 0.2117, accuracy_train: 0.9278, loss_valid: 0.2986, accuracy_valid: 0.8988, 0.2824sec\n",
            "epoch: 6, loss_train: 0.2101, accuracy_train: 0.9278, loss_valid: 0.2986, accuracy_valid: 0.8988, 0.2891sec\n",
            "epoch: 7, loss_train: 0.2112, accuracy_train: 0.9278, loss_valid: 0.2986, accuracy_valid: 0.8988, 0.3695sec\n",
            "epoch: 8, loss_train: 0.2116, accuracy_train: 0.9279, loss_valid: 0.2986, accuracy_valid: 0.8988, 0.2756sec\n",
            "epoch: 9, loss_train: 0.2107, accuracy_train: 0.9279, loss_valid: 0.2986, accuracy_valid: 0.8988, 0.2824sec\n",
            "epoch: 10, loss_train: 0.2103, accuracy_train: 0.9279, loss_valid: 0.2986, accuracy_valid: 0.8988, 0.3797sec\n"
          ]
        }
      ]
    },
    {
      "cell_type": "markdown",
      "source": [
        "**78. GPU上での学習**\n",
        "\n",
        "問題77のコードを改変し，GPU上で学習を実行せよ．"
      ],
      "metadata": {
        "id": "ky2OHFx_8Bky"
      }
    },
    {
      "cell_type": "code",
      "source": [
        "# Device configuration\n",
        "device = torch.device('cuda' if torch.cuda.is_available() else 'cpu')\n",
        "\n",
        "# 1) Model\n",
        "# Linear model f = wx + b\n",
        "n_samples, n_features = X_train.shape\n",
        "input_size = n_features\n",
        "output_size = 4\n",
        "model = nn.Linear(input_size, output_size).to(device)\n",
        "\n",
        "# 2) Loss and optimizer\n",
        "learning_rate = 0.1\n",
        "\n",
        "criterion = nn.CrossEntropyLoss()\n",
        "optimizer = torch.optim.SGD(model.parameters(), lr=learning_rate)  \n",
        "\n",
        "def calculate_loss_and_accuracy(model, criterion, loader, device):\n",
        "  model.eval()\n",
        "  loss = 0.0\n",
        "  total = 0\n",
        "  correct = 0\n",
        "  with torch.no_grad():\n",
        "    for inputs, labels in loader:\n",
        "      inputs = inputs.to(device)\n",
        "      labels = labels.to(device)\n",
        "      outputs = model(inputs)\n",
        "      loss += criterion(outputs, labels).item()\n",
        "      pred = torch.argmax(outputs, dim=-1)\n",
        "      total += len(inputs)\n",
        "      correct += (pred == labels).sum().item()\n",
        "      \n",
        "  return loss / len(loader), correct / total\n",
        "\n",
        "def train_model(dataset_train, dataset_valid, batch_size, model, criterion, optimizer, num_epochs):\n",
        "  # dataloaderの作成\n",
        "  dataloader_train = DataLoader(dataset_train, batch_size=batch_size, shuffle=True)\n",
        "  dataloader_valid = DataLoader(dataset_valid, batch_size=len(dataset_valid), shuffle=False)\n",
        "\n",
        "  # 学習\n",
        "  log_train = []\n",
        "  log_valid = []\n",
        "  for epoch in range(num_epochs):\n",
        "    # 開始時刻の記録\n",
        "    s_time = time.time()\n",
        "\n",
        "    for inputs, labels in dataloader_train:\n",
        "      # 順伝播 + 誤差逆伝播 + 重み更新\n",
        "      inputs = inputs.to(device)\n",
        "      labels = labels.to(device)\n",
        "\n",
        "      outputs = model(inputs)\n",
        "      loss = criterion(outputs, labels)\n",
        "      loss.backward()\n",
        "      optimizer.step()\n",
        "\n",
        "      # 勾配をゼロで初期化\n",
        "      optimizer.zero_grad()\n",
        "\n",
        "    # 損失と正解率の算出\n",
        "    loss_train, acc_train = calculate_loss_and_accuracy(model, criterion, dataloader_train, device)\n",
        "    loss_valid, acc_valid = calculate_loss_and_accuracy(model, criterion, dataloader_valid, device)\n",
        "    log_train.append([loss_train, acc_train])\n",
        "    log_valid.append([loss_valid, acc_valid])\n",
        "\n",
        "    # チェックポイントの保存\n",
        "    torch.save({'epoch': epoch, 'model_state_dict': model.state_dict(), 'optimizer_state_dict': optimizer.state_dict()}, f'checkpoint{epoch + 1}.pt')\n",
        "\n",
        "    # 終了時刻の記録\n",
        "    e_time = time.time()\n",
        "\n",
        "    # ログを出力\n",
        "    if (epoch+1) % 1 == 0:\n",
        "      print(f'epoch: {epoch + 1}, loss_train: {loss_train:.4f}, accuracy_train: {acc_train:.4f}, loss_valid: {loss_valid:.4f}, accuracy_valid: {acc_valid:.4f}, {(e_time - s_time):.4f}sec') \n",
        "\n",
        "  return {'train': log_train, 'valid': log_valid}"
      ],
      "metadata": {
        "id": "fepN0-LUnDRA"
      },
      "execution_count": 91,
      "outputs": []
    },
    {
      "cell_type": "code",
      "source": [
        "# モデルの学習\n",
        "print(device)\n",
        "for batch_size in [2 ** i for i in range(11)]:\n",
        "  print(f'batch_size: {batch_size}')\n",
        "  log = train_model(dataset_train, dataset_valid, batch_size, model, criterion, optimizer, 2)"
      ],
      "metadata": {
        "colab": {
          "base_uri": "https://localhost:8080/"
        },
        "id": "UaeYJdP9tPtP",
        "outputId": "72862fae-820f-489f-839b-4d222fd13e35"
      },
      "execution_count": 92,
      "outputs": [
        {
          "output_type": "stream",
          "name": "stdout",
          "text": [
            "cuda\n",
            "batch_size: 1\n",
            "epoch: 1, loss_train: 0.2990, accuracy_train: 0.8975, loss_valid: 0.3373, accuracy_valid: 0.8898, 16.1906sec\n",
            "epoch: 2, loss_train: 0.2726, accuracy_train: 0.9041, loss_valid: 0.3211, accuracy_valid: 0.8853, 15.6820sec\n",
            "batch_size: 2\n",
            "epoch: 1, loss_train: 0.2587, accuracy_train: 0.9123, loss_valid: 0.3091, accuracy_valid: 0.8958, 7.8985sec\n",
            "epoch: 2, loss_train: 0.2523, accuracy_train: 0.9146, loss_valid: 0.3055, accuracy_valid: 0.8951, 7.9018sec\n",
            "batch_size: 4\n",
            "epoch: 1, loss_train: 0.2504, accuracy_train: 0.9167, loss_valid: 0.3025, accuracy_valid: 0.9048, 3.9857sec\n",
            "epoch: 2, loss_train: 0.2472, accuracy_train: 0.9175, loss_valid: 0.3016, accuracy_valid: 0.9003, 4.0658sec\n",
            "batch_size: 8\n",
            "epoch: 1, loss_train: 0.2466, accuracy_train: 0.9172, loss_valid: 0.3007, accuracy_valid: 0.9040, 2.0816sec\n",
            "epoch: 2, loss_train: 0.2449, accuracy_train: 0.9179, loss_valid: 0.3001, accuracy_valid: 0.9018, 2.1188sec\n",
            "batch_size: 16\n",
            "epoch: 1, loss_train: 0.2446, accuracy_train: 0.9185, loss_valid: 0.2994, accuracy_valid: 0.9033, 1.1199sec\n",
            "epoch: 2, loss_train: 0.2441, accuracy_train: 0.9194, loss_valid: 0.2995, accuracy_valid: 0.9048, 1.1304sec\n",
            "batch_size: 32\n",
            "epoch: 1, loss_train: 0.2436, accuracy_train: 0.9189, loss_valid: 0.2995, accuracy_valid: 0.9025, 0.6407sec\n",
            "epoch: 2, loss_train: 0.2432, accuracy_train: 0.9182, loss_valid: 0.2995, accuracy_valid: 0.9025, 0.6584sec\n",
            "batch_size: 64\n",
            "epoch: 1, loss_train: 0.2434, accuracy_train: 0.9184, loss_valid: 0.2994, accuracy_valid: 0.9025, 0.3868sec\n",
            "epoch: 2, loss_train: 0.2433, accuracy_train: 0.9187, loss_valid: 0.2992, accuracy_valid: 0.9018, 0.4140sec\n",
            "batch_size: 128\n",
            "epoch: 1, loss_train: 0.2425, accuracy_train: 0.9188, loss_valid: 0.2992, accuracy_valid: 0.9018, 0.2842sec\n",
            "epoch: 2, loss_train: 0.2425, accuracy_train: 0.9186, loss_valid: 0.2993, accuracy_valid: 0.9025, 0.2770sec\n",
            "batch_size: 256\n",
            "epoch: 1, loss_train: 0.2430, accuracy_train: 0.9186, loss_valid: 0.2993, accuracy_valid: 0.9025, 0.2318sec\n",
            "epoch: 2, loss_train: 0.2435, accuracy_train: 0.9187, loss_valid: 0.2993, accuracy_valid: 0.9025, 0.2291sec\n",
            "batch_size: 512\n",
            "epoch: 1, loss_train: 0.2430, accuracy_train: 0.9187, loss_valid: 0.2993, accuracy_valid: 0.9025, 0.5516sec\n",
            "epoch: 2, loss_train: 0.2430, accuracy_train: 0.9186, loss_valid: 0.2992, accuracy_valid: 0.9025, 0.6806sec\n",
            "batch_size: 1024\n",
            "epoch: 1, loss_train: 0.2464, accuracy_train: 0.9187, loss_valid: 0.2992, accuracy_valid: 0.9018, 0.3643sec\n",
            "epoch: 2, loss_train: 0.2428, accuracy_train: 0.9188, loss_valid: 0.2992, accuracy_valid: 0.9018, 0.3929sec\n"
          ]
        }
      ]
    },
    {
      "cell_type": "markdown",
      "source": [
        "**79. 多層ニューラルネットワーク**\n",
        "\n",
        "問題78のコードを改変し，バイアス項の導入や多層化など，ニューラルネットワークの形状を変更しながら，高性能なカテゴリ分類器を構築せよ．"
      ],
      "metadata": {
        "id": "Eb5aZqu8-j2p"
      }
    },
    {
      "cell_type": "code",
      "execution_count": 94,
      "metadata": {
        "id": "rvgZg88smrYj"
      },
      "outputs": [],
      "source": [
        "# Device configuration\n",
        "device = torch.device('cuda' if torch.cuda.is_available() else 'cpu')\n",
        "\n",
        "# 1) Model\n",
        "# Linear model f = wx + b\n",
        "n_samples, n_features = X_train.shape\n",
        "input_size = n_features\n",
        "output_size = 4\n",
        "\n",
        "# Multiclass problem\n",
        "class NeuralNet2(nn.Module):\n",
        "    def __init__(self, input_size, hidden_size, num_classes):\n",
        "        super(NeuralNet2, self).__init__()\n",
        "        self.linear1 = nn.Linear(input_size, hidden_size) \n",
        "        self.relu = nn.ReLU()\n",
        "        self.linear2 = nn.Linear(hidden_size, num_classes)  \n",
        "    \n",
        "    def forward(self, x):\n",
        "        out = self.linear1(x)\n",
        "        out = self.relu(out)\n",
        "        out = self.linear2(out)\n",
        "        # no softmax at the end\n",
        "        return out\n",
        "\n",
        "model = NeuralNet2(input_size=input_size, hidden_size=5, num_classes=output_size).to(device)\n",
        "\n",
        "\n",
        "# 2) Loss and optimizer\n",
        "learning_rate = 0.1\n",
        "\n",
        "criterion = nn.CrossEntropyLoss()\n",
        "optimizer = torch.optim.SGD(model.parameters(), lr=learning_rate)  \n",
        "\n",
        "def calculate_loss_and_accuracy(model, criterion, loader, device):\n",
        "  model.eval()\n",
        "  loss = 0.0\n",
        "  total = 0\n",
        "  correct = 0\n",
        "  with torch.no_grad():\n",
        "    for inputs, labels in loader:\n",
        "      inputs = inputs.to(device)\n",
        "      labels = labels.to(device)\n",
        "      outputs = model(inputs)\n",
        "      loss += criterion(outputs, labels).item()\n",
        "      pred = torch.argmax(outputs, dim=-1)\n",
        "      total += len(inputs)\n",
        "      correct += (pred == labels).sum().item()\n",
        "      \n",
        "  return loss / len(loader), correct / total\n",
        "\n",
        "def train_model(dataset_train, dataset_valid, batch_size, model, criterion, optimizer, num_epochs):\n",
        "  # dataloaderの作成\n",
        "  dataloader_train = DataLoader(dataset_train, batch_size=batch_size, shuffle=True)\n",
        "  dataloader_valid = DataLoader(dataset_valid, batch_size=len(dataset_valid), shuffle=False)\n",
        "\n",
        "  # 学習\n",
        "  log_train = []\n",
        "  log_valid = []\n",
        "  for epoch in range(num_epochs):\n",
        "    # 開始時刻の記録\n",
        "    s_time = time.time()\n",
        "\n",
        "    for inputs, labels in dataloader_train:\n",
        "      # 順伝播 + 誤差逆伝播 + 重み更新\n",
        "      inputs = inputs.to(device)\n",
        "      labels = labels.to(device)\n",
        "\n",
        "      outputs = model(inputs)\n",
        "      loss = criterion(outputs, labels)\n",
        "      loss.backward()\n",
        "      optimizer.step()\n",
        "\n",
        "      # 勾配をゼロで初期化\n",
        "      optimizer.zero_grad()\n",
        "\n",
        "    # 損失と正解率の算出\n",
        "    loss_train, acc_train = calculate_loss_and_accuracy(model, criterion, dataloader_train, device)\n",
        "    loss_valid, acc_valid = calculate_loss_and_accuracy(model, criterion, dataloader_valid, device)\n",
        "    log_train.append([loss_train, acc_train])\n",
        "    log_valid.append([loss_valid, acc_valid])\n",
        "\n",
        "    # チェックポイントの保存\n",
        "    torch.save({'epoch': epoch, 'model_state_dict': model.state_dict(), 'optimizer_state_dict': optimizer.state_dict()}, f'checkpoint{epoch + 1}.pt')\n",
        "\n",
        "    # 終了時刻の記録\n",
        "    e_time = time.time()\n",
        "\n",
        "    # ログを出力\n",
        "    if (epoch+1) % 10 == 0:\n",
        "      print(f'epoch: {epoch + 1}, loss_train: {loss_train:.4f}, accuracy_train: {acc_train:.4f}, loss_valid: {loss_valid:.4f}, accuracy_valid: {acc_valid:.4f}, {(e_time - s_time):.4f}sec') \n",
        "\n",
        "  return {'train': log_train, 'valid': log_valid}"
      ]
    },
    {
      "cell_type": "code",
      "source": [
        "# デバイスの指定\n",
        "device = torch.device('cuda')\n",
        "log = train_model(dataset_train, dataset_valid, 64, model, criterion, optimizer, 100)"
      ],
      "metadata": {
        "colab": {
          "base_uri": "https://localhost:8080/"
        },
        "id": "DNVFJk4rzl5i",
        "outputId": "b26714f9-aa99-4aca-9175-dde21263c8b4"
      },
      "execution_count": 95,
      "outputs": [
        {
          "output_type": "stream",
          "name": "stdout",
          "text": [
            "epoch: 10, loss_train: 0.3310, accuracy_train: 0.8893, loss_valid: 0.3660, accuracy_valid: 0.8793, 0.4547sec\n",
            "epoch: 20, loss_train: 0.2471, accuracy_train: 0.9168, loss_valid: 0.3054, accuracy_valid: 0.8981, 0.4653sec\n",
            "epoch: 30, loss_train: 0.2278, accuracy_train: 0.9239, loss_valid: 0.2962, accuracy_valid: 0.9055, 0.4688sec\n",
            "epoch: 40, loss_train: 0.2169, accuracy_train: 0.9264, loss_valid: 0.2924, accuracy_valid: 0.9018, 0.4565sec\n",
            "epoch: 50, loss_train: 0.2112, accuracy_train: 0.9267, loss_valid: 0.2917, accuracy_valid: 0.9025, 0.4852sec\n",
            "epoch: 60, loss_train: 0.2088, accuracy_train: 0.9288, loss_valid: 0.2943, accuracy_valid: 0.9040, 0.4782sec\n",
            "epoch: 70, loss_train: 0.2046, accuracy_train: 0.9302, loss_valid: 0.2969, accuracy_valid: 0.8996, 0.4515sec\n",
            "epoch: 80, loss_train: 0.2029, accuracy_train: 0.9300, loss_valid: 0.2986, accuracy_valid: 0.9025, 0.4767sec\n",
            "epoch: 90, loss_train: 0.2004, accuracy_train: 0.9310, loss_valid: 0.2995, accuracy_valid: 0.8988, 0.4619sec\n",
            "epoch: 100, loss_train: 0.1976, accuracy_train: 0.9324, loss_valid: 0.3005, accuracy_valid: 0.9018, 0.4703sec\n"
          ]
        }
      ]
    },
    {
      "cell_type": "code",
      "source": [
        "# 可視化\n",
        "fig, ax = plt.subplots(1, 2, figsize=(15, 5))\n",
        "ax[0].plot(np.array(log['train']).T[0], label='train')\n",
        "ax[0].plot(np.array(log['valid']).T[0], label='valid')\n",
        "ax[0].set_xlabel('epoch')\n",
        "ax[0].set_ylabel('loss')\n",
        "ax[0].legend()\n",
        "ax[1].plot(np.array(log['train']).T[1], label='train')\n",
        "ax[1].plot(np.array(log['valid']).T[1], label='valid')\n",
        "ax[1].set_xlabel('epoch')\n",
        "ax[1].set_ylabel('accuracy')\n",
        "ax[1].legend()\n",
        "plt.show()"
      ],
      "metadata": {
        "colab": {
          "base_uri": "https://localhost:8080/",
          "height": 337
        },
        "id": "-grBUZ5YzyY6",
        "outputId": "bc112b53-503c-4fef-93db-d18d3c0b549f"
      },
      "execution_count": 96,
      "outputs": [
        {
          "output_type": "display_data",
          "data": {
            "image/png": "[encoded data removed]",
            "text/plain": [
              "<Figure size 1080x360 with 2 Axes>"
            ]
          },
          "metadata": {
            "needs_background": "light"
          }
        }
      ]
    }
  ]
}