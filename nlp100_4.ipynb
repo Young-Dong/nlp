{
  "nbformat": 4,
  "nbformat_minor": 0,
  "metadata": {
    "colab": {
      "name": "nlp100_4.ipynb",
      "provenance": [],
      "collapsed_sections": [],
      "authorship_tag": "ABX9TyP63+SfRdTEx/OPwKuqttOS",
      "include_colab_link": true
    },
    "kernelspec": {
      "display_name": "Python 3",
      "name": "python3"
    },
    "language_info": {
      "name": "python"
    }
  },
  "cells": [
    {
      "cell_type": "markdown",
      "metadata": {
        "id": "view-in-github",
        "colab_type": "text"
      },
      "source": [
        "<a href=\"https://colab.research.google.com/github/Young-Dong/nlp/blob/main/nlp100_4.ipynb\" target=\"_parent\"><img src=\"https://colab.research.google.com/assets/colab-badge.svg\" alt=\"Open In Colab\"/></a>"
      ]
    },
    {
      "cell_type": "markdown",
      "metadata": {
        "id": "ZSJMAJPZWg03"
      },
      "source": [
        "**第4章: 形態素解析**\n",
        "\n",
        "夏目漱石の小説『吾輩は猫である』の文章（[neko.txt](https://nlp100.github.io/data/neko.txt)）を[MeCab](https://taku910.github.io/mecab/)を使って形態素解析し，その結果をneko.txt.mecabというファイルに保存せよ．このファイルを用いて，以下の問に対応するプログラムを実装せよ．\n",
        "\n",
        "なお，問題37, 38, 39はmatplotlibもしくはGnuplotを用いるとよい．"
      ]
    },
    {
      "cell_type": "code",
      "metadata": {
        "colab": {
          "base_uri": "https://localhost:8080/"
        },
        "id": "vaGvnPnmcb0C",
        "outputId": "75d0971a-fe9b-499b-a56c-fc8fd73b84f3"
      },
      "source": [
        "! lsb_release -a"
      ],
      "execution_count": null,
      "outputs": [
        {
          "output_type": "stream",
          "name": "stdout",
          "text": [
            "No LSB modules are available.\n",
            "Distributor ID:\tUbuntu\n",
            "Description:\tUbuntu 18.04.5 LTS\n",
            "Release:\t18.04\n",
            "Codename:\tbionic\n"
          ]
        }
      ]
    },
    {
      "cell_type": "code",
      "metadata": {
        "id": "c-kGQP_CXLis",
        "colab": {
          "base_uri": "https://localhost:8080/"
        },
        "outputId": "d1049c7f-49fe-4bec-b53e-941628dd49ac"
      },
      "source": [
        "! sudo apt install mecab\n",
        "! sudo apt install libmecab-dev\n",
        "! sudo apt install mecab-ipadic-utf8\n",
        "# ! pip install MeCab"
      ],
      "execution_count": null,
      "outputs": [
        {
          "output_type": "stream",
          "name": "stdout",
          "text": [
            "Reading package lists... Done\n",
            "Building dependency tree       \n",
            "Reading state information... Done\n",
            "mecab is already the newest version (0.996-5).\n",
            "0 upgraded, 0 newly installed, 0 to remove and 37 not upgraded.\n",
            "Reading package lists... Done\n",
            "Building dependency tree       \n",
            "Reading state information... Done\n",
            "libmecab-dev is already the newest version (0.996-5).\n",
            "0 upgraded, 0 newly installed, 0 to remove and 37 not upgraded.\n",
            "Reading package lists... Done\n",
            "Building dependency tree       \n",
            "Reading state information... Done\n",
            "mecab-ipadic-utf8 is already the newest version (2.7.0-20070801+main-1).\n",
            "0 upgraded, 0 newly installed, 0 to remove and 37 not upgraded.\n"
          ]
        }
      ]
    },
    {
      "cell_type": "code",
      "metadata": {
        "colab": {
          "base_uri": "https://localhost:8080/"
        },
        "id": "C6kMuxn3Rp6J",
        "outputId": "c653bd6f-6116-4a49-e51f-0fe013bd9408"
      },
      "source": [
        "!wget https://nlp100.github.io/data/neko.txt\n",
        "!mecab -o ./neko.txt.mecab ./neko.txt"
      ],
      "execution_count": null,
      "outputs": [
        {
          "output_type": "stream",
          "name": "stdout",
          "text": [
            "--2021-11-09 06:35:20--  https://nlp100.github.io/data/neko.txt\n",
            "Resolving nlp100.github.io (nlp100.github.io)... 185.199.109.153, 185.199.108.153, 185.199.111.153, ...\n",
            "Connecting to nlp100.github.io (nlp100.github.io)|185.199.109.153|:443... connected.\n",
            "HTTP request sent, awaiting response... 200 OK\n",
            "Length: 975789 (953K) [text/plain]\n",
            "Saving to: ‘neko.txt’\n",
            "\n",
            "neko.txt            100%[===================>] 952.92K  --.-KB/s    in 0.03s   \n",
            "\n",
            "2021-11-09 06:35:20 (29.1 MB/s) - ‘neko.txt’ saved [975789/975789]\n",
            "\n"
          ]
        }
      ]
    },
    {
      "cell_type": "markdown",
      "metadata": {
        "id": "DCcBhB-3XQsv"
      },
      "source": [
        "**30. 形態素解析結果の読み込み**\n",
        "\n",
        "形態素解析結果（neko.txt.mecab）を読み込むプログラムを実装せよ．ただし，各形態素は表層形（surface），基本形（base），品詞（pos），品詞細分類1（pos1）をキーとするマッピング型に格納し，1文を形態素（マッピング型）のリストとして表現せよ．第4章の残りの問題では，ここで作ったプログラムを活用せよ．"
      ]
    },
    {
      "cell_type": "code",
      "metadata": {
        "id": "4gzFMVVpbYmk",
        "colab": {
          "base_uri": "https://localhost:8080/"
        },
        "outputId": "541e75bb-6162-4853-f05f-a33aa517019a"
      },
      "source": [
        "import pandas as pd\n",
        "from io import StringIO\n",
        "\n",
        "with open('neko.txt.mecab') as f:\n",
        "  mecab = f.read().replace('\\t',',')\n",
        "\n",
        "df = pd.read_csv(StringIO(mecab), sep=',', header=None)\n",
        "neko = [{'surface':df.iloc[i][0],\n",
        "        'base':df.iloc[i][7], \n",
        "        'pos':df.iloc[i][1], \n",
        "        'pos1':df.iloc[i][2]}\n",
        "        for i in range(df.shape[0])]\n",
        "\n",
        "print(len(neko))"
      ],
      "execution_count": null,
      "outputs": [
        {
          "output_type": "stream",
          "name": "stdout",
          "text": [
            "226266\n"
          ]
        }
      ]
    },
    {
      "cell_type": "code",
      "metadata": {
        "colab": {
          "base_uri": "https://localhost:8080/"
        },
        "id": "oDJQTxyLnRF_",
        "outputId": "8e55aed9-f737-4682-b1ef-e7e716886cbe"
      },
      "source": [
        "neko"
      ],
      "execution_count": null,
      "outputs": [
        {
          "output_type": "execute_result",
          "data": {
            "text/plain": [
              "[{'base': '一', 'pos': '名詞', 'pos1': '数', 'surface': '一'},\n",
              " {'base': '*', 'pos': '記号', 'pos1': '一般', 'surface': nan},\n",
              " {'base': nan, 'pos': nan, 'pos1': nan, 'surface': 'EOS'},\n",
              " {'base': '*', 'pos': '記号', 'pos1': '一般', 'surface': nan},\n",
              " {'base': nan, 'pos': nan, 'pos1': nan, 'surface': 'EOS'},\n",
              " {'base': '\\u3000', 'pos': '記号', 'pos1': '空白', 'surface': '\\u3000'},\n",
              " {'base': '吾輩', 'pos': '名詞', 'pos1': '代名詞', 'surface': '吾輩'},\n",
              " {'base': 'は', 'pos': '助詞', 'pos1': '係助詞', 'surface': 'は'},\n",
              " {'base': '猫', 'pos': '名詞', 'pos1': '一般', 'surface': '猫'},\n",
              " {'base': 'だ', 'pos': '助動詞', 'pos1': '*', 'surface': 'で'},\n",
              " {'base': 'ある', 'pos': '助動詞', 'pos1': '*', 'surface': 'ある'},\n",
              " {'base': '。', 'pos': '記号', 'pos1': '句点', 'surface': '。'},\n",
              " {'base': '*', 'pos': '記号', 'pos1': '一般', 'surface': nan},\n",
              " {'base': nan, 'pos': nan, 'pos1': nan, 'surface': 'EOS'},\n",
              " {'base': '名前', 'pos': '名詞', 'pos1': '一般', 'surface': '名前'},\n",
              " {'base': 'は', 'pos': '助詞', 'pos1': '係助詞', 'surface': 'は'},\n",
              " {'base': 'まだ', 'pos': '副詞', 'pos1': '助詞類接続', 'surface': 'まだ'},\n",
              " {'base': '無い', 'pos': '形容詞', 'pos1': '自立', 'surface': '無い'},\n",
              " {'base': '。', 'pos': '記号', 'pos1': '句点', 'surface': '。'},\n",
              " {'base': '*', 'pos': '記号', 'pos1': '一般', 'surface': nan},\n",
              " {'base': nan, 'pos': nan, 'pos1': nan, 'surface': 'EOS'},\n",
              " {'base': '*', 'pos': '記号', 'pos1': '一般', 'surface': nan},\n",
              " {'base': nan, 'pos': nan, 'pos1': nan, 'surface': 'EOS'},\n",
              " {'base': '\\u3000', 'pos': '記号', 'pos1': '空白', 'surface': '\\u3000'},\n",
              " {'base': 'どこ', 'pos': '名詞', 'pos1': '代名詞', 'surface': 'どこ'},\n",
              " {'base': 'で', 'pos': '助詞', 'pos1': '格助詞', 'surface': 'で'},\n",
              " {'base': '生れる', 'pos': '動詞', 'pos1': '自立', 'surface': '生れ'},\n",
              " {'base': 'た', 'pos': '助動詞', 'pos1': '*', 'surface': 'た'},\n",
              " {'base': 'か', 'pos': '助詞', 'pos1': '副助詞／並立助詞／終助詞', 'surface': 'か'},\n",
              " {'base': 'とんと', 'pos': '副詞', 'pos1': '一般', 'surface': 'とんと'},\n",
              " {'base': '見当', 'pos': '名詞', 'pos1': 'サ変接続', 'surface': '見当'},\n",
              " {'base': 'が', 'pos': '助詞', 'pos1': '格助詞', 'surface': 'が'},\n",
              " {'base': 'つく', 'pos': '動詞', 'pos1': '自立', 'surface': 'つか'},\n",
              " {'base': 'ぬ', 'pos': '助動詞', 'pos1': '*', 'surface': 'ぬ'},\n",
              " {'base': '。', 'pos': '記号', 'pos1': '句点', 'surface': '。'},\n",
              " {'base': '*', 'pos': '記号', 'pos1': '一般', 'surface': nan},\n",
              " {'base': nan, 'pos': nan, 'pos1': nan, 'surface': 'EOS'},\n",
              " {'base': '何', 'pos': '名詞', 'pos1': '代名詞', 'surface': '何'},\n",
              " {'base': 'でも', 'pos': '助詞', 'pos1': '副助詞', 'surface': 'でも'},\n",
              " {'base': '薄暗い', 'pos': '形容詞', 'pos1': '自立', 'surface': '薄暗い'},\n",
              " {'base': 'じめじめ', 'pos': '副詞', 'pos1': '一般', 'surface': 'じめじめ'},\n",
              " {'base': 'する', 'pos': '動詞', 'pos1': '自立', 'surface': 'し'},\n",
              " {'base': 'た', 'pos': '助動詞', 'pos1': '*', 'surface': 'た'},\n",
              " {'base': '所', 'pos': '名詞', 'pos1': '非自立', 'surface': '所'},\n",
              " {'base': 'で', 'pos': '助詞', 'pos1': '格助詞', 'surface': 'で'},\n",
              " {'base': '*', 'pos': '名詞', 'pos1': '一般', 'surface': 'ニャーニャー'},\n",
              " {'base': '泣く', 'pos': '動詞', 'pos1': '自立', 'surface': '泣い'},\n",
              " {'base': 'て', 'pos': '助詞', 'pos1': '接続助詞', 'surface': 'て'},\n",
              " {'base': 'いた事', 'pos': '名詞', 'pos1': '一般', 'surface': 'いた事'},\n",
              " {'base': 'だけ', 'pos': '助詞', 'pos1': '副助詞', 'surface': 'だけ'},\n",
              " {'base': 'は', 'pos': '助詞', 'pos1': '係助詞', 'surface': 'は'},\n",
              " {'base': '記憶', 'pos': '名詞', 'pos1': 'サ変接続', 'surface': '記憶'},\n",
              " {'base': 'する', 'pos': '動詞', 'pos1': '自立', 'surface': 'し'},\n",
              " {'base': 'て', 'pos': '助詞', 'pos1': '接続助詞', 'surface': 'て'},\n",
              " {'base': 'いる', 'pos': '動詞', 'pos1': '非自立', 'surface': 'いる'},\n",
              " {'base': '。', 'pos': '記号', 'pos1': '句点', 'surface': '。'},\n",
              " {'base': '*', 'pos': '記号', 'pos1': '一般', 'surface': nan},\n",
              " {'base': nan, 'pos': nan, 'pos1': nan, 'surface': 'EOS'},\n",
              " {'base': '吾輩', 'pos': '名詞', 'pos1': '代名詞', 'surface': '吾輩'},\n",
              " {'base': 'は', 'pos': '助詞', 'pos1': '係助詞', 'surface': 'は'},\n",
              " {'base': 'ここ', 'pos': '名詞', 'pos1': '代名詞', 'surface': 'ここ'},\n",
              " {'base': 'で', 'pos': '助詞', 'pos1': '格助詞', 'surface': 'で'},\n",
              " {'base': '始める', 'pos': '動詞', 'pos1': '自立', 'surface': '始め'},\n",
              " {'base': 'て', 'pos': '助詞', 'pos1': '接続助詞', 'surface': 'て'},\n",
              " {'base': '人間', 'pos': '名詞', 'pos1': '一般', 'surface': '人間'},\n",
              " {'base': 'という', 'pos': '助詞', 'pos1': '格助詞', 'surface': 'という'},\n",
              " {'base': 'もの', 'pos': '名詞', 'pos1': '非自立', 'surface': 'もの'},\n",
              " {'base': 'を', 'pos': '助詞', 'pos1': '格助詞', 'surface': 'を'},\n",
              " {'base': '見る', 'pos': '動詞', 'pos1': '自立', 'surface': '見'},\n",
              " {'base': 'た', 'pos': '助動詞', 'pos1': '*', 'surface': 'た'},\n",
              " {'base': '。', 'pos': '記号', 'pos1': '句点', 'surface': '。'},\n",
              " {'base': '*', 'pos': '記号', 'pos1': '一般', 'surface': nan},\n",
              " {'base': nan, 'pos': nan, 'pos1': nan, 'surface': 'EOS'},\n",
              " {'base': 'しかも', 'pos': '接続詞', 'pos1': '*', 'surface': 'しかも'},\n",
              " {'base': 'あと', 'pos': '名詞', 'pos1': '一般', 'surface': 'あと'},\n",
              " {'base': 'で', 'pos': '助詞', 'pos1': '格助詞', 'surface': 'で'},\n",
              " {'base': '聞く', 'pos': '動詞', 'pos1': '自立', 'surface': '聞く'},\n",
              " {'base': 'と', 'pos': '助詞', 'pos1': '接続助詞', 'surface': 'と'},\n",
              " {'base': 'それ', 'pos': '名詞', 'pos1': '代名詞', 'surface': 'それ'},\n",
              " {'base': 'は', 'pos': '助詞', 'pos1': '係助詞', 'surface': 'は'},\n",
              " {'base': '書生', 'pos': '名詞', 'pos1': '一般', 'surface': '書生'},\n",
              " {'base': 'という', 'pos': '助詞', 'pos1': '格助詞', 'surface': 'という'},\n",
              " {'base': '人間', 'pos': '名詞', 'pos1': '一般', 'surface': '人間'},\n",
              " {'base': '中', 'pos': '名詞', 'pos1': '接尾', 'surface': '中'},\n",
              " {'base': 'で', 'pos': '助詞', 'pos1': '格助詞', 'surface': 'で'},\n",
              " {'base': '一番', 'pos': '名詞', 'pos1': '副詞可能', 'surface': '一番'},\n",
              " {'base': '獰悪', 'pos': '名詞', 'pos1': '形容動詞語幹', 'surface': '獰悪'},\n",
              " {'base': 'だ', 'pos': '助動詞', 'pos1': '*', 'surface': 'な'},\n",
              " {'base': '種族', 'pos': '名詞', 'pos1': '一般', 'surface': '種族'},\n",
              " {'base': 'だ', 'pos': '助動詞', 'pos1': '*', 'surface': 'で'},\n",
              " {'base': 'ある', 'pos': '助動詞', 'pos1': '*', 'surface': 'あっ'},\n",
              " {'base': 'た', 'pos': '助動詞', 'pos1': '*', 'surface': 'た'},\n",
              " {'base': 'そう', 'pos': '名詞', 'pos1': '特殊', 'surface': 'そう'},\n",
              " {'base': 'だ', 'pos': '助動詞', 'pos1': '*', 'surface': 'だ'},\n",
              " {'base': '。', 'pos': '記号', 'pos1': '句点', 'surface': '。'},\n",
              " {'base': '*', 'pos': '記号', 'pos1': '一般', 'surface': nan},\n",
              " {'base': nan, 'pos': nan, 'pos1': nan, 'surface': 'EOS'},\n",
              " {'base': 'この', 'pos': '連体詞', 'pos1': '*', 'surface': 'この'},\n",
              " {'base': '書生', 'pos': '名詞', 'pos1': '一般', 'surface': '書生'},\n",
              " {'base': 'という', 'pos': '助詞', 'pos1': '格助詞', 'surface': 'という'},\n",
              " {'base': 'の', 'pos': '名詞', 'pos1': '非自立', 'surface': 'の'},\n",
              " {'base': 'は', 'pos': '助詞', 'pos1': '係助詞', 'surface': 'は'},\n",
              " {'base': '時々', 'pos': '副詞', 'pos1': '一般', 'surface': '時々'},\n",
              " {'base': '我々', 'pos': '名詞', 'pos1': '代名詞', 'surface': '我々'},\n",
              " {'base': 'を', 'pos': '助詞', 'pos1': '格助詞', 'surface': 'を'},\n",
              " {'base': '捕える', 'pos': '動詞', 'pos1': '自立', 'surface': '捕え'},\n",
              " {'base': 'て', 'pos': '助詞', 'pos1': '接続助詞', 'surface': 'て'},\n",
              " {'base': '煮る', 'pos': '動詞', 'pos1': '自立', 'surface': '煮'},\n",
              " {'base': 'て', 'pos': '助詞', 'pos1': '接続助詞', 'surface': 'て'},\n",
              " {'base': '食う', 'pos': '動詞', 'pos1': '自立', 'surface': '食う'},\n",
              " {'base': 'という', 'pos': '助詞', 'pos1': '格助詞', 'surface': 'という'},\n",
              " {'base': '話', 'pos': '名詞', 'pos1': 'サ変接続', 'surface': '話'},\n",
              " {'base': 'だ', 'pos': '助動詞', 'pos1': '*', 'surface': 'で'},\n",
              " {'base': 'ある', 'pos': '助動詞', 'pos1': '*', 'surface': 'ある'},\n",
              " {'base': '。', 'pos': '記号', 'pos1': '句点', 'surface': '。'},\n",
              " {'base': '*', 'pos': '記号', 'pos1': '一般', 'surface': nan},\n",
              " {'base': nan, 'pos': nan, 'pos1': nan, 'surface': 'EOS'},\n",
              " {'base': 'しかし', 'pos': '接続詞', 'pos1': '*', 'surface': 'しかし'},\n",
              " {'base': 'その', 'pos': '連体詞', 'pos1': '*', 'surface': 'その'},\n",
              " {'base': '当時', 'pos': '名詞', 'pos1': '副詞可能', 'surface': '当時'},\n",
              " {'base': 'は', 'pos': '助詞', 'pos1': '係助詞', 'surface': 'は'},\n",
              " {'base': '何', 'pos': '名詞', 'pos1': '代名詞', 'surface': '何'},\n",
              " {'base': 'という', 'pos': '助詞', 'pos1': '格助詞', 'surface': 'という'},\n",
              " {'base': '考', 'pos': '名詞', 'pos1': '一般', 'surface': '考'},\n",
              " {'base': 'も', 'pos': '助詞', 'pos1': '係助詞', 'surface': 'も'},\n",
              " {'base': 'ない', 'pos': '形容詞', 'pos1': '自立', 'surface': 'なかっ'},\n",
              " {'base': 'た', 'pos': '助動詞', 'pos1': '*', 'surface': 'た'},\n",
              " {'base': 'から', 'pos': '助詞', 'pos1': '接続助詞', 'surface': 'から'},\n",
              " {'base': '別段', 'pos': '副詞', 'pos1': '助詞類接続', 'surface': '別段'},\n",
              " {'base': '恐い', 'pos': '形容詞', 'pos1': '自立', 'surface': '恐し'},\n",
              " {'base': 'いとも', 'pos': '副詞', 'pos1': '一般', 'surface': 'いとも'},\n",
              " {'base': '思う', 'pos': '動詞', 'pos1': '自立', 'surface': '思わ'},\n",
              " {'base': 'ない', 'pos': '助動詞', 'pos1': '*', 'surface': 'なかっ'},\n",
              " {'base': 'た', 'pos': '助動詞', 'pos1': '*', 'surface': 'た'},\n",
              " {'base': '。', 'pos': '記号', 'pos1': '句点', 'surface': '。'},\n",
              " {'base': '*', 'pos': '記号', 'pos1': '一般', 'surface': nan},\n",
              " {'base': nan, 'pos': nan, 'pos1': nan, 'surface': 'EOS'},\n",
              " {'base': 'ただ', 'pos': '接続詞', 'pos1': '*', 'surface': 'ただ'},\n",
              " {'base': '彼', 'pos': '名詞', 'pos1': '代名詞', 'surface': '彼'},\n",
              " {'base': 'の', 'pos': '助詞', 'pos1': '連体化', 'surface': 'の'},\n",
              " {'base': '掌', 'pos': '名詞', 'pos1': '一般', 'surface': '掌'},\n",
              " {'base': 'に', 'pos': '助詞', 'pos1': '格助詞', 'surface': 'に'},\n",
              " {'base': '載せる', 'pos': '動詞', 'pos1': '自立', 'surface': '載せ'},\n",
              " {'base': 'られる', 'pos': '動詞', 'pos1': '接尾', 'surface': 'られ'},\n",
              " {'base': 'て', 'pos': '助詞', 'pos1': '接続助詞', 'surface': 'て'},\n",
              " {'base': 'スー', 'pos': '名詞', 'pos1': '固有名詞', 'surface': 'スー'},\n",
              " {'base': 'と', 'pos': '助詞', 'pos1': '格助詞', 'surface': 'と'},\n",
              " {'base': '持ち上げる', 'pos': '動詞', 'pos1': '自立', 'surface': '持ち上げ'},\n",
              " {'base': 'られる', 'pos': '動詞', 'pos1': '接尾', 'surface': 'られ'},\n",
              " {'base': 'た', 'pos': '助動詞', 'pos1': '*', 'surface': 'た'},\n",
              " {'base': '時', 'pos': '名詞', 'pos1': '非自立', 'surface': '時'},\n",
              " {'base': '何だか', 'pos': '副詞', 'pos1': '一般', 'surface': '何だか'},\n",
              " {'base': 'フワフワ', 'pos': '副詞', 'pos1': '助詞類接続', 'surface': 'フワフワ'},\n",
              " {'base': 'する', 'pos': '動詞', 'pos1': '自立', 'surface': 'し'},\n",
              " {'base': 'た', 'pos': '助動詞', 'pos1': '*', 'surface': 'た'},\n",
              " {'base': '感じ', 'pos': '名詞', 'pos1': '一般', 'surface': '感じ'},\n",
              " {'base': 'が', 'pos': '助詞', 'pos1': '格助詞', 'surface': 'が'},\n",
              " {'base': 'ある', 'pos': '動詞', 'pos1': '自立', 'surface': 'あっ'},\n",
              " {'base': 'た', 'pos': '助動詞', 'pos1': '*', 'surface': 'た'},\n",
              " {'base': 'ばかり', 'pos': '助詞', 'pos1': '副助詞', 'surface': 'ばかり'},\n",
              " {'base': 'だ', 'pos': '助動詞', 'pos1': '*', 'surface': 'で'},\n",
              " {'base': 'ある', 'pos': '助動詞', 'pos1': '*', 'surface': 'ある'},\n",
              " {'base': '。', 'pos': '記号', 'pos1': '句点', 'surface': '。'},\n",
              " {'base': '*', 'pos': '記号', 'pos1': '一般', 'surface': nan},\n",
              " {'base': nan, 'pos': nan, 'pos1': nan, 'surface': 'EOS'},\n",
              " {'base': '掌', 'pos': '名詞', 'pos1': '一般', 'surface': '掌'},\n",
              " {'base': 'の', 'pos': '助詞', 'pos1': '連体化', 'surface': 'の'},\n",
              " {'base': '上', 'pos': '名詞', 'pos1': '非自立', 'surface': '上'},\n",
              " {'base': 'で', 'pos': '助詞', 'pos1': '格助詞', 'surface': 'で'},\n",
              " {'base': '少し', 'pos': '副詞', 'pos1': '助詞類接続', 'surface': '少し'},\n",
              " {'base': '落ちつく', 'pos': '動詞', 'pos1': '自立', 'surface': '落ちつい'},\n",
              " {'base': 'て', 'pos': '助詞', 'pos1': '接続助詞', 'surface': 'て'},\n",
              " {'base': '書生', 'pos': '名詞', 'pos1': '一般', 'surface': '書生'},\n",
              " {'base': 'の', 'pos': '助詞', 'pos1': '連体化', 'surface': 'の'},\n",
              " {'base': '顔', 'pos': '名詞', 'pos1': '一般', 'surface': '顔'},\n",
              " {'base': 'を', 'pos': '助詞', 'pos1': '格助詞', 'surface': 'を'},\n",
              " {'base': '見る', 'pos': '動詞', 'pos1': '自立', 'surface': '見'},\n",
              " {'base': 'た', 'pos': '助動詞', 'pos1': '*', 'surface': 'た'},\n",
              " {'base': 'の', 'pos': '名詞', 'pos1': '非自立', 'surface': 'の'},\n",
              " {'base': 'が', 'pos': '助詞', 'pos1': '格助詞', 'surface': 'が'},\n",
              " {'base': 'いわゆる', 'pos': '連体詞', 'pos1': '*', 'surface': 'いわゆる'},\n",
              " {'base': '人間', 'pos': '名詞', 'pos1': '一般', 'surface': '人間'},\n",
              " {'base': 'という', 'pos': '助詞', 'pos1': '格助詞', 'surface': 'という'},\n",
              " {'base': 'もの', 'pos': '名詞', 'pos1': '非自立', 'surface': 'もの'},\n",
              " {'base': 'の', 'pos': '助詞', 'pos1': '格助詞', 'surface': 'の'},\n",
              " {'base': '見る', 'pos': '動詞', 'pos1': '自立', 'surface': '見'},\n",
              " {'base': '始', 'pos': '名詞', 'pos1': '固有名詞', 'surface': '始'},\n",
              " {'base': 'だ', 'pos': '助動詞', 'pos1': '*', 'surface': 'で'},\n",
              " {'base': 'ある', 'pos': '助動詞', 'pos1': '*', 'surface': 'あろ'},\n",
              " {'base': 'う', 'pos': '助動詞', 'pos1': '*', 'surface': 'う'},\n",
              " {'base': '。', 'pos': '記号', 'pos1': '句点', 'surface': '。'},\n",
              " {'base': '*', 'pos': '記号', 'pos1': '一般', 'surface': nan},\n",
              " {'base': nan, 'pos': nan, 'pos1': nan, 'surface': 'EOS'},\n",
              " {'base': 'この', 'pos': '連体詞', 'pos1': '*', 'surface': 'この'},\n",
              " {'base': '時', 'pos': '名詞', 'pos1': '非自立', 'surface': '時'},\n",
              " {'base': '妙', 'pos': '名詞', 'pos1': '形容動詞語幹', 'surface': '妙'},\n",
              " {'base': 'だ', 'pos': '助動詞', 'pos1': '*', 'surface': 'な'},\n",
              " {'base': 'もの', 'pos': '名詞', 'pos1': '非自立', 'surface': 'もの'},\n",
              " {'base': 'だ', 'pos': '助動詞', 'pos1': '*', 'surface': 'だ'},\n",
              " {'base': 'と', 'pos': '助詞', 'pos1': '格助詞', 'surface': 'と'},\n",
              " {'base': '思う', 'pos': '動詞', 'pos1': '自立', 'surface': '思っ'},\n",
              " {'base': 'た', 'pos': '助動詞', 'pos1': '*', 'surface': 'た'},\n",
              " {'base': '感じ', 'pos': '名詞', 'pos1': '一般', 'surface': '感じ'},\n",
              " {'base': 'が', 'pos': '助詞', 'pos1': '格助詞', 'surface': 'が'},\n",
              " {'base': '今', 'pos': '名詞', 'pos1': '副詞可能', 'surface': '今'},\n",
              " {'base': 'でも', 'pos': '助詞', 'pos1': '副助詞', 'surface': 'でも'},\n",
              " {'base': '残る', 'pos': '動詞', 'pos1': '自立', 'surface': '残っ'},\n",
              " {'base': 'て', 'pos': '助詞', 'pos1': '接続助詞', 'surface': 'て'},\n",
              " {'base': 'いる', 'pos': '動詞', 'pos1': '非自立', 'surface': 'いる'},\n",
              " {'base': '。', 'pos': '記号', 'pos1': '句点', 'surface': '。'},\n",
              " {'base': '*', 'pos': '記号', 'pos1': '一般', 'surface': nan},\n",
              " {'base': nan, 'pos': nan, 'pos1': nan, 'surface': 'EOS'},\n",
              " {'base': '第', 'pos': '接頭詞', 'pos1': '数接続', 'surface': '第'},\n",
              " {'base': '一', 'pos': '名詞', 'pos1': '数', 'surface': '一'},\n",
              " {'base': '毛', 'pos': '名詞', 'pos1': '接尾', 'surface': '毛'},\n",
              " {'base': 'をもって', 'pos': '助詞', 'pos1': '格助詞', 'surface': 'をもって'},\n",
              " {'base': '装飾', 'pos': '名詞', 'pos1': 'サ変接続', 'surface': '装飾'},\n",
              " {'base': 'する', 'pos': '動詞', 'pos1': '自立', 'surface': 'さ'},\n",
              " {'base': 'れる', 'pos': '動詞', 'pos1': '接尾', 'surface': 'れ'},\n",
              " {'base': 'べし', 'pos': '助動詞', 'pos1': '*', 'surface': 'べき'},\n",
              " {'base': 'はず', 'pos': '名詞', 'pos1': '非自立', 'surface': 'はず'},\n",
              " {'base': 'の', 'pos': '助詞', 'pos1': '連体化', 'surface': 'の'},\n",
              " {'base': '顔', 'pos': '名詞', 'pos1': '一般', 'surface': '顔'},\n",
              " {'base': 'が', 'pos': '助詞', 'pos1': '格助詞', 'surface': 'が'},\n",
              " {'base': 'つるつる', 'pos': '副詞', 'pos1': '一般', 'surface': 'つるつる'},\n",
              " {'base': 'する', 'pos': '動詞', 'pos1': '自立', 'surface': 'し'},\n",
              " {'base': 'て', 'pos': '助詞', 'pos1': '接続助詞', 'surface': 'て'},\n",
              " {'base': 'まるで', 'pos': '副詞', 'pos1': '一般', 'surface': 'まるで'},\n",
              " {'base': '薬缶', 'pos': '名詞', 'pos1': '一般', 'surface': '薬缶'},\n",
              " {'base': 'だ', 'pos': '助動詞', 'pos1': '*', 'surface': 'だ'},\n",
              " {'base': '。', 'pos': '記号', 'pos1': '句点', 'surface': '。'},\n",
              " {'base': '*', 'pos': '記号', 'pos1': '一般', 'surface': nan},\n",
              " {'base': nan, 'pos': nan, 'pos1': nan, 'surface': 'EOS'},\n",
              " {'base': 'その後', 'pos': '名詞', 'pos1': '副詞可能', 'surface': 'その後'},\n",
              " {'base': '猫', 'pos': '名詞', 'pos1': '一般', 'surface': '猫'},\n",
              " {'base': 'に', 'pos': '助詞', 'pos1': '格助詞', 'surface': 'に'},\n",
              " {'base': 'も', 'pos': '助詞', 'pos1': '係助詞', 'surface': 'も'},\n",
              " {'base': 'だいぶ', 'pos': '副詞', 'pos1': '一般', 'surface': 'だいぶ'},\n",
              " {'base': '逢う', 'pos': '動詞', 'pos1': '自立', 'surface': '逢っ'},\n",
              " {'base': 'た', 'pos': '助動詞', 'pos1': '*', 'surface': 'た'},\n",
              " {'base': 'が', 'pos': '助詞', 'pos1': '接続助詞', 'surface': 'が'},\n",
              " {'base': 'こんな', 'pos': '連体詞', 'pos1': '*', 'surface': 'こんな'},\n",
              " {'base': '片', 'pos': '接頭詞', 'pos1': '名詞接続', 'surface': '片'},\n",
              " {'base': '輪', 'pos': '名詞', 'pos1': '一般', 'surface': '輪'},\n",
              " {'base': 'に', 'pos': '助詞', 'pos1': '格助詞', 'surface': 'に'},\n",
              " {'base': 'は', 'pos': '助詞', 'pos1': '係助詞', 'surface': 'は'},\n",
              " {'base': '一', 'pos': '名詞', 'pos1': '数', 'surface': '一'},\n",
              " {'base': '度', 'pos': '名詞', 'pos1': '接尾', 'surface': '度'},\n",
              " {'base': 'も', 'pos': '助詞', 'pos1': '係助詞', 'surface': 'も'},\n",
              " {'base': '出会う', 'pos': '動詞', 'pos1': '自立', 'surface': '出会わ'},\n",
              " {'base': 'する', 'pos': '動詞', 'pos1': '自立', 'surface': 'し'},\n",
              " {'base': 'た', 'pos': '助動詞', 'pos1': '*', 'surface': 'た'},\n",
              " {'base': '事', 'pos': '名詞', 'pos1': '非自立', 'surface': '事'},\n",
              " {'base': 'が', 'pos': '助詞', 'pos1': '格助詞', 'surface': 'が'},\n",
              " {'base': 'ない', 'pos': '形容詞', 'pos1': '自立', 'surface': 'ない'},\n",
              " {'base': '。', 'pos': '記号', 'pos1': '句点', 'surface': '。'},\n",
              " {'base': '*', 'pos': '記号', 'pos1': '一般', 'surface': nan},\n",
              " {'base': nan, 'pos': nan, 'pos1': nan, 'surface': 'EOS'},\n",
              " {'base': 'のむ', 'pos': '動詞', 'pos1': '自立', 'surface': 'のみ'},\n",
              " {'base': 'なる', 'pos': '動詞', 'pos1': '非自立', 'surface': 'なら'},\n",
              " {'base': 'ぬ', 'pos': '助動詞', 'pos1': '*', 'surface': 'ず'},\n",
              " {'base': '顔', 'pos': '名詞', 'pos1': '一般', 'surface': '顔'},\n",
              " {'base': 'の', 'pos': '助詞', 'pos1': '連体化', 'surface': 'の'},\n",
              " {'base': '真中', 'pos': '名詞', 'pos1': '一般', 'surface': '真中'},\n",
              " {'base': 'が', 'pos': '助詞', 'pos1': '格助詞', 'surface': 'が'},\n",
              " {'base': 'あまりに', 'pos': '副詞', 'pos1': '助詞類接続', 'surface': 'あまりに'},\n",
              " {'base': '突起', 'pos': '名詞', 'pos1': 'サ変接続', 'surface': '突起'},\n",
              " {'base': 'する', 'pos': '動詞', 'pos1': '自立', 'surface': 'し'},\n",
              " {'base': 'て', 'pos': '助詞', 'pos1': '接続助詞', 'surface': 'て'},\n",
              " {'base': 'いる', 'pos': '動詞', 'pos1': '非自立', 'surface': 'いる'},\n",
              " {'base': '。', 'pos': '記号', 'pos1': '句点', 'surface': '。'},\n",
              " {'base': '*', 'pos': '記号', 'pos1': '一般', 'surface': nan},\n",
              " {'base': nan, 'pos': nan, 'pos1': nan, 'surface': 'EOS'},\n",
              " {'base': 'そうして', 'pos': '接続詞', 'pos1': '*', 'surface': 'そうして'},\n",
              " {'base': 'その', 'pos': '連体詞', 'pos1': '*', 'surface': 'その'},\n",
              " {'base': '穴', 'pos': '名詞', 'pos1': '一般', 'surface': '穴'},\n",
              " {'base': 'の', 'pos': '助詞', 'pos1': '連体化', 'surface': 'の'},\n",
              " {'base': '中', 'pos': '名詞', 'pos1': '非自立', 'surface': '中'},\n",
              " {'base': 'から', 'pos': '助詞', 'pos1': '格助詞', 'surface': 'から'},\n",
              " {'base': '時々', 'pos': '副詞', 'pos1': '一般', 'surface': '時々'},\n",
              " {'base': '*', 'pos': '名詞', 'pos1': '一般', 'surface': 'ぷうぷうと'},\n",
              " {'base': '煙', 'pos': '名詞', 'pos1': '一般', 'surface': '煙'},\n",
              " {'base': 'を', 'pos': '助詞', 'pos1': '格助詞', 'surface': 'を'},\n",
              " {'base': '吹く', 'pos': '動詞', 'pos1': '自立', 'surface': '吹く'},\n",
              " {'base': '。', 'pos': '記号', 'pos1': '句点', 'surface': '。'},\n",
              " {'base': '*', 'pos': '記号', 'pos1': '一般', 'surface': nan},\n",
              " {'base': nan, 'pos': nan, 'pos1': nan, 'surface': 'EOS'},\n",
              " {'base': 'どうも', 'pos': '副詞', 'pos1': '一般', 'surface': 'どうも'},\n",
              " {'base': '咽', 'pos': '名詞', 'pos1': '一般', 'surface': '咽'},\n",
              " {'base': 'する', 'pos': '動詞', 'pos1': '自立', 'surface': 'せ'},\n",
              " {'base': 'ぽい', 'pos': '形容詞', 'pos1': '接尾', 'surface': 'ぽく'},\n",
              " {'base': 'て', 'pos': '助詞', 'pos1': '接続助詞', 'surface': 'て'},\n",
              " {'base': '実に', 'pos': '副詞', 'pos1': '一般', 'surface': '実に'},\n",
              " {'base': '弱る', 'pos': '動詞', 'pos1': '自立', 'surface': '弱っ'},\n",
              " {'base': 'た', 'pos': '助動詞', 'pos1': '*', 'surface': 'た'},\n",
              " {'base': '。', 'pos': '記号', 'pos1': '句点', 'surface': '。'},\n",
              " {'base': '*', 'pos': '記号', 'pos1': '一般', 'surface': nan},\n",
              " {'base': nan, 'pos': nan, 'pos1': nan, 'surface': 'EOS'},\n",
              " {'base': 'これ', 'pos': '名詞', 'pos1': '代名詞', 'surface': 'これ'},\n",
              " {'base': 'が', 'pos': '助詞', 'pos1': '格助詞', 'surface': 'が'},\n",
              " {'base': '人間', 'pos': '名詞', 'pos1': '一般', 'surface': '人間'},\n",
              " {'base': 'の', 'pos': '助詞', 'pos1': '格助詞', 'surface': 'の'},\n",
              " {'base': '飲む', 'pos': '動詞', 'pos1': '自立', 'surface': '飲む'},\n",
              " {'base': '煙草', 'pos': '名詞', 'pos1': '一般', 'surface': '煙草'},\n",
              " {'base': 'という', 'pos': '助詞', 'pos1': '格助詞', 'surface': 'という'},\n",
              " {'base': 'もの', 'pos': '名詞', 'pos1': '非自立', 'surface': 'もの'},\n",
              " {'base': 'だ', 'pos': '助動詞', 'pos1': '*', 'surface': 'で'},\n",
              " {'base': 'ある', 'pos': '助動詞', 'pos1': '*', 'surface': 'ある'},\n",
              " {'base': '事', 'pos': '名詞', 'pos1': '非自立', 'surface': '事'},\n",
              " {'base': 'は', 'pos': '助詞', 'pos1': '係助詞', 'surface': 'は'},\n",
              " {'base': 'ようやく', 'pos': '副詞', 'pos1': '一般', 'surface': 'ようやく'},\n",
              " {'base': 'この', 'pos': '連体詞', 'pos1': '*', 'surface': 'この'},\n",
              " {'base': '頃', 'pos': '名詞', 'pos1': '非自立', 'surface': '頃'},\n",
              " {'base': '知る', 'pos': '動詞', 'pos1': '自立', 'surface': '知っ'},\n",
              " {'base': 'た', 'pos': '助動詞', 'pos1': '*', 'surface': 'た'},\n",
              " {'base': '。', 'pos': '記号', 'pos1': '句点', 'surface': '。'},\n",
              " {'base': '*', 'pos': '記号', 'pos1': '一般', 'surface': nan},\n",
              " {'base': nan, 'pos': nan, 'pos1': nan, 'surface': 'EOS'},\n",
              " {'base': '*', 'pos': '記号', 'pos1': '一般', 'surface': nan},\n",
              " {'base': nan, 'pos': nan, 'pos1': nan, 'surface': 'EOS'},\n",
              " {'base': '\\u3000', 'pos': '記号', 'pos1': '空白', 'surface': '\\u3000'},\n",
              " {'base': 'この', 'pos': '連体詞', 'pos1': '*', 'surface': 'この'},\n",
              " {'base': '書生', 'pos': '名詞', 'pos1': '一般', 'surface': '書生'},\n",
              " {'base': 'の', 'pos': '助詞', 'pos1': '連体化', 'surface': 'の'},\n",
              " {'base': '掌', 'pos': '名詞', 'pos1': '一般', 'surface': '掌'},\n",
              " {'base': 'の', 'pos': '助詞', 'pos1': '連体化', 'surface': 'の'},\n",
              " {'base': '裏', 'pos': '名詞', 'pos1': '一般', 'surface': '裏'},\n",
              " {'base': 'で', 'pos': '助詞', 'pos1': '格助詞', 'surface': 'で'},\n",
              " {'base': 'しばらく', 'pos': '副詞', 'pos1': '助詞類接続', 'surface': 'しばらく'},\n",
              " {'base': 'は', 'pos': '助詞', 'pos1': '係助詞', 'surface': 'は'},\n",
              " {'base': 'よい', 'pos': '形容詞', 'pos1': '自立', 'surface': 'よい'},\n",
              " {'base': '心持', 'pos': '名詞', 'pos1': '一般', 'surface': '心持'},\n",
              " {'base': 'に', 'pos': '助詞', 'pos1': '格助詞', 'surface': 'に'},\n",
              " {'base': '坐る', 'pos': '動詞', 'pos1': '自立', 'surface': '坐っ'},\n",
              " {'base': 'て', 'pos': '助詞', 'pos1': '接続助詞', 'surface': 'て'},\n",
              " {'base': 'おる', 'pos': '動詞', 'pos1': '自立', 'surface': 'おっ'},\n",
              " {'base': 'た', 'pos': '助動詞', 'pos1': '*', 'surface': 'た'},\n",
              " {'base': 'が', 'pos': '助詞', 'pos1': '接続助詞', 'surface': 'が'},\n",
              " {'base': '、', 'pos': '記号', 'pos1': '読点', 'surface': '、'},\n",
              " {'base': 'しばらく', 'pos': '副詞', 'pos1': '助詞類接続', 'surface': 'しばらく'},\n",
              " {'base': 'する', 'pos': '動詞', 'pos1': '自立', 'surface': 'する'},\n",
              " {'base': 'と', 'pos': '助詞', 'pos1': '接続助詞', 'surface': 'と'},\n",
              " {'base': '非常', 'pos': '名詞', 'pos1': '形容動詞語幹', 'surface': '非常'},\n",
              " {'base': 'だ', 'pos': '助動詞', 'pos1': '*', 'surface': 'な'},\n",
              " {'base': '速力', 'pos': '名詞', 'pos1': '一般', 'surface': '速力'},\n",
              " {'base': 'で', 'pos': '助詞', 'pos1': '格助詞', 'surface': 'で'},\n",
              " {'base': '運転', 'pos': '名詞', 'pos1': 'サ変接続', 'surface': '運転'},\n",
              " {'base': 'する', 'pos': '動詞', 'pos1': '自立', 'surface': 'し'},\n",
              " {'base': '始める', 'pos': '動詞', 'pos1': '非自立', 'surface': '始め'},\n",
              " {'base': 'た', 'pos': '助動詞', 'pos1': '*', 'surface': 'た'},\n",
              " {'base': '。', 'pos': '記号', 'pos1': '句点', 'surface': '。'},\n",
              " {'base': '*', 'pos': '記号', 'pos1': '一般', 'surface': nan},\n",
              " {'base': nan, 'pos': nan, 'pos1': nan, 'surface': 'EOS'},\n",
              " {'base': '書生', 'pos': '名詞', 'pos1': '一般', 'surface': '書生'},\n",
              " {'base': 'が', 'pos': '助詞', 'pos1': '格助詞', 'surface': 'が'},\n",
              " {'base': '動く', 'pos': '動詞', 'pos1': '自立', 'surface': '動く'},\n",
              " {'base': 'の', 'pos': '名詞', 'pos1': '非自立', 'surface': 'の'},\n",
              " {'base': 'か', 'pos': '助詞', 'pos1': '副助詞／並立助詞／終助詞', 'surface': 'か'},\n",
              " {'base': '自分', 'pos': '名詞', 'pos1': '一般', 'surface': '自分'},\n",
              " {'base': 'だけ', 'pos': '助詞', 'pos1': '副助詞', 'surface': 'だけ'},\n",
              " {'base': 'が', 'pos': '助詞', 'pos1': '格助詞', 'surface': 'が'},\n",
              " {'base': '動く', 'pos': '動詞', 'pos1': '自立', 'surface': '動く'},\n",
              " {'base': 'の', 'pos': '名詞', 'pos1': '非自立', 'surface': 'の'},\n",
              " {'base': 'か', 'pos': '助詞', 'pos1': '副助詞／並立助詞／終助詞', 'surface': 'か'},\n",
              " {'base': '分る', 'pos': '動詞', 'pos1': '自立', 'surface': '分ら'},\n",
              " {'base': 'ない', 'pos': '助動詞', 'pos1': '*', 'surface': 'ない'},\n",
              " {'base': 'が', 'pos': '助詞', 'pos1': '接続助詞', 'surface': 'が'},\n",
              " {'base': '無', 'pos': '接頭詞', 'pos1': '名詞接続', 'surface': '無'},\n",
              " {'base': '暗に', 'pos': '副詞', 'pos1': '一般', 'surface': '暗に'},\n",
              " {'base': '眼', 'pos': '名詞', 'pos1': '一般', 'surface': '眼'},\n",
              " {'base': 'が', 'pos': '助詞', 'pos1': '格助詞', 'surface': 'が'},\n",
              " {'base': '廻る', 'pos': '動詞', 'pos1': '自立', 'surface': '廻る'},\n",
              " {'base': '。', 'pos': '記号', 'pos1': '句点', 'surface': '。'},\n",
              " {'base': '*', 'pos': '記号', 'pos1': '一般', 'surface': nan},\n",
              " {'base': nan, 'pos': nan, 'pos1': nan, 'surface': 'EOS'},\n",
              " {'base': '胸', 'pos': '名詞', 'pos1': '一般', 'surface': '胸'},\n",
              " {'base': 'が', 'pos': '助詞', 'pos1': '格助詞', 'surface': 'が'},\n",
              " {'base': '悪い', 'pos': '形容詞', 'pos1': '自立', 'surface': '悪く'},\n",
              " {'base': 'なる', 'pos': '動詞', 'pos1': '自立', 'surface': 'なる'},\n",
              " {'base': '。', 'pos': '記号', 'pos1': '句点', 'surface': '。'},\n",
              " {'base': '*', 'pos': '記号', 'pos1': '一般', 'surface': nan},\n",
              " {'base': nan, 'pos': nan, 'pos1': nan, 'surface': 'EOS'},\n",
              " {'base': '到底', 'pos': '副詞', 'pos1': '一般', 'surface': '到底'},\n",
              " {'base': '助かる', 'pos': '動詞', 'pos1': '自立', 'surface': '助から'},\n",
              " {'base': 'ない', 'pos': '助動詞', 'pos1': '*', 'surface': 'ない'},\n",
              " {'base': 'と', 'pos': '助詞', 'pos1': '格助詞', 'surface': 'と'},\n",
              " {'base': '思う', 'pos': '動詞', 'pos1': '自立', 'surface': '思っ'},\n",
              " {'base': 'て', 'pos': '助詞', 'pos1': '接続助詞', 'surface': 'て'},\n",
              " {'base': 'いる', 'pos': '動詞', 'pos1': '非自立', 'surface': 'いる'},\n",
              " {'base': 'と', 'pos': '助詞', 'pos1': '接続助詞', 'surface': 'と'},\n",
              " {'base': '、', 'pos': '記号', 'pos1': '読点', 'surface': '、'},\n",
              " {'base': 'ど', 'pos': '接頭詞', 'pos1': '名詞接続', 'surface': 'ど'},\n",
              " {'base': 'さる', 'pos': '動詞', 'pos1': '自立', 'surface': 'さり'},\n",
              " {'base': 'と', 'pos': '助詞', 'pos1': '並立助詞', 'surface': 'と'},\n",
              " {'base': '音', 'pos': '名詞', 'pos1': '一般', 'surface': '音'},\n",
              " {'base': 'が', 'pos': '助詞', 'pos1': '格助詞', 'surface': 'が'},\n",
              " {'base': 'する', 'pos': '動詞', 'pos1': '自立', 'surface': 'し'},\n",
              " {'base': 'て', 'pos': '助詞', 'pos1': '接続助詞', 'surface': 'て'},\n",
              " {'base': '眼', 'pos': '名詞', 'pos1': '一般', 'surface': '眼'},\n",
              " {'base': 'から', 'pos': '助詞', 'pos1': '格助詞', 'surface': 'から'},\n",
              " {'base': '火', 'pos': '名詞', 'pos1': '一般', 'surface': '火'},\n",
              " {'base': 'が', 'pos': '助詞', 'pos1': '格助詞', 'surface': 'が'},\n",
              " {'base': '出る', 'pos': '動詞', 'pos1': '自立', 'surface': '出'},\n",
              " {'base': 'た', 'pos': '助動詞', 'pos1': '*', 'surface': 'た'},\n",
              " {'base': '。', 'pos': '記号', 'pos1': '句点', 'surface': '。'},\n",
              " {'base': '*', 'pos': '記号', 'pos1': '一般', 'surface': nan},\n",
              " {'base': nan, 'pos': nan, 'pos1': nan, 'surface': 'EOS'},\n",
              " {'base': 'それ', 'pos': '名詞', 'pos1': '代名詞', 'surface': 'それ'},\n",
              " {'base': 'まで', 'pos': '助詞', 'pos1': '副助詞', 'surface': 'まで'},\n",
              " {'base': 'は', 'pos': '助詞', 'pos1': '係助詞', 'surface': 'は'},\n",
              " {'base': '記憶', 'pos': '名詞', 'pos1': 'サ変接続', 'surface': '記憶'},\n",
              " {'base': 'する', 'pos': '動詞', 'pos1': '自立', 'surface': 'し'},\n",
              " {'base': 'て', 'pos': '助詞', 'pos1': '接続助詞', 'surface': 'て'},\n",
              " {'base': 'いる', 'pos': '動詞', 'pos1': '非自立', 'surface': 'いる'},\n",
              " {'base': 'が', 'pos': '助詞', 'pos1': '接続助詞', 'surface': 'が'},\n",
              " {'base': 'あと', 'pos': '名詞', 'pos1': '一般', 'surface': 'あと'},\n",
              " {'base': 'は', 'pos': '助詞', 'pos1': '係助詞', 'surface': 'は'},\n",
              " {'base': '何', 'pos': '名詞', 'pos1': '代名詞', 'surface': '何'},\n",
              " {'base': 'の', 'pos': '助詞', 'pos1': '連体化', 'surface': 'の'},\n",
              " {'base': '事', 'pos': '名詞', 'pos1': '非自立', 'surface': '事'},\n",
              " {'base': 'やら', 'pos': '助詞', 'pos1': '終助詞', 'surface': 'やら'},\n",
              " {'base': 'いくら', 'pos': '副詞', 'pos1': '一般', 'surface': 'いくら'},\n",
              " {'base': '考え出す', 'pos': '動詞', 'pos1': '自立', 'surface': '考え出そ'},\n",
              " {'base': 'う', 'pos': '助動詞', 'pos1': '*', 'surface': 'う'},\n",
              " {'base': 'として', 'pos': '助詞', 'pos1': '格助詞', 'surface': 'として'},\n",
              " {'base': 'も', 'pos': '助詞', 'pos1': '係助詞', 'surface': 'も'},\n",
              " {'base': '分る', 'pos': '動詞', 'pos1': '自立', 'surface': '分ら'},\n",
              " {'base': 'ない', 'pos': '助動詞', 'pos1': '*', 'surface': 'ない'},\n",
              " {'base': '。', 'pos': '記号', 'pos1': '句点', 'surface': '。'},\n",
              " {'base': '*', 'pos': '記号', 'pos1': '一般', 'surface': nan},\n",
              " {'base': nan, 'pos': nan, 'pos1': nan, 'surface': 'EOS'},\n",
              " {'base': '*', 'pos': '記号', 'pos1': '一般', 'surface': nan},\n",
              " {'base': nan, 'pos': nan, 'pos1': nan, 'surface': 'EOS'},\n",
              " {'base': '\\u3000', 'pos': '記号', 'pos1': '空白', 'surface': '\\u3000'},\n",
              " {'base': 'ふと', 'pos': '副詞', 'pos1': '一般', 'surface': 'ふと'},\n",
              " {'base': '気', 'pos': '名詞', 'pos1': '一般', 'surface': '気'},\n",
              " {'base': 'が', 'pos': '助詞', 'pos1': '格助詞', 'surface': 'が'},\n",
              " {'base': '付く', 'pos': '動詞', 'pos1': '自立', 'surface': '付い'},\n",
              " {'base': 'て', 'pos': '助詞', 'pos1': '接続助詞', 'surface': 'て'},\n",
              " {'base': '見る', 'pos': '動詞', 'pos1': '自立', 'surface': '見る'},\n",
              " {'base': 'と', 'pos': '助詞', 'pos1': '接続助詞', 'surface': 'と'},\n",
              " {'base': '書生', 'pos': '名詞', 'pos1': '一般', 'surface': '書生'},\n",
              " {'base': 'は', 'pos': '助詞', 'pos1': '係助詞', 'surface': 'は'},\n",
              " {'base': 'いる', 'pos': '動詞', 'pos1': '自立', 'surface': 'い'},\n",
              " {'base': 'ない', 'pos': '助動詞', 'pos1': '*', 'surface': 'ない'},\n",
              " {'base': '。', 'pos': '記号', 'pos1': '句点', 'surface': '。'},\n",
              " {'base': '*', 'pos': '記号', 'pos1': '一般', 'surface': nan},\n",
              " {'base': nan, 'pos': nan, 'pos1': nan, 'surface': 'EOS'},\n",
              " {'base': 'たくさん', 'pos': '名詞', 'pos1': '副詞可能', 'surface': 'たくさん'},\n",
              " {'base': 'おる', 'pos': '動詞', 'pos1': '自立', 'surface': 'おっ'},\n",
              " {'base': 'た', 'pos': '助動詞', 'pos1': '*', 'surface': 'た'},\n",
              " {'base': '兄弟', 'pos': '名詞', 'pos1': '一般', 'surface': '兄弟'},\n",
              " {'base': 'が', 'pos': '助詞', 'pos1': '格助詞', 'surface': 'が'},\n",
              " {'base': '一疋', 'pos': '名詞', 'pos1': '一般', 'surface': '一疋'},\n",
              " {'base': 'も', 'pos': '助詞', 'pos1': '係助詞', 'surface': 'も'},\n",
              " {'base': '見える', 'pos': '動詞', 'pos1': '自立', 'surface': '見え'},\n",
              " {'base': 'ぬ', 'pos': '助動詞', 'pos1': '*', 'surface': 'ぬ'},\n",
              " {'base': '。', 'pos': '記号', 'pos1': '句点', 'surface': '。'},\n",
              " {'base': '*', 'pos': '記号', 'pos1': '一般', 'surface': nan},\n",
              " {'base': nan, 'pos': nan, 'pos1': nan, 'surface': 'EOS'},\n",
              " {'base': '肝心', 'pos': '名詞', 'pos1': '形容動詞語幹', 'surface': '肝心'},\n",
              " {'base': 'の', 'pos': '助詞', 'pos1': '連体化', 'surface': 'の'},\n",
              " {'base': '母親', 'pos': '名詞', 'pos1': '一般', 'surface': '母親'},\n",
              " {'base': 'さえ', 'pos': '助詞', 'pos1': '係助詞', 'surface': 'さえ'},\n",
              " {'base': '姿', 'pos': '名詞', 'pos1': '一般', 'surface': '姿'},\n",
              " {'base': 'を', 'pos': '助詞', 'pos1': '格助詞', 'surface': 'を'},\n",
              " {'base': '隠す', 'pos': '動詞', 'pos1': '自立', 'surface': '隠し'},\n",
              " {'base': 'て', 'pos': '助詞', 'pos1': '接続助詞', 'surface': 'て'},\n",
              " {'base': 'しまう', 'pos': '動詞', 'pos1': '非自立', 'surface': 'しまっ'},\n",
              " {'base': 'た', 'pos': '助動詞', 'pos1': '*', 'surface': 'た'},\n",
              " {'base': '。', 'pos': '記号', 'pos1': '句点', 'surface': '。'},\n",
              " {'base': '*', 'pos': '記号', 'pos1': '一般', 'surface': nan},\n",
              " {'base': nan, 'pos': nan, 'pos1': nan, 'surface': 'EOS'},\n",
              " {'base': 'その', 'pos': '連体詞', 'pos1': '*', 'surface': 'その'},\n",
              " {'base': '上今', 'pos': '名詞', 'pos1': '固有名詞', 'surface': '上今'},\n",
              " {'base': 'まで', 'pos': '助詞', 'pos1': '副助詞', 'surface': 'まで'},\n",
              " {'base': 'の', 'pos': '助詞', 'pos1': '連体化', 'surface': 'の'},\n",
              " {'base': '所', 'pos': '名詞', 'pos1': '非自立', 'surface': '所'},\n",
              " {'base': 'と', 'pos': '助詞', 'pos1': '格助詞', 'surface': 'と'},\n",
              " {'base': 'は', 'pos': '助詞', 'pos1': '係助詞', 'surface': 'は'},\n",
              " {'base': '違う', 'pos': '動詞', 'pos1': '自立', 'surface': '違っ'},\n",
              " {'base': 'て', 'pos': '助詞', 'pos1': '接続助詞', 'surface': 'て'},\n",
              " {'base': '無', 'pos': '接頭詞', 'pos1': '名詞接続', 'surface': '無'},\n",
              " {'base': '暗に', 'pos': '副詞', 'pos1': '一般', 'surface': '暗に'},\n",
              " {'base': '明るい', 'pos': '形容詞', 'pos1': '自立', 'surface': '明るい'},\n",
              " {'base': '。', 'pos': '記号', 'pos1': '句点', 'surface': '。'},\n",
              " {'base': '*', 'pos': '記号', 'pos1': '一般', 'surface': nan},\n",
              " {'base': nan, 'pos': nan, 'pos1': nan, 'surface': 'EOS'},\n",
              " {'base': '眼', 'pos': '名詞', 'pos1': '一般', 'surface': '眼'},\n",
              " {'base': 'を', 'pos': '助詞', 'pos1': '格助詞', 'surface': 'を'},\n",
              " {'base': '明く', 'pos': '動詞', 'pos1': '自立', 'surface': '明い'},\n",
              " {'base': 'て', 'pos': '助詞', 'pos1': '接続助詞', 'surface': 'て'},\n",
              " {'base': 'いる', 'pos': '動詞', 'pos1': '非自立', 'surface': 'い'},\n",
              " {'base': 'られる', 'pos': '動詞', 'pos1': '接尾', 'surface': 'られ'},\n",
              " {'base': 'ぬ', 'pos': '助動詞', 'pos1': '*', 'surface': 'ぬ'},\n",
              " {'base': 'くらい', 'pos': '助詞', 'pos1': '副助詞', 'surface': 'くらい'},\n",
              " {'base': 'だ', 'pos': '助動詞', 'pos1': '*', 'surface': 'だ'},\n",
              " {'base': '。', 'pos': '記号', 'pos1': '句点', 'surface': '。'},\n",
              " {'base': '*', 'pos': '記号', 'pos1': '一般', 'surface': nan},\n",
              " {'base': nan, 'pos': nan, 'pos1': nan, 'surface': 'EOS'},\n",
              " {'base': 'はてな', 'pos': '感動詞', 'pos1': '*', 'surface': 'はてな'},\n",
              " {'base': '何', 'pos': '名詞', 'pos1': '代名詞', 'surface': '何'},\n",
              " {'base': 'でも', 'pos': '助詞', 'pos1': '副助詞', 'surface': 'でも'},\n",
              " {'base': '容子', 'pos': '名詞', 'pos1': '一般', 'surface': '容子'},\n",
              " {'base': 'が', 'pos': '助詞', 'pos1': '格助詞', 'surface': 'が'},\n",
              " {'base': 'おかしい', 'pos': '形容詞', 'pos1': '自立', 'surface': 'おかしい'},\n",
              " {'base': 'と', 'pos': '助詞', 'pos1': '接続助詞', 'surface': 'と'},\n",
              " {'base': '、', 'pos': '記号', 'pos1': '読点', 'surface': '、'},\n",
              " {'base': 'のそのそ', 'pos': '副詞', 'pos1': '一般', 'surface': 'のそのそ'},\n",
              " {'base': '這い出す', 'pos': '動詞', 'pos1': '自立', 'surface': '這い出し'},\n",
              " {'base': 'て', 'pos': '助詞', 'pos1': '接続助詞', 'surface': 'て'},\n",
              " {'base': '見る', 'pos': '動詞', 'pos1': '自立', 'surface': '見る'},\n",
              " {'base': 'と', 'pos': '助詞', 'pos1': '接続助詞', 'surface': 'と'},\n",
              " {'base': '非常', 'pos': '名詞', 'pos1': '形容動詞語幹', 'surface': '非常'},\n",
              " {'base': 'に', 'pos': '助詞', 'pos1': '副詞化', 'surface': 'に'},\n",
              " {'base': '痛い', 'pos': '形容詞', 'pos1': '自立', 'surface': '痛い'},\n",
              " {'base': '。', 'pos': '記号', 'pos1': '句点', 'surface': '。'},\n",
              " {'base': '*', 'pos': '記号', 'pos1': '一般', 'surface': nan},\n",
              " {'base': nan, 'pos': nan, 'pos1': nan, 'surface': 'EOS'},\n",
              " {'base': '吾輩', 'pos': '名詞', 'pos1': '代名詞', 'surface': '吾輩'},\n",
              " {'base': 'は', 'pos': '助詞', 'pos1': '係助詞', 'surface': 'は'},\n",
              " {'base': '藁', 'pos': '名詞', 'pos1': '一般', 'surface': '藁'},\n",
              " {'base': 'の', 'pos': '助詞', 'pos1': '連体化', 'surface': 'の'},\n",
              " {'base': '上', 'pos': '名詞', 'pos1': '非自立', 'surface': '上'},\n",
              " {'base': 'から', 'pos': '助詞', 'pos1': '格助詞', 'surface': 'から'},\n",
              " {'base': '急', 'pos': '名詞', 'pos1': '形容動詞語幹', 'surface': '急'},\n",
              " {'base': 'に', 'pos': '助詞', 'pos1': '副詞化', 'surface': 'に'},\n",
              " {'base': '笹原', 'pos': '名詞', 'pos1': '一般', 'surface': '笹原'},\n",
              " {'base': 'の', 'pos': '助詞', 'pos1': '連体化', 'surface': 'の'},\n",
              " {'base': '中', 'pos': '名詞', 'pos1': '非自立', 'surface': '中'},\n",
              " {'base': 'へ', 'pos': '助詞', 'pos1': '格助詞', 'surface': 'へ'},\n",
              " {'base': '棄てる', 'pos': '動詞', 'pos1': '自立', 'surface': '棄て'},\n",
              " {'base': 'られる', 'pos': '動詞', 'pos1': '接尾', 'surface': 'られ'},\n",
              " {'base': 'た', 'pos': '助動詞', 'pos1': '*', 'surface': 'た'},\n",
              " {'base': 'の', 'pos': '名詞', 'pos1': '非自立', 'surface': 'の'},\n",
              " {'base': 'だ', 'pos': '助動詞', 'pos1': '*', 'surface': 'で'},\n",
              " {'base': 'ある', 'pos': '助動詞', 'pos1': '*', 'surface': 'ある'},\n",
              " {'base': '。', 'pos': '記号', 'pos1': '句点', 'surface': '。'},\n",
              " {'base': '*', 'pos': '記号', 'pos1': '一般', 'surface': nan},\n",
              " {'base': nan, 'pos': nan, 'pos1': nan, 'surface': 'EOS'},\n",
              " {'base': '*', 'pos': '記号', 'pos1': '一般', 'surface': nan},\n",
              " {'base': nan, 'pos': nan, 'pos1': nan, 'surface': 'EOS'},\n",
              " {'base': '\\u3000', 'pos': '記号', 'pos1': '空白', 'surface': '\\u3000'},\n",
              " {'base': 'ようやく', 'pos': '副詞', 'pos1': '一般', 'surface': 'ようやく'},\n",
              " {'base': 'の', 'pos': '助詞', 'pos1': '連体化', 'surface': 'の'},\n",
              " {'base': '思い', 'pos': '名詞', 'pos1': '一般', 'surface': '思い'},\n",
              " {'base': 'で', 'pos': '助詞', 'pos1': '格助詞', 'surface': 'で'},\n",
              " {'base': '笹原', 'pos': '名詞', 'pos1': '一般', 'surface': '笹原'},\n",
              " {'base': 'を', 'pos': '助詞', 'pos1': '格助詞', 'surface': 'を'},\n",
              " {'base': '這い出す', 'pos': '動詞', 'pos1': '自立', 'surface': '這い出す'},\n",
              " {'base': 'と', 'pos': '助詞', 'pos1': '接続助詞', 'surface': 'と'},\n",
              " {'base': '向う', 'pos': '名詞', 'pos1': '一般', 'surface': '向う'},\n",
              " {'base': 'に', 'pos': '助詞', 'pos1': '格助詞', 'surface': 'に'},\n",
              " {'base': '大きな', 'pos': '連体詞', 'pos1': '*', 'surface': '大きな'},\n",
              " {'base': '池', 'pos': '名詞', 'pos1': '一般', 'surface': '池'},\n",
              " {'base': 'が', 'pos': '助詞', 'pos1': '格助詞', 'surface': 'が'},\n",
              " {'base': 'ある', 'pos': '動詞', 'pos1': '自立', 'surface': 'ある'},\n",
              " {'base': '。', 'pos': '記号', 'pos1': '句点', 'surface': '。'},\n",
              " {'base': '*', 'pos': '記号', 'pos1': '一般', 'surface': nan},\n",
              " {'base': nan, 'pos': nan, 'pos1': nan, 'surface': 'EOS'},\n",
              " {'base': '吾輩', 'pos': '名詞', 'pos1': '代名詞', 'surface': '吾輩'},\n",
              " {'base': 'は', 'pos': '助詞', 'pos1': '係助詞', 'surface': 'は'},\n",
              " {'base': '池', 'pos': '名詞', 'pos1': '一般', 'surface': '池'},\n",
              " {'base': 'の', 'pos': '助詞', 'pos1': '連体化', 'surface': 'の'},\n",
              " {'base': '前', 'pos': '名詞', 'pos1': '副詞可能', 'surface': '前'},\n",
              " {'base': 'に', 'pos': '助詞', 'pos1': '格助詞', 'surface': 'に'},\n",
              " {'base': '坐る', 'pos': '動詞', 'pos1': '自立', 'surface': '坐っ'},\n",
              " {'base': 'て', 'pos': '助詞', 'pos1': '接続助詞', 'surface': 'て'},\n",
              " {'base': 'どう', 'pos': '副詞', 'pos1': '助詞類接続', 'surface': 'どう'},\n",
              " {'base': 'する', 'pos': '動詞', 'pos1': '自立', 'surface': 'し'},\n",
              " {'base': 'た', 'pos': '助動詞', 'pos1': '*', 'surface': 'たら'},\n",
              " {'base': 'よい', 'pos': '形容詞', 'pos1': '自立', 'surface': 'よかろ'},\n",
              " {'base': 'う', 'pos': '助動詞', 'pos1': '*', 'surface': 'う'},\n",
              " {'base': 'と', 'pos': '助詞', 'pos1': '格助詞', 'surface': 'と'},\n",
              " {'base': '考える', 'pos': '動詞', 'pos1': '自立', 'surface': '考え'},\n",
              " {'base': 'て', 'pos': '助詞', 'pos1': '接続助詞', 'surface': 'て'},\n",
              " {'base': '見る', 'pos': '動詞', 'pos1': '自立', 'surface': '見'},\n",
              " {'base': 'た', 'pos': '助動詞', 'pos1': '*', 'surface': 'た'},\n",
              " {'base': '。', 'pos': '記号', 'pos1': '句点', 'surface': '。'},\n",
              " {'base': '*', 'pos': '記号', 'pos1': '一般', 'surface': nan},\n",
              " {'base': nan, 'pos': nan, 'pos1': nan, 'surface': 'EOS'},\n",
              " {'base': '別に', 'pos': '副詞', 'pos1': '一般', 'surface': '別に'},\n",
              " {'base': 'これ', 'pos': '名詞', 'pos1': '代名詞', 'surface': 'これ'},\n",
              " {'base': 'という', 'pos': '助詞', 'pos1': '格助詞', 'surface': 'という'},\n",
              " {'base': '分別', 'pos': '名詞', 'pos1': 'サ変接続', 'surface': '分別'},\n",
              " {'base': 'も', 'pos': '助詞', 'pos1': '係助詞', 'surface': 'も'},\n",
              " {'base': '出る', 'pos': '動詞', 'pos1': '自立', 'surface': '出'},\n",
              " {'base': 'ない', 'pos': '助動詞', 'pos1': '*', 'surface': 'ない'},\n",
              " {'base': '。', 'pos': '記号', 'pos1': '句点', 'surface': '。'},\n",
              " {'base': '*', 'pos': '記号', 'pos1': '一般', 'surface': nan},\n",
              " {'base': nan, 'pos': nan, 'pos1': nan, 'surface': 'EOS'},\n",
              " {'base': 'しばらく', 'pos': '副詞', 'pos1': '助詞類接続', 'surface': 'しばらく'},\n",
              " {'base': 'する', 'pos': '動詞', 'pos1': '自立', 'surface': 'し'},\n",
              " {'base': 'て', 'pos': '助詞', 'pos1': '接続助詞', 'surface': 'て'},\n",
              " {'base': '泣く', 'pos': '動詞', 'pos1': '自立', 'surface': '泣い'},\n",
              " {'base': 'た', 'pos': '助動詞', 'pos1': '*', 'surface': 'たら'},\n",
              " {'base': '書生', 'pos': '名詞', 'pos1': '一般', 'surface': '書生'},\n",
              " {'base': 'が', 'pos': '助詞', 'pos1': '格助詞', 'surface': 'が'},\n",
              " {'base': 'また', 'pos': '接続詞', 'pos1': '*', 'surface': 'また'},\n",
              " {'base': '迎', 'pos': '名詞', 'pos1': '固有名詞', 'surface': '迎'},\n",
              " {'base': 'に', 'pos': '助詞', 'pos1': '格助詞', 'surface': 'に'},\n",
              " {'base': '来る', 'pos': '動詞', 'pos1': '自立', 'surface': '来'},\n",
              " {'base': 'て', 'pos': '助詞', 'pos1': '接続助詞', 'surface': 'て'},\n",
              " {'base': 'くれる', 'pos': '動詞', 'pos1': '非自立', 'surface': 'くれる'},\n",
              " {'base': 'か', 'pos': '助詞', 'pos1': '副助詞／並立助詞／終助詞', 'surface': 'か'},\n",
              " {'base': 'と', 'pos': '助詞', 'pos1': '格助詞', 'surface': 'と'},\n",
              " {'base': '考え付く', 'pos': '動詞', 'pos1': '自立', 'surface': '考え付い'},\n",
              " {'base': 'た', 'pos': '助動詞', 'pos1': '*', 'surface': 'た'},\n",
              " {'base': '。', 'pos': '記号', 'pos1': '句点', 'surface': '。'},\n",
              " {'base': '*', 'pos': '記号', 'pos1': '一般', 'surface': nan},\n",
              " {'base': nan, 'pos': nan, 'pos1': nan, 'surface': 'EOS'},\n",
              " {'base': '*', 'pos': '名詞', 'pos1': '一般', 'surface': 'ニャー'},\n",
              " {'base': '、', 'pos': '記号', 'pos1': '読点', 'surface': '、'},\n",
              " {'base': '*', 'pos': '名詞', 'pos1': '一般', 'surface': 'ニャー'},\n",
              " {'base': 'と', 'pos': '助詞', 'pos1': '並立助詞', 'surface': 'と'},\n",
              " {'base': '試み', 'pos': '名詞', 'pos1': '一般', 'surface': '試み'},\n",
              " {'base': 'に', 'pos': '助詞', 'pos1': '格助詞', 'surface': 'に'},\n",
              " {'base': 'やる', 'pos': '動詞', 'pos1': '自立', 'surface': 'やっ'},\n",
              " {'base': 'て', 'pos': '助詞', 'pos1': '接続助詞', 'surface': 'て'},\n",
              " {'base': '見る', 'pos': '動詞', 'pos1': '自立', 'surface': '見'},\n",
              " {'base': 'た', 'pos': '助動詞', 'pos1': '*', 'surface': 'た'},\n",
              " {'base': 'が', 'pos': '助詞', 'pos1': '接続助詞', 'surface': 'が'},\n",
              " {'base': '誰', 'pos': '名詞', 'pos1': '代名詞', 'surface': '誰'},\n",
              " {'base': 'も', 'pos': '助詞', 'pos1': '係助詞', 'surface': 'も'},\n",
              " {'base': '来る', 'pos': '動詞', 'pos1': '自立', 'surface': '来'},\n",
              " {'base': 'ない', 'pos': '助動詞', 'pos1': '*', 'surface': 'ない'},\n",
              " {'base': '。', 'pos': '記号', 'pos1': '句点', 'surface': '。'},\n",
              " {'base': '*', 'pos': '記号', 'pos1': '一般', 'surface': nan},\n",
              " {'base': nan, 'pos': nan, 'pos1': nan, 'surface': 'EOS'},\n",
              " {'base': 'そのうち', 'pos': '副詞', 'pos1': '一般', 'surface': 'そのうち'},\n",
              " {'base': '池', 'pos': '名詞', 'pos1': '一般', 'surface': '池'},\n",
              " {'base': 'の', 'pos': '助詞', 'pos1': '連体化', 'surface': 'の'},\n",
              " {'base': '上', 'pos': '名詞', 'pos1': '非自立', 'surface': '上'},\n",
              " {'base': 'を', 'pos': '助詞', 'pos1': '格助詞', 'surface': 'を'},\n",
              " {'base': 'さらさら', 'pos': '副詞', 'pos1': '一般', 'surface': 'さらさら'},\n",
              " {'base': 'と', 'pos': '助詞', 'pos1': '副詞化', 'surface': 'と'},\n",
              " {'base': '風', 'pos': '名詞', 'pos1': '一般', 'surface': '風'},\n",
              " {'base': 'が', 'pos': '助詞', 'pos1': '格助詞', 'surface': 'が'},\n",
              " {'base': '渡る', 'pos': '動詞', 'pos1': '自立', 'surface': '渡っ'},\n",
              " {'base': 'て', 'pos': '助詞', 'pos1': '接続助詞', 'surface': 'て'},\n",
              " {'base': '日', 'pos': '名詞', 'pos1': '一般', 'surface': '日'},\n",
              " {'base': 'が', 'pos': '助詞', 'pos1': '格助詞', 'surface': 'が'},\n",
              " {'base': '暮れ', 'pos': '名詞', 'pos1': '副詞可能', 'surface': '暮れ'},\n",
              " {'base': 'かかる', 'pos': '動詞', 'pos1': '自立', 'surface': 'かかる'},\n",
              " {'base': '。', 'pos': '記号', 'pos1': '句点', 'surface': '。'},\n",
              " {'base': '*', 'pos': '記号', 'pos1': '一般', 'surface': nan},\n",
              " {'base': nan, 'pos': nan, 'pos1': nan, 'surface': 'EOS'},\n",
              " {'base': '腹', 'pos': '名詞', 'pos1': '一般', 'surface': '腹'},\n",
              " {'base': 'が', 'pos': '助詞', 'pos1': '格助詞', 'surface': 'が'},\n",
              " {'base': '非常', 'pos': '名詞', 'pos1': '形容動詞語幹', 'surface': '非常'},\n",
              " {'base': 'に', 'pos': '助詞', 'pos1': '格助詞', 'surface': 'に'},\n",
              " {'base': '減る', 'pos': '動詞', 'pos1': '自立', 'surface': '減っ'},\n",
              " {'base': 'て', 'pos': '助詞', 'pos1': '接続助詞', 'surface': 'て'},\n",
              " {'base': '来る', 'pos': '動詞', 'pos1': '非自立', 'surface': '来'},\n",
              " {'base': 'た', 'pos': '助動詞', 'pos1': '*', 'surface': 'た'},\n",
              " {'base': '。', 'pos': '記号', 'pos1': '句点', 'surface': '。'},\n",
              " {'base': '*', 'pos': '記号', 'pos1': '一般', 'surface': nan},\n",
              " {'base': nan, 'pos': nan, 'pos1': nan, 'surface': 'EOS'},\n",
              " {'base': '泣く', 'pos': '動詞', 'pos1': '自立', 'surface': '泣き'},\n",
              " {'base': 'たい', 'pos': '助動詞', 'pos1': '*', 'surface': 'たく'},\n",
              " {'base': 'て', 'pos': '助詞', 'pos1': '接続助詞', 'surface': 'て'},\n",
              " {'base': 'も', 'pos': '助詞', 'pos1': '係助詞', 'surface': 'も'},\n",
              " {'base': '声', 'pos': '名詞', 'pos1': '一般', 'surface': '声'},\n",
              " {'base': 'が', 'pos': '助詞', 'pos1': '格助詞', 'surface': 'が'},\n",
              " {'base': '出る', 'pos': '動詞', 'pos1': '自立', 'surface': '出'},\n",
              " {'base': 'ない', 'pos': '助動詞', 'pos1': '*', 'surface': 'ない'},\n",
              " {'base': '。', 'pos': '記号', 'pos1': '句点', 'surface': '。'},\n",
              " {'base': '*', 'pos': '記号', 'pos1': '一般', 'surface': nan},\n",
              " {'base': nan, 'pos': nan, 'pos1': nan, 'surface': 'EOS'},\n",
              " {'base': '仕方', 'pos': '名詞', 'pos1': 'ナイ形容詞語幹', 'surface': '仕方'},\n",
              " {'base': 'が', 'pos': '助詞', 'pos1': '格助詞', 'surface': 'が'},\n",
              " {'base': 'ない', 'pos': '形容詞', 'pos1': '自立', 'surface': 'ない'},\n",
              " {'base': '、', 'pos': '記号', 'pos1': '読点', 'surface': '、'},\n",
              " {'base': '何', 'pos': '名詞', 'pos1': '代名詞', 'surface': '何'},\n",
              " {'base': 'で', 'pos': '助詞', 'pos1': '格助詞', 'surface': 'で'},\n",
              " {'base': 'も', 'pos': '助詞', 'pos1': '係助詞', 'surface': 'も'},\n",
              " {'base': 'よい', 'pos': '形容詞', 'pos1': '非自立', 'surface': 'よい'},\n",
              " {'base': 'から', 'pos': '助詞', 'pos1': '格助詞', 'surface': 'から'},\n",
              " {'base': '食物', 'pos': '名詞', 'pos1': '一般', 'surface': '食物'},\n",
              " {'base': 'の', 'pos': '助詞', 'pos1': '格助詞', 'surface': 'の'},\n",
              " {'base': 'ある', 'pos': '動詞', 'pos1': '自立', 'surface': 'ある'},\n",
              " {'base': '所', 'pos': '名詞', 'pos1': '非自立', 'surface': '所'},\n",
              " {'base': 'まで', 'pos': '助詞', 'pos1': '副助詞', 'surface': 'まで'},\n",
              " {'base': 'ある', 'pos': '動詞', 'pos1': '自立', 'surface': 'ある'},\n",
              " {'base': 'こう', 'pos': '副詞', 'pos1': '助詞類接続', 'surface': 'こう'},\n",
              " {'base': 'と', 'pos': '助詞', 'pos1': '副詞化', 'surface': 'と'},\n",
              " {'base': '決心', 'pos': '名詞', 'pos1': 'サ変接続', 'surface': '決心'},\n",
              " {'base': 'を', 'pos': '助詞', 'pos1': '格助詞', 'surface': 'を'},\n",
              " {'base': 'する', 'pos': '動詞', 'pos1': '自立', 'surface': 'し'},\n",
              " {'base': 'て', 'pos': '助詞', 'pos1': '接続助詞', 'surface': 'て'},\n",
              " {'base': 'そる', 'pos': '動詞', 'pos1': '自立', 'surface': 'そろ'},\n",
              " {'base': 'り', 'pos': '助動詞', 'pos1': '*', 'surface': 'り'},\n",
              " {'base': 'そろりと', 'pos': '副詞', 'pos1': '一般', 'surface': 'そろりと'},\n",
              " {'base': '池', 'pos': '名詞', 'pos1': '一般', 'surface': '池'},\n",
              " {'base': 'を', 'pos': '助詞', 'pos1': '格助詞', 'surface': 'を'},\n",
              " {'base': '左', 'pos': '名詞', 'pos1': '一般', 'surface': '左'},\n",
              " {'base': 'り', 'pos': '助動詞', 'pos1': '*', 'surface': 'り'},\n",
              " {'base': 'に', 'pos': '助詞', 'pos1': '格助詞', 'surface': 'に'},\n",
              " {'base': '廻る', 'pos': '動詞', 'pos1': '自立', 'surface': '廻り'},\n",
              " {'base': '始める', 'pos': '動詞', 'pos1': '非自立', 'surface': '始め'},\n",
              " {'base': 'た', 'pos': '助動詞', 'pos1': '*', 'surface': 'た'},\n",
              " {'base': '。', 'pos': '記号', 'pos1': '句点', 'surface': '。'},\n",
              " {'base': '*', 'pos': '記号', 'pos1': '一般', 'surface': nan},\n",
              " {'base': nan, 'pos': nan, 'pos1': nan, 'surface': 'EOS'},\n",
              " {'base': 'どうも', 'pos': '副詞', 'pos1': '一般', 'surface': 'どうも'},\n",
              " {'base': '非常', 'pos': '名詞', 'pos1': '形容動詞語幹', 'surface': '非常'},\n",
              " {'base': 'に', 'pos': '助詞', 'pos1': '副詞化', 'surface': 'に'},\n",
              " {'base': '苦しい', 'pos': '形容詞', 'pos1': '自立', 'surface': '苦しい'},\n",
              " {'base': '。', 'pos': '記号', 'pos1': '句点', 'surface': '。'},\n",
              " {'base': '*', 'pos': '記号', 'pos1': '一般', 'surface': nan},\n",
              " {'base': nan, 'pos': nan, 'pos1': nan, 'surface': 'EOS'},\n",
              " {'base': 'そこ', 'pos': '名詞', 'pos1': '代名詞', 'surface': 'そこ'},\n",
              " {'base': 'を', 'pos': '助詞', 'pos1': '格助詞', 'surface': 'を'},\n",
              " {'base': '我慢', 'pos': '名詞', 'pos1': 'サ変接続', 'surface': '我慢'},\n",
              " {'base': 'する', 'pos': '動詞', 'pos1': '自立', 'surface': 'し'},\n",
              " {'base': 'て', 'pos': '助詞', 'pos1': '接続助詞', 'surface': 'て'},\n",
              " {'base': '無理やり', 'pos': '名詞', 'pos1': '一般', 'surface': '無理やり'},\n",
              " {'base': 'に', 'pos': '助詞', 'pos1': '格助詞', 'surface': 'に'},\n",
              " {'base': '這う', 'pos': '動詞', 'pos1': '自立', 'surface': '這っ'},\n",
              " {'base': 'て', 'pos': '助詞', 'pos1': '接続助詞', 'surface': 'て'},\n",
              " {'base': '行く', 'pos': '動詞', 'pos1': '非自立', 'surface': '行く'},\n",
              " {'base': 'と', 'pos': '助詞', 'pos1': '接続助詞', 'surface': 'と'},\n",
              " {'base': 'ようやく', 'pos': '副詞', 'pos1': '一般', 'surface': 'ようやく'},\n",
              " {'base': 'の', 'pos': '助詞', 'pos1': '連体化', 'surface': 'の'},\n",
              " {'base': '事', 'pos': '名詞', 'pos1': '非自立', 'surface': '事'},\n",
              " {'base': 'で', 'pos': '助詞', 'pos1': '格助詞', 'surface': 'で'},\n",
              " {'base': '何となく', 'pos': '副詞', 'pos1': '一般', 'surface': '何となく'},\n",
              " {'base': '人間', 'pos': '名詞', 'pos1': '一般', 'surface': '人間'},\n",
              " {'base': '臭い', 'pos': '形容詞', 'pos1': '自立', 'surface': '臭い'},\n",
              " {'base': '所', 'pos': '名詞', 'pos1': '非自立', 'surface': '所'},\n",
              " {'base': 'へ', 'pos': '助詞', 'pos1': '格助詞', 'surface': 'へ'},\n",
              " {'base': '出る', 'pos': '動詞', 'pos1': '自立', 'surface': '出'},\n",
              " {'base': 'た', 'pos': '助動詞', 'pos1': '*', 'surface': 'た'},\n",
              " {'base': '。', 'pos': '記号', 'pos1': '句点', 'surface': '。'},\n",
              " {'base': '*', 'pos': '記号', 'pos1': '一般', 'surface': nan},\n",
              " {'base': nan, 'pos': nan, 'pos1': nan, 'surface': 'EOS'},\n",
              " {'base': 'ここ', 'pos': '名詞', 'pos1': '代名詞', 'surface': 'ここ'},\n",
              " {'base': 'へ', 'pos': '助詞', 'pos1': '格助詞', 'surface': 'へ'},\n",
              " {'base': '這入る', 'pos': '動詞', 'pos1': '自立', 'surface': '這入っ'},\n",
              " {'base': 'た', 'pos': '助動詞', 'pos1': '*', 'surface': 'たら'},\n",
              " {'base': '、', 'pos': '記号', 'pos1': '読点', 'surface': '、'},\n",
              " {'base': 'どうにか', 'pos': '副詞', 'pos1': '一般', 'surface': 'どうにか'},\n",
              " {'base': 'なる', 'pos': '動詞', 'pos1': '自立', 'surface': 'なる'},\n",
              " {'base': 'と', 'pos': '助詞', 'pos1': '格助詞', 'surface': 'と'},\n",
              " {'base': '思う', 'pos': '動詞', 'pos1': '自立', 'surface': '思っ'},\n",
              " {'base': 'て', 'pos': '助詞', 'pos1': '接続助詞', 'surface': 'て'},\n",
              " {'base': '竹垣', 'pos': '名詞', 'pos1': '固有名詞', 'surface': '竹垣'},\n",
              " {'base': 'の', 'pos': '助詞', 'pos1': '連体化', 'surface': 'の'},\n",
              " {'base': '崩れる', 'pos': '動詞', 'pos1': '自立', 'surface': '崩れ'},\n",
              " {'base': 'た', 'pos': '助動詞', 'pos1': '*', 'surface': 'た'},\n",
              " {'base': '穴', 'pos': '名詞', 'pos1': '一般', 'surface': '穴'},\n",
              " {'base': 'から', 'pos': '助詞', 'pos1': '格助詞', 'surface': 'から'},\n",
              " {'base': '、', 'pos': '記号', 'pos1': '読点', 'surface': '、'},\n",
              " {'base': 'とある', 'pos': '連体詞', 'pos1': '*', 'surface': 'とある'},\n",
              " {'base': '邸', 'pos': '名詞', 'pos1': '一般', 'surface': '邸'},\n",
              " {'base': '内', 'pos': '名詞', 'pos1': '接尾', 'surface': '内'},\n",
              " {'base': 'に', 'pos': '助詞', 'pos1': '格助詞', 'surface': 'に'},\n",
              " {'base': 'もぐり込む', 'pos': '動詞', 'pos1': '自立', 'surface': 'もぐり込ん'},\n",
              " {'base': 'だ', 'pos': '助動詞', 'pos1': '*', 'surface': 'だ'},\n",
              " {'base': '。', 'pos': '記号', 'pos1': '句点', 'surface': '。'},\n",
              " {'base': '*', 'pos': '記号', 'pos1': '一般', 'surface': nan},\n",
              " {'base': nan, 'pos': nan, 'pos1': nan, 'surface': 'EOS'},\n",
              " {'base': '縁', 'pos': '名詞', 'pos1': '一般', 'surface': '縁'},\n",
              " {'base': 'は', 'pos': '助詞', 'pos1': '係助詞', 'surface': 'は'},\n",
              " {'base': '不思議', 'pos': '名詞', 'pos1': '形容動詞語幹', 'surface': '不思議'},\n",
              " {'base': 'だ', 'pos': '助動詞', 'pos1': '*', 'surface': 'な'},\n",
              " {'base': 'もの', 'pos': '名詞', 'pos1': '非自立', 'surface': 'もの'},\n",
              " {'base': 'だ', 'pos': '助動詞', 'pos1': '*', 'surface': 'で'},\n",
              " {'base': '、', 'pos': '記号', 'pos1': '読点', 'surface': '、'},\n",
              " {'base': 'もし', 'pos': '副詞', 'pos1': '一般', 'surface': 'もし'},\n",
              " {'base': 'この', 'pos': '連体詞', 'pos1': '*', 'surface': 'この'},\n",
              " {'base': '竹垣', 'pos': '名詞', 'pos1': '固有名詞', 'surface': '竹垣'},\n",
              " {'base': 'が', 'pos': '助詞', 'pos1': '格助詞', 'surface': 'が'},\n",
              " {'base': '破れる', 'pos': '動詞', 'pos1': '自立', 'surface': '破れ'},\n",
              " {'base': 'て', 'pos': '助詞', 'pos1': '接続助詞', 'surface': 'て'},\n",
              " {'base': 'いる', 'pos': '動詞', 'pos1': '非自立', 'surface': 'い'},\n",
              " {'base': 'ない', 'pos': '助動詞', 'pos1': '*', 'surface': 'なかっ'},\n",
              " {'base': 'た', 'pos': '助動詞', 'pos1': '*', 'surface': 'た'},\n",
              " {'base': 'だ', 'pos': '助動詞', 'pos1': '*', 'surface': 'なら'},\n",
              " {'base': '、', 'pos': '記号', 'pos1': '読点', 'surface': '、'},\n",
              " {'base': '吾輩', 'pos': '名詞', 'pos1': '代名詞', 'surface': '吾輩'},\n",
              " {'base': 'は', 'pos': '助詞', 'pos1': '係助詞', 'surface': 'は'},\n",
              " {'base': 'ついに', 'pos': '副詞', 'pos1': '一般', 'surface': 'ついに'},\n",
              " {'base': '路傍', 'pos': '名詞', 'pos1': '一般', 'surface': '路傍'},\n",
              " {'base': 'に', 'pos': '助詞', 'pos1': '格助詞', 'surface': 'に'},\n",
              " {'base': '餓死', 'pos': '名詞', 'pos1': 'サ変接続', 'surface': '餓死'},\n",
              " {'base': 'する', 'pos': '動詞', 'pos1': '自立', 'surface': 'し'},\n",
              " {'base': 'た', 'pos': '助動詞', 'pos1': '*', 'surface': 'た'},\n",
              " {'base': 'かも', 'pos': '助詞', 'pos1': '副助詞', 'surface': 'かも'},\n",
              " {'base': '知れる', 'pos': '動詞', 'pos1': '自立', 'surface': '知れ'},\n",
              " {'base': 'ん', 'pos': '助動詞', 'pos1': '*', 'surface': 'ん'},\n",
              " {'base': 'の', 'pos': '名詞', 'pos1': '非自立', 'surface': 'の'},\n",
              " {'base': 'だ', 'pos': '助動詞', 'pos1': '*', 'surface': 'で'},\n",
              " {'base': 'ある', 'pos': '助動詞', 'pos1': '*', 'surface': 'ある'},\n",
              " {'base': '。', 'pos': '記号', 'pos1': '句点', 'surface': '。'},\n",
              " {'base': '*', 'pos': '記号', 'pos1': '一般', 'surface': nan},\n",
              " {'base': nan, 'pos': nan, 'pos1': nan, 'surface': 'EOS'},\n",
              " {'base': '一樹', 'pos': '名詞', 'pos1': '一般', 'surface': '一樹'},\n",
              " {'base': 'の', 'pos': '助詞', 'pos1': '連体化', 'surface': 'の'},\n",
              " {'base': '蔭', 'pos': '名詞', 'pos1': '一般', 'surface': '蔭'},\n",
              " {'base': 'と', 'pos': '助詞', 'pos1': '格助詞', 'surface': 'と'},\n",
              " {'base': 'は', 'pos': '助詞', 'pos1': '係助詞', 'surface': 'は'},\n",
              " {'base': 'よく', 'pos': '副詞', 'pos1': '一般', 'surface': 'よく'},\n",
              " {'base': '云う', 'pos': '動詞', 'pos1': '自立', 'surface': '云っ'},\n",
              " {'base': 'た', 'pos': '助動詞', 'pos1': '*', 'surface': 'た'},\n",
              " {'base': 'もの', 'pos': '名詞', 'pos1': '非自立', 'surface': 'もの'},\n",
              " {'base': 'だ', 'pos': '助動詞', 'pos1': '*', 'surface': 'だ'},\n",
              " {'base': '。', 'pos': '記号', 'pos1': '句点', 'surface': '。'},\n",
              " {'base': '*', 'pos': '記号', 'pos1': '一般', 'surface': nan},\n",
              " {'base': nan, 'pos': nan, 'pos1': nan, 'surface': 'EOS'},\n",
              " {'base': 'この', 'pos': '連体詞', 'pos1': '*', 'surface': 'この'},\n",
              " {'base': '垣根', 'pos': '名詞', 'pos1': '一般', 'surface': '垣根'},\n",
              " {'base': 'の', 'pos': '助詞', 'pos1': '連体化', 'surface': 'の'},\n",
              " {'base': '穴', 'pos': '名詞', 'pos1': '一般', 'surface': '穴'},\n",
              " {'base': 'は', 'pos': '助詞', 'pos1': '係助詞', 'surface': 'は'},\n",
              " {'base': '今日', 'pos': '名詞', 'pos1': '副詞可能', 'surface': '今日'},\n",
              " {'base': 'に', 'pos': '助詞', 'pos1': '格助詞', 'surface': 'に'},\n",
              " {'base': '至る', 'pos': '動詞', 'pos1': '自立', 'surface': '至る'},\n",
              " {'base': 'まで', 'pos': '助詞', 'pos1': '副助詞', 'surface': 'まで'},\n",
              " {'base': '吾輩', 'pos': '名詞', 'pos1': '代名詞', 'surface': '吾輩'},\n",
              " {'base': 'が', 'pos': '助詞', 'pos1': '格助詞', 'surface': 'が'},\n",
              " {'base': '隣家', 'pos': '名詞', 'pos1': '一般', 'surface': '隣家'},\n",
              " {'base': 'の', 'pos': '助詞', 'pos1': '連体化', 'surface': 'の'},\n",
              " {'base': '三', 'pos': '名詞', 'pos1': '数', 'surface': '三'},\n",
              " {'base': '毛', 'pos': '名詞', 'pos1': '接尾', 'surface': '毛'},\n",
              " {'base': 'を', 'pos': '助詞', 'pos1': '格助詞', 'surface': 'を'},\n",
              " {'base': '訪問', 'pos': '名詞', 'pos1': 'サ変接続', 'surface': '訪問'},\n",
              " {'base': 'する', 'pos': '動詞', 'pos1': '自立', 'surface': 'する'},\n",
              " {'base': '時', 'pos': '名詞', 'pos1': '非自立', 'surface': '時'},\n",
              " {'base': 'の', 'pos': '助詞', 'pos1': '連体化', 'surface': 'の'},\n",
              " {'base': '通路', 'pos': '名詞', 'pos1': '一般', 'surface': '通路'},\n",
              " {'base': 'に', 'pos': '助詞', 'pos1': '格助詞', 'surface': 'に'},\n",
              " {'base': 'なる', 'pos': '動詞', 'pos1': '自立', 'surface': 'なっ'},\n",
              " {'base': 'て', 'pos': '助詞', 'pos1': '接続助詞', 'surface': 'て'},\n",
              " {'base': 'いる', 'pos': '動詞', 'pos1': '非自立', 'surface': 'いる'},\n",
              " {'base': '。', 'pos': '記号', 'pos1': '句点', 'surface': '。'},\n",
              " {'base': '*', 'pos': '記号', 'pos1': '一般', 'surface': nan},\n",
              " {'base': nan, 'pos': nan, 'pos1': nan, 'surface': 'EOS'},\n",
              " {'base': 'さて', 'pos': '接続詞', 'pos1': '*', 'surface': 'さて'},\n",
              " {'base': '邸', 'pos': '名詞', 'pos1': '一般', 'surface': '邸'},\n",
              " {'base': 'へ', 'pos': '助詞', 'pos1': '格助詞', 'surface': 'へ'},\n",
              " {'base': 'は', 'pos': '助詞', 'pos1': '係助詞', 'surface': 'は'},\n",
              " {'base': '忍び込む', 'pos': '動詞', 'pos1': '自立', 'surface': '忍び込ん'},\n",
              " {'base': 'だ', 'pos': '助動詞', 'pos1': '*', 'surface': 'だ'},\n",
              " {'base': 'ものの', 'pos': '助詞', 'pos1': '接続助詞', 'surface': 'ものの'},\n",
              " {'base': 'これから', 'pos': '副詞', 'pos1': '助詞類接続', 'surface': 'これから'},\n",
              " {'base': '先', 'pos': '名詞', 'pos1': '一般', 'surface': '先'},\n",
              " {'base': 'どうして', 'pos': '副詞', 'pos1': '一般', 'surface': 'どうして'},\n",
              " {'base': '善い', 'pos': '形容詞', 'pos1': '自立', 'surface': '善い'},\n",
              " {'base': 'か', 'pos': '助詞', 'pos1': '副助詞／並立助詞／終助詞', 'surface': 'か'},\n",
              " {'base': '分る', 'pos': '動詞', 'pos1': '自立', 'surface': '分ら'},\n",
              " {'base': 'ない', 'pos': '助動詞', 'pos1': '*', 'surface': 'ない'},\n",
              " {'base': '。', 'pos': '記号', 'pos1': '句点', 'surface': '。'},\n",
              " {'base': '*', 'pos': '記号', 'pos1': '一般', 'surface': nan},\n",
              " {'base': nan, 'pos': nan, 'pos1': nan, 'surface': 'EOS'},\n",
              " {'base': 'その', 'pos': '連体詞', 'pos1': '*', 'surface': 'その'},\n",
              " {'base': 'うち', 'pos': '名詞', 'pos1': '非自立', 'surface': 'うち'},\n",
              " {'base': 'に', 'pos': '助詞', 'pos1': '格助詞', 'surface': 'に'},\n",
              " {'base': '暗い', 'pos': '形容詞', 'pos1': '自立', 'surface': '暗く'},\n",
              " {'base': 'なる', 'pos': '動詞', 'pos1': '自立', 'surface': 'なる'},\n",
              " {'base': '、', 'pos': '記号', 'pos1': '読点', 'surface': '、'},\n",
              " {'base': '腹', 'pos': '名詞', 'pos1': '一般', 'surface': '腹'},\n",
              " {'base': 'は', 'pos': '助詞', 'pos1': '係助詞', 'surface': 'は'},\n",
              " {'base': '減る', 'pos': '動詞', 'pos1': '自立', 'surface': '減る'},\n",
              " {'base': '、', 'pos': '記号', 'pos1': '読点', 'surface': '、'},\n",
              " {'base': '寒い', 'pos': '形容詞', 'pos1': '自立', 'surface': '寒'},\n",
              " {'base': 'さ', 'pos': '名詞', 'pos1': '接尾', 'surface': 'さ'},\n",
              " {'base': 'は', 'pos': '助詞', 'pos1': '係助詞', 'surface': 'は'},\n",
              " {'base': '寒い', 'pos': '形容詞', 'pos1': '自立', 'surface': '寒し'},\n",
              " {'base': '、', 'pos': '記号', 'pos1': '読点', 'surface': '、'},\n",
              " {'base': '雨', 'pos': '名詞', 'pos1': '一般', 'surface': '雨'},\n",
              " {'base': 'が', 'pos': '助詞', 'pos1': '格助詞', 'surface': 'が'},\n",
              " {'base': '降る', 'pos': '動詞', 'pos1': '自立', 'surface': '降っ'},\n",
              " {'base': 'て', 'pos': '助詞', 'pos1': '接続助詞', 'surface': 'て'},\n",
              " {'base': '来る', 'pos': '動詞', 'pos1': '非自立', 'surface': '来る'},\n",
              " {'base': 'という', 'pos': '助詞', 'pos1': '格助詞', 'surface': 'という'},\n",
              " {'base': '始末', 'pos': '名詞', 'pos1': 'サ変接続', 'surface': '始末'},\n",
              " {'base': 'で', 'pos': '助詞', 'pos1': '格助詞', 'surface': 'で'},\n",
              " {'base': 'もう', 'pos': '副詞', 'pos1': '一般', 'surface': 'もう'},\n",
              " {'base': '一刻', 'pos': '名詞', 'pos1': '副詞可能', 'surface': '一刻'},\n",
              " {'base': 'の', 'pos': '助詞', 'pos1': '連体化', 'surface': 'の'},\n",
              " {'base': '猶予', 'pos': '名詞', 'pos1': 'サ変接続', 'surface': '猶予'},\n",
              " {'base': 'が', 'pos': '助詞', 'pos1': '格助詞', 'surface': 'が'},\n",
              " {'base': '出来る', 'pos': '動詞', 'pos1': '自立', 'surface': '出来'},\n",
              " {'base': 'ない', 'pos': '助動詞', 'pos1': '*', 'surface': 'なく'},\n",
              " {'base': 'なる', 'pos': '動詞', 'pos1': '自立', 'surface': 'なっ'},\n",
              " {'base': 'た', 'pos': '助動詞', 'pos1': '*', 'surface': 'た'},\n",
              " {'base': '。', 'pos': '記号', 'pos1': '句点', 'surface': '。'},\n",
              " {'base': '*', 'pos': '記号', 'pos1': '一般', 'surface': nan},\n",
              " {'base': nan, 'pos': nan, 'pos1': nan, 'surface': 'EOS'},\n",
              " {'base': '仕方', 'pos': '名詞', 'pos1': 'ナイ形容詞語幹', 'surface': '仕方'},\n",
              " {'base': 'が', 'pos': '助詞', 'pos1': '格助詞', 'surface': 'が'},\n",
              " {'base': 'ない', 'pos': '形容詞', 'pos1': '自立', 'surface': 'ない'},\n",
              " {'base': 'から', 'pos': '助詞', 'pos1': '接続助詞', 'surface': 'から'},\n",
              " {'base': 'とにかく', 'pos': '副詞', 'pos1': '一般', 'surface': 'とにかく'},\n",
              " {'base': '明るい', 'pos': '形容詞', 'pos1': '自立', 'surface': '明るく'},\n",
              " {'base': 'て', 'pos': '助詞', 'pos1': '接続助詞', 'surface': 'て'},\n",
              " {'base': '暖かい', 'pos': '形容詞', 'pos1': '自立', 'surface': '暖か'},\n",
              " {'base': 'そう', 'pos': '名詞', 'pos1': '接尾', 'surface': 'そう'},\n",
              " {'base': 'だ', 'pos': '助動詞', 'pos1': '*', 'surface': 'な'},\n",
              " {'base': '方', 'pos': '名詞', 'pos1': '非自立', 'surface': '方'},\n",
              " {'base': 'へ', 'pos': '助詞', 'pos1': '格助詞', 'surface': 'へ'},\n",
              " {'base': '方', 'pos': '名詞', 'pos1': '一般', 'surface': '方'},\n",
              " {'base': 'へ', 'pos': '助詞', 'pos1': '格助詞', 'surface': 'へ'},\n",
              " {'base': 'と', 'pos': '助詞', 'pos1': '格助詞', 'surface': 'と'},\n",
              " {'base': 'あるく', 'pos': '動詞', 'pos1': '自立', 'surface': 'あるい'},\n",
              " {'base': 'て', 'pos': '助詞', 'pos1': '接続助詞', 'surface': 'て'},\n",
              " {'base': '行く', 'pos': '動詞', 'pos1': '非自立', 'surface': '行く'},\n",
              " {'base': '。', 'pos': '記号', 'pos1': '句点', 'surface': '。'},\n",
              " {'base': '*', 'pos': '記号', 'pos1': '一般', 'surface': nan},\n",
              " {'base': nan, 'pos': nan, 'pos1': nan, 'surface': 'EOS'},\n",
              " {'base': '今', 'pos': '名詞', 'pos1': '副詞可能', 'surface': '今'},\n",
              " {'base': 'から', 'pos': '助詞', 'pos1': '格助詞', 'surface': 'から'},\n",
              " {'base': '考える', 'pos': '動詞', 'pos1': '自立', 'surface': '考える'},\n",
              " {'base': 'と', 'pos': '助詞', 'pos1': '接続助詞', 'surface': 'と'},\n",
              " {'base': 'その', 'pos': '連体詞', 'pos1': '*', 'surface': 'その'},\n",
              " {'base': '時', 'pos': '名詞', 'pos1': '非自立', 'surface': '時'},\n",
              " {'base': 'は', 'pos': '助詞', 'pos1': '係助詞', 'surface': 'は'},\n",
              " {'base': 'すでに', 'pos': '副詞', 'pos1': '一般', 'surface': 'すでに'},\n",
              " {'base': '家', 'pos': '名詞', 'pos1': '一般', 'surface': '家'},\n",
              " {'base': 'の', 'pos': '助詞', 'pos1': '連体化', 'surface': 'の'},\n",
              " {'base': '内', 'pos': '名詞', 'pos1': '非自立', 'surface': '内'},\n",
              " {'base': 'に', 'pos': '助詞', 'pos1': '格助詞', 'surface': 'に'},\n",
              " {'base': '這入る', 'pos': '動詞', 'pos1': '自立', 'surface': '這入っ'},\n",
              " {'base': 'て', 'pos': '助詞', 'pos1': '接続助詞', 'surface': 'て'},\n",
              " {'base': 'おる', 'pos': '動詞', 'pos1': '自立', 'surface': 'おっ'},\n",
              " {'base': 'た', 'pos': '助動詞', 'pos1': '*', 'surface': 'た'},\n",
              " {'base': 'の', 'pos': '名詞', 'pos1': '非自立', 'surface': 'の'},\n",
              " {'base': 'だ', 'pos': '助動詞', 'pos1': '*', 'surface': 'だ'},\n",
              " {'base': '。', 'pos': '記号', 'pos1': '句点', 'surface': '。'},\n",
              " {'base': '*', 'pos': '記号', 'pos1': '一般', 'surface': nan},\n",
              " {'base': nan, 'pos': nan, 'pos1': nan, 'surface': 'EOS'},\n",
              " {'base': 'ここ', 'pos': '名詞', 'pos1': '代名詞', 'surface': 'ここ'},\n",
              " {'base': 'で', 'pos': '助詞', 'pos1': '格助詞', 'surface': 'で'},\n",
              " {'base': '吾輩', 'pos': '名詞', 'pos1': '代名詞', 'surface': '吾輩'},\n",
              " {'base': 'は', 'pos': '助詞', 'pos1': '係助詞', 'surface': 'は'},\n",
              " {'base': '彼', 'pos': '名詞', 'pos1': '代名詞', 'surface': '彼'},\n",
              " {'base': 'の', 'pos': '助詞', 'pos1': '連体化', 'surface': 'の'},\n",
              " {'base': '書生', 'pos': '名詞', 'pos1': '一般', 'surface': '書生'},\n",
              " {'base': '以外', 'pos': '名詞', 'pos1': '非自立', 'surface': '以外'},\n",
              " {'base': 'の', 'pos': '助詞', 'pos1': '連体化', 'surface': 'の'},\n",
              " {'base': '人間', 'pos': '名詞', 'pos1': '一般', 'surface': '人間'},\n",
              " {'base': 'を', 'pos': '助詞', 'pos1': '格助詞', 'surface': 'を'},\n",
              " {'base': '再び', 'pos': '副詞', 'pos1': '助詞類接続', 'surface': '再び'},\n",
              " {'base': '見る', 'pos': '動詞', 'pos1': '自立', 'surface': '見る'},\n",
              " {'base': 'べし', 'pos': '助動詞', 'pos1': '*', 'surface': 'べき'},\n",
              " {'base': '機会', 'pos': '名詞', 'pos1': '一般', 'surface': '機会'},\n",
              " {'base': 'に', 'pos': '助詞', 'pos1': '格助詞', 'surface': 'に'},\n",
              " {'base': '遭遇', 'pos': '名詞', 'pos1': 'サ変接続', 'surface': '遭遇'},\n",
              " {'base': 'する', 'pos': '動詞', 'pos1': '自立', 'surface': 'し'},\n",
              " {'base': 'た', 'pos': '助動詞', 'pos1': '*', 'surface': 'た'},\n",
              " {'base': 'の', 'pos': '名詞', 'pos1': '非自立', 'surface': 'の'},\n",
              " {'base': 'だ', 'pos': '助動詞', 'pos1': '*', 'surface': 'で'},\n",
              " {'base': 'ある', 'pos': '助動詞', 'pos1': '*', 'surface': 'ある'},\n",
              " {'base': '。', 'pos': '記号', 'pos1': '句点', 'surface': '。'},\n",
              " {'base': '*', 'pos': '記号', 'pos1': '一般', 'surface': nan},\n",
              " {'base': nan, 'pos': nan, 'pos1': nan, 'surface': 'EOS'},\n",
              " {'base': '第', 'pos': '接頭詞', 'pos1': '数接続', 'surface': '第'},\n",
              " {'base': '一', 'pos': '名詞', 'pos1': '数', 'surface': '一'},\n",
              " {'base': 'に', 'pos': '助詞', 'pos1': '格助詞', 'surface': 'に'},\n",
              " {'base': '逢う', 'pos': '動詞', 'pos1': '自立', 'surface': '逢っ'},\n",
              " {'base': 'た', 'pos': '助動詞', 'pos1': '*', 'surface': 'た'},\n",
              " {'base': 'の', 'pos': '名詞', 'pos1': '非自立', 'surface': 'の'},\n",
              " {'base': 'が', 'pos': '助詞', 'pos1': '格助詞', 'surface': 'が'},\n",
              " {'base': 'お', 'pos': '接頭詞', 'pos1': '名詞接続', 'surface': 'お'},\n",
              " {'base': 'さん', 'pos': '名詞', 'pos1': '接尾', 'surface': 'さん'},\n",
              " {'base': 'だ', 'pos': '助動詞', 'pos1': '*', 'surface': 'で'},\n",
              " {'base': 'ある', 'pos': '助動詞', 'pos1': '*', 'surface': 'ある'},\n",
              " {'base': '。', 'pos': '記号', 'pos1': '句点', 'surface': '。'},\n",
              " {'base': '*', 'pos': '記号', 'pos1': '一般', 'surface': nan},\n",
              " {'base': nan, 'pos': nan, 'pos1': nan, 'surface': 'EOS'},\n",
              " {'base': 'これ', 'pos': '名詞', 'pos1': '代名詞', 'surface': 'これ'},\n",
              " {'base': 'は', 'pos': '助詞', 'pos1': '係助詞', 'surface': 'は'},\n",
              " {'base': '前', 'pos': '名詞', 'pos1': '副詞可能', 'surface': '前'},\n",
              " {'base': 'の', 'pos': '助詞', 'pos1': '連体化', 'surface': 'の'},\n",
              " {'base': '書生', 'pos': '名詞', 'pos1': '一般', 'surface': '書生'},\n",
              " {'base': 'より', 'pos': '助詞', 'pos1': '格助詞', 'surface': 'より'},\n",
              " {'base': '一層', 'pos': '副詞', 'pos1': '助詞類接続', 'surface': '一層'},\n",
              " {'base': '乱暴', 'pos': '名詞', 'pos1': '形容動詞語幹', 'surface': '乱暴'},\n",
              " {'base': 'だ', 'pos': '助動詞', 'pos1': '*', 'surface': 'な'},\n",
              " {'base': '方', 'pos': '名詞', 'pos1': '非自立', 'surface': '方'},\n",
              " {'base': 'で', 'pos': '助詞', 'pos1': '格助詞', 'surface': 'で'},\n",
              " {'base': '吾輩', 'pos': '名詞', 'pos1': '代名詞', 'surface': '吾輩'},\n",
              " {'base': 'を', 'pos': '助詞', 'pos1': '格助詞', 'surface': 'を'},\n",
              " {'base': '見る', 'pos': '動詞', 'pos1': '自立', 'surface': '見る'},\n",
              " {'base': 'や', 'pos': '助詞', 'pos1': '接続助詞', 'surface': 'や'},\n",
              " {'base': '否や', 'pos': '名詞', 'pos1': '一般', 'surface': '否や'},\n",
              " {'base': 'いきなり', 'pos': '副詞', 'pos1': '助詞類接続', 'surface': 'いきなり'},\n",
              " {'base': '*', 'pos': '名詞', 'pos1': '一般', 'surface': '頸筋'},\n",
              " {'base': 'を', 'pos': '助詞', 'pos1': '格助詞', 'surface': 'を'},\n",
              " {'base': 'つかむ', 'pos': '動詞', 'pos1': '自立', 'surface': 'つかん'},\n",
              " {'base': 'で', 'pos': '助詞', 'pos1': '接続助詞', 'surface': 'で'},\n",
              " {'base': '表', 'pos': '名詞', 'pos1': '一般', 'surface': '表'},\n",
              " {'base': 'へ', 'pos': '助詞', 'pos1': '格助詞', 'surface': 'へ'},\n",
              " {'base': '抛り出す', 'pos': '動詞', 'pos1': '自立', 'surface': '抛り出し'},\n",
              " {'base': 'た', 'pos': '助動詞', 'pos1': '*', 'surface': 'た'},\n",
              " {'base': '。', 'pos': '記号', 'pos1': '句点', 'surface': '。'},\n",
              " {'base': '*', 'pos': '記号', 'pos1': '一般', 'surface': nan},\n",
              " {'base': nan, 'pos': nan, 'pos1': nan, 'surface': 'EOS'},\n",
              " {'base': 'いや', 'pos': '接続詞', 'pos1': '*', 'surface': 'いや'},\n",
              " ...]"
            ]
          },
          "metadata": {},
          "execution_count": 44
        }
      ]
    },
    {
      "cell_type": "markdown",
      "metadata": {
        "id": "-MUYIrr-XbbY"
      },
      "source": [
        "**31. 動詞**\n",
        "\n",
        "動詞の表層形をすべて抽出せよ．"
      ]
    },
    {
      "cell_type": "code",
      "metadata": {
        "colab": {
          "base_uri": "https://localhost:8080/"
        },
        "id": "FIKyUN2djV9_",
        "outputId": "26a34c8d-7f77-44b1-edf3-93ef69f4cc2d"
      },
      "source": [
        "verb = set()\n",
        "for i in neko:\n",
        "  if i['pos'] == '動詞':\n",
        "    verb.add(i['surface'])\n",
        "print(len(verb))"
      ],
      "execution_count": null,
      "outputs": [
        {
          "output_type": "stream",
          "name": "stdout",
          "text": [
            "3893\n"
          ]
        }
      ]
    },
    {
      "cell_type": "markdown",
      "metadata": {
        "id": "ZlElQBlDXbmY"
      },
      "source": [
        "**32. 動詞の基本形**\n",
        "\n",
        "動詞の基本形をすべて抽出せよ．"
      ]
    },
    {
      "cell_type": "code",
      "metadata": {
        "colab": {
          "base_uri": "https://localhost:8080/"
        },
        "id": "ymsBDzGvnIcw",
        "outputId": "94ee2b27-1876-437a-b572-f9691b61deb9"
      },
      "source": [
        "verb_base = set()\n",
        "for i in neko:\n",
        "  if i['pos'] == '動詞':\n",
        "    verb_base.add(i['base'])\n",
        "print(len(verb_base))"
      ],
      "execution_count": null,
      "outputs": [
        {
          "output_type": "stream",
          "name": "stdout",
          "text": [
            "2300\n"
          ]
        }
      ]
    },
    {
      "cell_type": "markdown",
      "metadata": {
        "id": "BeXvWeuNXbpa"
      },
      "source": [
        "**33. 「AのB」**\n",
        "\n",
        "2つの名詞が「の」で連結されている名詞句を抽出せよ．"
      ]
    },
    {
      "cell_type": "code",
      "metadata": {
        "colab": {
          "base_uri": "https://localhost:8080/"
        },
        "id": "ya0FwMNJvAMP",
        "outputId": "549bcf6d-38d8-484f-f321-a367fbe91f5e"
      },
      "source": [
        "neko.index(i)"
      ],
      "execution_count": null,
      "outputs": [
        {
          "output_type": "execute_result",
          "data": {
            "text/plain": [
              "2"
            ]
          },
          "metadata": {},
          "execution_count": 71
        }
      ]
    },
    {
      "cell_type": "code",
      "metadata": {
        "colab": {
          "base_uri": "https://localhost:8080/"
        },
        "id": "u2cTVI3Lnvuk",
        "outputId": "805e628f-c565-4e2e-dcb2-418ad13d65fc"
      },
      "source": [
        "a_no_b = set()\n",
        "for j in range(len(neko)):\n",
        "  if neko[j]['surface'] == 'の' and neko[j-1]['pos'] == '名詞' and neko[j+1]['pos'] == '名詞':\n",
        "    a_no_b.add(neko[j-1]['surface'] + neko[j]['surface'] + neko[j+1]['surface'])\n",
        "print(len(a_no_b))"
      ],
      "execution_count": null,
      "outputs": [
        {
          "output_type": "stream",
          "name": "stdout",
          "text": [
            "4924\n"
          ]
        }
      ]
    },
    {
      "cell_type": "markdown",
      "metadata": {
        "id": "q3N_Ab33Xbs8"
      },
      "source": [
        "**34. 名詞の連接**\n",
        "\n",
        "\n",
        "名詞の連接（連続して出現する名詞）を最長一致で抽出せよ．"
      ]
    },
    {
      "cell_type": "code",
      "metadata": {
        "id": "ps5Mi86WzMro"
      },
      "source": [
        "# 名詞であると後ろは名詞であるかを識別し、連続名詞数をcountする\n",
        "nouns = []\n",
        "max_counts = 0\n",
        "for i in range(len(neko)):\n",
        "  if neko[i]['pos'] == '名詞':\n",
        "    nouns_counts = 0\n",
        "    for j in range(len(neko)-1):\n",
        "      if neko[i+j]['pos'] == '名詞':\n",
        "        nouns_counts += 1\n",
        "      else:\n",
        "        break\n",
        "      if nouns_counts >= max_counts:\n",
        "        max_counts = nouns_counts\n",
        "        nouns.append({'noun_no':i, 'noun_counts':nouns_counts})"
      ],
      "execution_count": null,
      "outputs": []
    },
    {
      "cell_type": "code",
      "metadata": {
        "id": "falSeFIwAOVq"
      },
      "source": [
        "# 最大値のnoとlengthを抽出\n",
        "longest_nouns_no = []\n",
        "for i in range(len(nouns)):\n",
        "  if nouns[i]['noun_counts'] == max_counts:\n",
        "    longest_nouns_no.append(nouns[i]['noun_no'])"
      ],
      "execution_count": null,
      "outputs": []
    },
    {
      "cell_type": "markdown",
      "metadata": {
        "id": "Wh9yZHBN8GB6"
      },
      "source": [
        ""
      ]
    },
    {
      "cell_type": "code",
      "metadata": {
        "id": "9VD7PF6s8HAt"
      },
      "source": [
        "# 文字の抽出\n",
        "longest_nouns = []\n",
        "for i in longest_nouns_no:\n",
        "  tmp = ''\n",
        "  for j in range(max_counts):\n",
        "    tmp += neko[i+j]['surface']\n",
        "  longest_nouns.append(tmp)"
      ],
      "execution_count": null,
      "outputs": []
    },
    {
      "cell_type": "code",
      "metadata": {
        "colab": {
          "base_uri": "https://localhost:8080/"
        },
        "id": "VHi-3VByGsi8",
        "outputId": "ab50a5ac-1a0e-473a-dcb1-1561bebab8df"
      },
      "source": [
        "longest_nouns"
      ],
      "execution_count": null,
      "outputs": [
        {
          "output_type": "execute_result",
          "data": {
            "text/plain": [
              "[\"manyaslip'twixtthecupandthelip\", '明治三十八年何月何日戸締り']"
            ]
          },
          "metadata": {},
          "execution_count": 144
        }
      ]
    },
    {
      "cell_type": "markdown",
      "metadata": {
        "id": "rMZvEy6qXbvu"
      },
      "source": [
        "**35. 単語の出現頻度**\n",
        "\n",
        "文章中に出現する単語とその出現頻度を求め，出現頻度の高い順に並べよ．"
      ]
    },
    {
      "cell_type": "code",
      "metadata": {
        "colab": {
          "base_uri": "https://localhost:8080/"
        },
        "id": "gtKTBVdlKMGK",
        "outputId": "8c727fdc-dc9b-44d9-f259-a3cb8e148ae6"
      },
      "source": [
        "df_word = df[(df.iloc[:][1]!='記号') & (df.iloc[:][0]!='EOS')]\n",
        "df_word[0].value_counts()"
      ],
      "execution_count": null,
      "outputs": [
        {
          "output_type": "execute_result",
          "data": {
            "text/plain": [
              "の         9194\n",
              "て         6868\n",
              "は         6420\n",
              "に         6243\n",
              "を         6071\n",
              "          ... \n",
              "文久           1\n",
              "パレオロガス       1\n",
              "かま           1\n",
              "放課後          1\n",
              "買お           1\n",
              "Name: 0, Length: 13559, dtype: int64"
            ]
          },
          "metadata": {},
          "execution_count": 194
        }
      ]
    },
    {
      "cell_type": "markdown",
      "metadata": {
        "id": "UcRPTK78Xb8D"
      },
      "source": [
        "**36. 頻度上位10語**\n",
        "\n",
        "出現頻度が高い10語とその出現頻度をグラフ（例えば棒グラフなど）で表示せよ．"
      ]
    },
    {
      "cell_type": "code",
      "metadata": {
        "id": "D-Buf3XOlJzo"
      },
      "source": [
        "! pip install japanize_matplotlib"
      ],
      "execution_count": null,
      "outputs": []
    },
    {
      "cell_type": "code",
      "metadata": {
        "colab": {
          "base_uri": "https://localhost:8080/",
          "height": 264
        },
        "id": "mxaLWU6UkXUl",
        "outputId": "f0e019b5-c2cd-4d9e-dc25-5dfcc8a16345"
      },
      "source": [
        "import matplotlib.pyplot as plt\n",
        "import japanize_matplotlib\n",
        "\n",
        "df_plt = df_word[0].value_counts().head(10)\n",
        "plt.bar(df_plt.index, df_plt.values)\n",
        "plt.show()"
      ],
      "execution_count": null,
      "outputs": [
        {
          "output_type": "display_data",
          "data": {
            "image/png": "[encoded data removed]",
            "text/plain": [
              "<Figure size 432x288 with 1 Axes>"
            ]
          },
          "metadata": {
            "needs_background": "light"
          }
        }
      ]
    },
    {
      "cell_type": "markdown",
      "metadata": {
        "id": "vxWGBpNKXrr7"
      },
      "source": [
        "**37. 「猫」と共起頻度の高い上位10語**\n",
        "\n",
        "「猫」とよく共起する（共起頻度が高い）10語とその出現頻度をグラフ（例えば棒グラフなど）で表示せよ．"
      ]
    },
    {
      "cell_type": "code",
      "metadata": {
        "colab": {
          "base_uri": "https://localhost:8080/",
          "height": 264
        },
        "id": "xross4LsnYJY",
        "outputId": "13830b70-e02a-493f-bc7f-172a54403047"
      },
      "source": [
        "# 猫の行の抽出\n",
        "df_cat_around = pd.concat([df_word[df_word.iloc[:][0].shift(-1)=='猫'], df_word[df_word.iloc[:][0].shift(1)=='猫']])\n",
        "df_plt_cat = df_cat_around[0].value_counts().head(10)\n",
        "plt.bar(df_plt_cat.index, df_plt_cat.values)\n",
        "plt.show()"
      ],
      "execution_count": null,
      "outputs": [
        {
          "output_type": "display_data",
          "data": {
            "image/png": "[encoded data removed]",
            "text/plain": [
              "<Figure size 432x288 with 1 Axes>"
            ]
          },
          "metadata": {
            "needs_background": "light"
          }
        }
      ]
    },
    {
      "cell_type": "markdown",
      "metadata": {
        "id": "K2jGUEc7Xrt_"
      },
      "source": [
        "**38. ヒストグラム**\n",
        "\n",
        "単語の出現頻度のヒストグラムを描け．ただし，横軸は出現頻度を表し，1から単語の出現頻度の最大値までの線形目盛とする．縦軸はx軸で示される出現頻度となった単語の異なり数（種類数）である．"
      ]
    },
    {
      "cell_type": "code",
      "metadata": {
        "colab": {
          "base_uri": "https://localhost:8080/",
          "height": 265
        },
        "id": "e6yapbmK6bh0",
        "outputId": "84d14fe0-1fb7-4ae1-d2d0-f9684dbaeb35"
      },
      "source": [
        "df_plt = df_word[0].value_counts()\n",
        "plt.hist(df_plt.values)\n",
        "plt.show()"
      ],
      "execution_count": null,
      "outputs": [
        {
          "output_type": "display_data",
          "data": {
            "image/png": "[encoded data removed]",
            "text/plain": [
              "<Figure size 432x288 with 1 Axes>"
            ]
          },
          "metadata": {
            "needs_background": "light"
          }
        }
      ]
    },
    {
      "cell_type": "markdown",
      "metadata": {
        "id": "7v_9kTWPXrv8"
      },
      "source": [
        "**39. Zipfの法則**\n",
        "\n",
        "単語の出現頻度順位を横軸，その出現頻度を縦軸として，両対数グラフをプロットせよ．"
      ]
    },
    {
      "cell_type": "code",
      "metadata": {
        "id": "-DLtAVnhYMv1",
        "colab": {
          "base_uri": "https://localhost:8080/",
          "height": 269
        },
        "outputId": "bd2c8956-2bce-46ed-f825-584ded52f292"
      },
      "source": [
        "df_plt = df_word[0].value_counts()\n",
        "plt.scatter(range(1, len(df_plt)+1), df_plt.values)\n",
        "plt.xscale('log')\n",
        "plt.yscale('log')\n",
        "plt.show()"
      ],
      "execution_count": null,
      "outputs": [
        {
          "output_type": "display_data",
          "data": {
            "image/png": "[encoded data removed]",
            "text/plain": [
              "<Figure size 432x288 with 1 Axes>"
            ]
          },
          "metadata": {
            "needs_background": "light"
          }
        }
      ]
    },
    {
      "cell_type": "code",
      "metadata": {
        "id": "pWuIMGIXCdHE"
      },
      "source": [
        ""
      ],
      "execution_count": null,
      "outputs": []
    }
  ]
}