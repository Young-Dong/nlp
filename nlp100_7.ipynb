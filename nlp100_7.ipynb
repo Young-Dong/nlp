{
  "nbformat": 4,
  "nbformat_minor": 0,
  "metadata": {
    "colab": {
      "name": "nlp100_7.ipynb",
      "provenance": [],
      "collapsed_sections": [],
      "mount_file_id": "1IcSydoAGw5VOB04VnpAMEaJKgOIc9KPY",
      "authorship_tag": "ABX9TyOqm306SlSp7PjXfJLacIhG",
      "include_colab_link": true
    },
    "kernelspec": {
      "name": "python3",
      "display_name": "Python 3"
    },
    "language_info": {
      "name": "python"
    },
    "accelerator": "GPU"
  },
  "cells": [
    {
      "cell_type": "markdown",
      "metadata": {
        "id": "view-in-github",
        "colab_type": "text"
      },
      "source": [
        "<a href=\"https://colab.research.google.com/github/Young-Dong/nlp/blob/main/nlp100_7.ipynb\" target=\"_parent\"><img src=\"https://colab.research.google.com/assets/colab-badge.svg\" alt=\"Open In Colab\"/></a>"
      ]
    },
    {
      "cell_type": "markdown",
      "source": [
        "第7章: 単語ベクトル\n",
        "\n",
        "単語の意味を実ベクトルで表現する単語ベクトル（単語埋め込み）に関して，以下の処理を行うプログラムを作成せよ．"
      ],
      "metadata": {
        "id": "ZQzgU0JAR0Sk"
      }
    },
    {
      "cell_type": "markdown",
      "source": [
        "60. 単語ベクトルの読み込みと表示\n",
        "\n",
        "Google Newsデータセット（約1,000億単語）での[学習済み単語ベクトル](https://drive.google.com/file/d/0B7XkCwpI5KDYNlNUTTlSS21pQmM/edit?usp=sharing)（300万単語・フレーズ，300次元）をダウンロードし，”United States”の単語ベクトルを表示せよ．ただし，”United States”は内部的には”United_States”と表現されていることに注意せよ．"
      ],
      "metadata": {
        "id": "yYziJ39mR9VA"
      }
    },
    {
      "cell_type": "code",
      "source": [
        "from gensim.models.keyedvectors import KeyedVectors\n",
        "from gensim.models import word2vec\n",
        "\n",
        "# official document https://radimrehurek.com/gensim/auto_examples/index.html#documentation\n",
        "\n",
        "data = '/content/drive/MyDrive/Colab Notebooks/GoogleNews-vectors-negative300.bin.gz'\n",
        "model = KeyedVectors.load_word2vec_format(data, binary=True)"
      ],
      "metadata": {
        "id": "HhRdy34pTqPb"
      },
      "execution_count": 1,
      "outputs": []
    },
    {
      "cell_type": "code",
      "source": [
        "model['United_States']"
      ],
      "metadata": {
        "colab": {
          "base_uri": "https://localhost:8080/"
        },
        "id": "rFm2jzUOdsie",
        "outputId": "8a7fffd3-77ff-46bb-d5c9-3fa7c919a494"
      },
      "execution_count": 2,
      "outputs": [
        {
          "output_type": "execute_result",
          "data": {
            "text/plain": [
              "array([-3.61328125e-02, -4.83398438e-02,  2.35351562e-01,  1.74804688e-01,\n",
              "       -1.46484375e-01, -7.42187500e-02, -1.01562500e-01, -7.71484375e-02,\n",
              "        1.09375000e-01, -5.71289062e-02, -1.48437500e-01, -6.00585938e-02,\n",
              "        1.74804688e-01, -7.71484375e-02,  2.58789062e-02, -7.66601562e-02,\n",
              "       -3.80859375e-02,  1.35742188e-01,  3.75976562e-02, -4.19921875e-02,\n",
              "       -3.56445312e-02,  5.34667969e-02,  3.68118286e-04, -1.66992188e-01,\n",
              "       -1.17187500e-01,  1.41601562e-01, -1.69921875e-01, -6.49414062e-02,\n",
              "       -1.66992188e-01,  1.00585938e-01,  1.15722656e-01, -2.18750000e-01,\n",
              "       -9.86328125e-02, -2.56347656e-02,  1.23046875e-01, -3.54003906e-02,\n",
              "       -1.58203125e-01, -1.60156250e-01,  2.94189453e-02,  8.15429688e-02,\n",
              "        6.88476562e-02,  1.87500000e-01,  6.49414062e-02,  1.15234375e-01,\n",
              "       -2.27050781e-02,  3.32031250e-01, -3.27148438e-02,  1.77734375e-01,\n",
              "       -2.08007812e-01,  4.54101562e-02, -1.23901367e-02,  1.19628906e-01,\n",
              "        7.44628906e-03, -9.03320312e-03,  1.14257812e-01,  1.69921875e-01,\n",
              "       -2.38281250e-01, -2.79541016e-02, -1.21093750e-01,  2.47802734e-02,\n",
              "        7.71484375e-02, -2.81982422e-02, -4.71191406e-02,  1.78222656e-02,\n",
              "       -1.23046875e-01, -5.32226562e-02,  2.68554688e-02, -3.11279297e-02,\n",
              "       -5.59082031e-02, -5.00488281e-02, -3.73535156e-02,  1.25976562e-01,\n",
              "        5.61523438e-02,  1.51367188e-01,  4.29687500e-02, -2.08007812e-01,\n",
              "       -4.78515625e-02,  2.78320312e-02,  1.81640625e-01,  2.20703125e-01,\n",
              "       -3.61328125e-02, -8.39843750e-02, -3.69548798e-05, -9.52148438e-02,\n",
              "       -1.25000000e-01, -1.95312500e-01, -1.50390625e-01, -4.15039062e-02,\n",
              "        1.31835938e-01,  1.17675781e-01,  1.91650391e-02,  5.51757812e-02,\n",
              "       -9.42382812e-02, -1.08886719e-01,  7.32421875e-02, -1.15234375e-01,\n",
              "        8.93554688e-02, -1.40625000e-01,  1.45507812e-01,  4.49218750e-02,\n",
              "       -1.10473633e-02, -1.62353516e-02,  4.05883789e-03,  3.75976562e-02,\n",
              "       -6.98242188e-02, -5.46875000e-02,  2.17285156e-02, -9.47265625e-02,\n",
              "        4.24804688e-02,  1.81884766e-02, -1.73339844e-02,  4.63867188e-02,\n",
              "       -1.42578125e-01,  1.99218750e-01,  1.10839844e-01,  2.58789062e-02,\n",
              "       -7.08007812e-02, -5.54199219e-02,  3.45703125e-01,  1.61132812e-01,\n",
              "       -2.44140625e-01, -2.59765625e-01, -9.71679688e-02,  8.00781250e-02,\n",
              "       -8.78906250e-02, -7.22656250e-02,  1.42578125e-01, -8.54492188e-02,\n",
              "       -3.18359375e-01,  8.30078125e-02,  6.34765625e-02,  1.64062500e-01,\n",
              "       -1.92382812e-01, -1.17675781e-01, -5.41992188e-02, -1.56250000e-01,\n",
              "       -1.21582031e-01, -4.95605469e-02,  1.20117188e-01, -3.83300781e-02,\n",
              "        5.51757812e-02, -8.97216797e-03,  4.32128906e-02,  6.93359375e-02,\n",
              "        8.93554688e-02,  2.53906250e-01,  1.65039062e-01,  1.64062500e-01,\n",
              "       -1.41601562e-01,  4.58984375e-02,  1.97265625e-01, -8.98437500e-02,\n",
              "        3.90625000e-02, -1.51367188e-01, -8.60595703e-03, -1.17675781e-01,\n",
              "       -1.97265625e-01, -1.12792969e-01,  1.29882812e-01,  1.96289062e-01,\n",
              "        1.56402588e-03,  3.93066406e-02,  2.17773438e-01, -1.43554688e-01,\n",
              "        6.03027344e-02, -1.35742188e-01,  1.16210938e-01, -1.59912109e-02,\n",
              "        2.79296875e-01,  1.46484375e-01, -1.19628906e-01,  1.76757812e-01,\n",
              "        1.28906250e-01, -1.49414062e-01,  6.93359375e-02, -1.72851562e-01,\n",
              "        9.22851562e-02,  1.33056641e-02, -2.00195312e-01, -9.76562500e-02,\n",
              "       -1.65039062e-01, -2.46093750e-01, -2.35595703e-02, -2.11914062e-01,\n",
              "        1.84570312e-01, -1.85546875e-02,  2.16796875e-01,  5.05371094e-02,\n",
              "        2.02636719e-02,  4.25781250e-01,  1.28906250e-01, -2.77099609e-02,\n",
              "        1.29882812e-01, -1.15722656e-01, -2.05078125e-02,  1.49414062e-01,\n",
              "        7.81250000e-03, -2.05078125e-01, -8.05664062e-02, -2.67578125e-01,\n",
              "       -2.29492188e-02, -8.20312500e-02,  8.64257812e-02,  7.61718750e-02,\n",
              "       -3.66210938e-02,  5.22460938e-02, -1.22070312e-01, -1.44042969e-02,\n",
              "       -2.69531250e-01,  8.44726562e-02, -2.52685547e-02, -2.96630859e-02,\n",
              "       -1.68945312e-01,  1.93359375e-01, -1.08398438e-01,  1.94091797e-02,\n",
              "       -1.80664062e-01,  1.93359375e-01, -7.08007812e-02,  5.85937500e-02,\n",
              "       -1.01562500e-01, -1.31835938e-01,  7.51953125e-02, -7.66601562e-02,\n",
              "        3.37219238e-03, -8.59375000e-02,  1.25000000e-01,  2.92968750e-02,\n",
              "        1.70898438e-01, -9.37500000e-02, -1.09375000e-01, -2.50244141e-02,\n",
              "        2.11914062e-01, -4.44335938e-02,  6.12792969e-02,  2.62451172e-02,\n",
              "       -1.77734375e-01,  1.23046875e-01, -7.42187500e-02, -1.67968750e-01,\n",
              "       -1.08886719e-01, -9.04083252e-04, -7.37304688e-02,  5.49316406e-02,\n",
              "        6.03027344e-02,  8.39843750e-02,  9.17968750e-02, -1.32812500e-01,\n",
              "        1.22070312e-01, -8.78906250e-03,  1.19140625e-01, -1.94335938e-01,\n",
              "       -6.64062500e-02, -2.07031250e-01,  7.37304688e-02,  8.93554688e-02,\n",
              "        1.81884766e-02, -1.20605469e-01, -2.61230469e-02,  2.67333984e-02,\n",
              "        7.76367188e-02, -8.30078125e-02,  6.78710938e-02, -3.54003906e-02,\n",
              "        3.10546875e-01, -2.42919922e-02, -1.41601562e-01, -2.08007812e-01,\n",
              "       -4.57763672e-03, -6.54296875e-02, -4.95605469e-02,  2.22656250e-01,\n",
              "        1.53320312e-01, -1.38671875e-01, -5.24902344e-02,  4.24804688e-02,\n",
              "       -2.38281250e-01,  1.56250000e-01,  5.83648682e-04, -1.20605469e-01,\n",
              "       -9.22851562e-02, -4.44335938e-02,  3.61328125e-02, -1.86767578e-02,\n",
              "       -8.25195312e-02, -8.25195312e-02, -4.05273438e-02,  1.19018555e-02,\n",
              "        1.69921875e-01, -2.80761719e-02,  3.03649902e-03,  9.32617188e-02,\n",
              "       -8.49609375e-02,  1.57470703e-02,  7.03125000e-02,  1.62353516e-02,\n",
              "       -2.27050781e-02,  3.51562500e-02,  2.47070312e-01, -2.67333984e-02],\n",
              "      dtype=float32)"
            ]
          },
          "metadata": {},
          "execution_count": 2
        }
      ]
    },
    {
      "cell_type": "code",
      "source": [
        "len(model['United_States'])"
      ],
      "metadata": {
        "colab": {
          "base_uri": "https://localhost:8080/"
        },
        "id": "iHCvBrXvjpVq",
        "outputId": "50e10fa3-4651-4543-c367-338e14c65100"
      },
      "execution_count": 3,
      "outputs": [
        {
          "output_type": "execute_result",
          "data": {
            "text/plain": [
              "300"
            ]
          },
          "metadata": {},
          "execution_count": 3
        }
      ]
    },
    {
      "cell_type": "markdown",
      "source": [
        "61. 単語の類似度\n",
        "\n",
        "“United States”と”U.S.”のコサイン類似度を計算せよ．"
      ],
      "metadata": {
        "id": "xBO5P4ZsR9YA"
      }
    },
    {
      "cell_type": "code",
      "source": [
        "# https://tedboy.github.io/nlps/generated/generated/gensim.models.Word2Vec.html#gensim.models.Word2Vec\n",
        "model.similarity(\"United_States\", \"U.S.\")"
      ],
      "metadata": {
        "colab": {
          "base_uri": "https://localhost:8080/"
        },
        "id": "-v1Csoqcjvo3",
        "outputId": "6b4876b4-f1ed-448e-85a5-787df9f6f5cc"
      },
      "execution_count": 4,
      "outputs": [
        {
          "output_type": "execute_result",
          "data": {
            "text/plain": [
              "0.73107743"
            ]
          },
          "metadata": {},
          "execution_count": 4
        }
      ]
    },
    {
      "cell_type": "markdown",
      "source": [
        "62. 類似度の高い単語10件\n",
        "\n",
        "“United States”とコサイン類似度が高い10語と，その類似度を出力せよ．"
      ],
      "metadata": {
        "id": "C9iWbRM8R9bG"
      }
    },
    {
      "cell_type": "code",
      "source": [
        "model.most_similar(\"United_States\")"
      ],
      "metadata": {
        "colab": {
          "base_uri": "https://localhost:8080/"
        },
        "id": "kejzLtHMlA7s",
        "outputId": "010298ba-7365-448b-f423-eaf4af1980a1"
      },
      "execution_count": 5,
      "outputs": [
        {
          "output_type": "execute_result",
          "data": {
            "text/plain": [
              "[('Unites_States', 0.7877248525619507),\n",
              " ('Untied_States', 0.7541370391845703),\n",
              " ('United_Sates', 0.74007248878479),\n",
              " ('U.S.', 0.7310774326324463),\n",
              " ('theUnited_States', 0.6404393911361694),\n",
              " ('America', 0.6178410053253174),\n",
              " ('UnitedStates', 0.6167312264442444),\n",
              " ('Europe', 0.6132988929748535),\n",
              " ('countries', 0.6044804453849792),\n",
              " ('Canada', 0.6019070148468018)]"
            ]
          },
          "metadata": {},
          "execution_count": 5
        }
      ]
    },
    {
      "cell_type": "markdown",
      "source": [
        "63. 加法構成性によるアナロジー\n",
        "\n",
        "“Spain”の単語ベクトルから”Madrid”のベクトルを引き，”Athens”のベクトルを足したベクトルを計算し，そのベクトルと類似度の高い10語とその類似度を出力せよ．"
      ],
      "metadata": {
        "id": "QDsVw0LYR9eH"
      }
    },
    {
      "cell_type": "code",
      "source": [
        "model.most_similar(positive=['Spain', 'Athens'], negative=['Madrid'])"
      ],
      "metadata": {
        "colab": {
          "base_uri": "https://localhost:8080/"
        },
        "id": "U_BCDjRsqCVR",
        "outputId": "dac59902-23af-4087-cf7e-d80c09d06091"
      },
      "execution_count": 6,
      "outputs": [
        {
          "output_type": "execute_result",
          "data": {
            "text/plain": [
              "[('Greece', 0.6898481249809265),\n",
              " ('Aristeidis_Grigoriadis', 0.5606848001480103),\n",
              " ('Ioannis_Drymonakos', 0.5552908778190613),\n",
              " ('Greeks', 0.545068621635437),\n",
              " ('Ioannis_Christou', 0.5400862693786621),\n",
              " ('Hrysopiyi_Devetzi', 0.5248444676399231),\n",
              " ('Heraklio', 0.5207759737968445),\n",
              " ('Athens_Greece', 0.516880989074707),\n",
              " ('Lithuania', 0.5166866183280945),\n",
              " ('Iraklion', 0.5146791934967041)]"
            ]
          },
          "metadata": {},
          "execution_count": 6
        }
      ]
    },
    {
      "cell_type": "markdown",
      "source": [
        "64. アナロジーデータでの実験\n",
        "\n",
        "[単語アナロジーの評価データ](http://download.tensorflow.org/data/questions-words.txt)をダウンロードし，vec(2列目の単語) - vec(1列目の単語) + vec(3列目の単語)を計算し，そのベクトルと類似度が最も高い単語と，その類似度を求めよ．求めた単語と類似度は，各事例の末尾に追記せよ．"
      ],
      "metadata": {
        "id": "gW1J1VbmR9hC"
      }
    },
    {
      "cell_type": "code",
      "source": [
        "!wget 'http://download.tensorflow.org/data/questions-words.txt'"
      ],
      "metadata": {
        "colab": {
          "base_uri": "https://localhost:8080/"
        },
        "id": "WhEWe6kezs51",
        "outputId": "52e609d2-954b-4c9d-c86e-9f063f5756f6"
      },
      "execution_count": 7,
      "outputs": [
        {
          "output_type": "stream",
          "name": "stdout",
          "text": [
            "--2021-12-17 00:26:33--  http://download.tensorflow.org/data/questions-words.txt\n",
            "Resolving download.tensorflow.org (download.tensorflow.org)... 173.194.194.128, 2607:f8b0:4001:c10::80\n",
            "Connecting to download.tensorflow.org (download.tensorflow.org)|173.194.194.128|:80... connected.\n",
            "HTTP request sent, awaiting response... 200 OK\n",
            "Length: 603955 (590K) [text/plain]\n",
            "Saving to: ‘questions-words.txt’\n",
            "\n",
            "questions-words.txt 100%[===================>] 589.80K  --.-KB/s    in 0.004s  \n",
            "\n",
            "2021-12-17 00:26:33 (150 MB/s) - ‘questions-words.txt’ saved [603955/603955]\n",
            "\n"
          ]
        }
      ]
    },
    {
      "cell_type": "code",
      "source": [
        "# transform to dataframe\n",
        "\n",
        "import pandas as pd\n",
        "\n",
        "df = pd.DataFrame()\n",
        "with open('questions-words.txt') as f:\n",
        "  for l in f:\n",
        "    l = l.split()\n",
        "    if l[0] == ':':\n",
        "      category = l[1]\n",
        "    else:\n",
        "      tmp = pd.DataFrame([[category,l[0], l[1], l[2]]])\n",
        "      df = pd.concat([df, tmp])"
      ],
      "metadata": {
        "id": "YmIAZjwZt-eZ"
      },
      "execution_count": 8,
      "outputs": []
    },
    {
      "cell_type": "code",
      "source": [
        "df.head()"
      ],
      "metadata": {
        "colab": {
          "base_uri": "https://localhost:8080/",
          "height": 206
        },
        "id": "UyNGZ2em3xwF",
        "outputId": "9c8d5bcd-fc39-4021-bb96-2004bea40979"
      },
      "execution_count": 9,
      "outputs": [
        {
          "output_type": "execute_result",
          "data": {
            "text/html": [
              "<div>\n",
              "<style scoped>\n",
              "    .dataframe tbody tr th:only-of-type {\n",
              "        vertical-align: middle;\n",
              "    }\n",
              "\n",
              "    .dataframe tbody tr th {\n",
              "        vertical-align: top;\n",
              "    }\n",
              "\n",
              "    .dataframe thead th {\n",
              "        text-align: right;\n",
              "    }\n",
              "</style>\n",
              "<table border=\"1\" class=\"dataframe\">\n",
              "  <thead>\n",
              "    <tr style=\"text-align: right;\">\n",
              "      <th></th>\n",
              "      <th>0</th>\n",
              "      <th>1</th>\n",
              "      <th>2</th>\n",
              "      <th>3</th>\n",
              "    </tr>\n",
              "  </thead>\n",
              "  <tbody>\n",
              "    <tr>\n",
              "      <th>0</th>\n",
              "      <td>capital-common-countries</td>\n",
              "      <td>Athens</td>\n",
              "      <td>Greece</td>\n",
              "      <td>Baghdad</td>\n",
              "    </tr>\n",
              "    <tr>\n",
              "      <th>0</th>\n",
              "      <td>capital-common-countries</td>\n",
              "      <td>Athens</td>\n",
              "      <td>Greece</td>\n",
              "      <td>Bangkok</td>\n",
              "    </tr>\n",
              "    <tr>\n",
              "      <th>0</th>\n",
              "      <td>capital-common-countries</td>\n",
              "      <td>Athens</td>\n",
              "      <td>Greece</td>\n",
              "      <td>Beijing</td>\n",
              "    </tr>\n",
              "    <tr>\n",
              "      <th>0</th>\n",
              "      <td>capital-common-countries</td>\n",
              "      <td>Athens</td>\n",
              "      <td>Greece</td>\n",
              "      <td>Berlin</td>\n",
              "    </tr>\n",
              "    <tr>\n",
              "      <th>0</th>\n",
              "      <td>capital-common-countries</td>\n",
              "      <td>Athens</td>\n",
              "      <td>Greece</td>\n",
              "      <td>Bern</td>\n",
              "    </tr>\n",
              "  </tbody>\n",
              "</table>\n",
              "</div>"
            ],
            "text/plain": [
              "                          0       1       2        3\n",
              "0  capital-common-countries  Athens  Greece  Baghdad\n",
              "0  capital-common-countries  Athens  Greece  Bangkok\n",
              "0  capital-common-countries  Athens  Greece  Beijing\n",
              "0  capital-common-countries  Athens  Greece   Berlin\n",
              "0  capital-common-countries  Athens  Greece     Bern"
            ]
          },
          "metadata": {},
          "execution_count": 9
        }
      ]
    },
    {
      "cell_type": "code",
      "source": [
        "df['most_similar'] = [model.most_similar(positive=[x, y], negative=[z], topn=1)[0]\n",
        "                               for x,y,z in zip(df[2],df[3],df[1])]"
      ],
      "metadata": {
        "id": "69lU6B621Qce"
      },
      "execution_count": 10,
      "outputs": []
    },
    {
      "cell_type": "code",
      "source": [
        "df['word'] = [list(i)[0] for i in df['most_similar']]\n",
        "df['percent'] = [list(i)[1] for i in df['most_similar']]\n",
        "df.head()"
      ],
      "metadata": {
        "colab": {
          "base_uri": "https://localhost:8080/",
          "height": 206
        },
        "id": "m7-EFJiBSACq",
        "outputId": "995c1fbb-c4f4-49ac-b283-27995d0231cf"
      },
      "execution_count": 46,
      "outputs": [
        {
          "output_type": "execute_result",
          "data": {
            "text/html": [
              "<div>\n",
              "<style scoped>\n",
              "    .dataframe tbody tr th:only-of-type {\n",
              "        vertical-align: middle;\n",
              "    }\n",
              "\n",
              "    .dataframe tbody tr th {\n",
              "        vertical-align: top;\n",
              "    }\n",
              "\n",
              "    .dataframe thead th {\n",
              "        text-align: right;\n",
              "    }\n",
              "</style>\n",
              "<table border=\"1\" class=\"dataframe\">\n",
              "  <thead>\n",
              "    <tr style=\"text-align: right;\">\n",
              "      <th></th>\n",
              "      <th>0</th>\n",
              "      <th>1</th>\n",
              "      <th>2</th>\n",
              "      <th>3</th>\n",
              "      <th>most_similar</th>\n",
              "      <th>word</th>\n",
              "      <th>percent</th>\n",
              "    </tr>\n",
              "  </thead>\n",
              "  <tbody>\n",
              "    <tr>\n",
              "      <th>0</th>\n",
              "      <td>capital-common-countries</td>\n",
              "      <td>Athens</td>\n",
              "      <td>Greece</td>\n",
              "      <td>Baghdad</td>\n",
              "      <td>(Iraqi, 0.6351870894432068)</td>\n",
              "      <td>Iraqi</td>\n",
              "      <td>0.635187</td>\n",
              "    </tr>\n",
              "    <tr>\n",
              "      <th>0</th>\n",
              "      <td>capital-common-countries</td>\n",
              "      <td>Athens</td>\n",
              "      <td>Greece</td>\n",
              "      <td>Bangkok</td>\n",
              "      <td>(Thailand, 0.7137669324874878)</td>\n",
              "      <td>Thailand</td>\n",
              "      <td>0.713767</td>\n",
              "    </tr>\n",
              "    <tr>\n",
              "      <th>0</th>\n",
              "      <td>capital-common-countries</td>\n",
              "      <td>Athens</td>\n",
              "      <td>Greece</td>\n",
              "      <td>Beijing</td>\n",
              "      <td>(China, 0.7235777974128723)</td>\n",
              "      <td>China</td>\n",
              "      <td>0.723578</td>\n",
              "    </tr>\n",
              "    <tr>\n",
              "      <th>0</th>\n",
              "      <td>capital-common-countries</td>\n",
              "      <td>Athens</td>\n",
              "      <td>Greece</td>\n",
              "      <td>Berlin</td>\n",
              "      <td>(Germany, 0.6734622120857239)</td>\n",
              "      <td>Germany</td>\n",
              "      <td>0.673462</td>\n",
              "    </tr>\n",
              "    <tr>\n",
              "      <th>0</th>\n",
              "      <td>capital-common-countries</td>\n",
              "      <td>Athens</td>\n",
              "      <td>Greece</td>\n",
              "      <td>Bern</td>\n",
              "      <td>(Switzerland, 0.4919748306274414)</td>\n",
              "      <td>Switzerland</td>\n",
              "      <td>0.491975</td>\n",
              "    </tr>\n",
              "  </tbody>\n",
              "</table>\n",
              "</div>"
            ],
            "text/plain": [
              "                          0       1  ...         word   percent\n",
              "0  capital-common-countries  Athens  ...        Iraqi  0.635187\n",
              "0  capital-common-countries  Athens  ...     Thailand  0.713767\n",
              "0  capital-common-countries  Athens  ...        China  0.723578\n",
              "0  capital-common-countries  Athens  ...      Germany  0.673462\n",
              "0  capital-common-countries  Athens  ...  Switzerland  0.491975\n",
              "\n",
              "[5 rows x 7 columns]"
            ]
          },
          "metadata": {},
          "execution_count": 46
        }
      ]
    },
    {
      "cell_type": "code",
      "source": [
        "df.to_csv('/content/drive/MyDrive/Colab Notebooks/df.csv')"
      ],
      "metadata": {
        "id": "25IhbJx7sQNh"
      },
      "execution_count": 47,
      "outputs": []
    },
    {
      "cell_type": "markdown",
      "source": [
        "65. アナロジータスクでの正解率P\n",
        "\n",
        "64の実行結果を用い，意味的アナロジー（semantic analogy）と文法的アナロジー（syntactic analogy）の正解率を測定せよ．"
      ],
      "metadata": {
        "id": "llCbyU-HR9m0"
      }
    },
    {
      "cell_type": "code",
      "source": [
        "# 1. semantic analogy: what is the word that is similar to France in the same sense as Berlin is similar to Germany?\n",
        "# 2. syntactic analogy: what is the word that is similar to small in the same sense as biggest is similar to big?\n",
        "import pandas as pd\n",
        "\n",
        "df = pd.read_csv('/content/drive/MyDrive/Colab Notebooks/df.csv')\n",
        "df['0'].value_counts()"
      ],
      "metadata": {
        "colab": {
          "base_uri": "https://localhost:8080/"
        },
        "id": "ks9rI-RIOaX9",
        "outputId": "14dbd492-19d0-4912-e544-b5beb6db1f06"
      },
      "execution_count": 8,
      "outputs": [
        {
          "output_type": "execute_result",
          "data": {
            "text/plain": [
              "capital-world                  4524\n",
              "city-in-state                  2467\n",
              "gram6-nationality-adjective    1599\n",
              "gram7-past-tense               1560\n",
              "gram3-comparative              1332\n",
              "gram8-plural                   1332\n",
              "gram4-superlative              1122\n",
              "gram5-present-participle       1056\n",
              "gram1-adjective-to-adverb       992\n",
              "gram9-plural-verbs              870\n",
              "currency                        866\n",
              "gram2-opposite                  812\n",
              "capital-common-countries        506\n",
              "family                          506\n",
              "Name: 0, dtype: int64"
            ]
          },
          "metadata": {},
          "execution_count": 8
        }
      ]
    },
    {
      "cell_type": "code",
      "source": [
        "df[df['0']=='gram2-opposite'].head(2)"
      ],
      "metadata": {
        "colab": {
          "base_uri": "https://localhost:8080/",
          "height": 164
        },
        "id": "7qpg281jRcTy",
        "outputId": "9e2ef967-b855-460a-beed-774b3cbf986a"
      },
      "execution_count": 9,
      "outputs": [
        {
          "output_type": "execute_result",
          "data": {
            "text/html": [
              "<div>\n",
              "<style scoped>\n",
              "    .dataframe tbody tr th:only-of-type {\n",
              "        vertical-align: middle;\n",
              "    }\n",
              "\n",
              "    .dataframe tbody tr th {\n",
              "        vertical-align: top;\n",
              "    }\n",
              "\n",
              "    .dataframe thead th {\n",
              "        text-align: right;\n",
              "    }\n",
              "</style>\n",
              "<table border=\"1\" class=\"dataframe\">\n",
              "  <thead>\n",
              "    <tr style=\"text-align: right;\">\n",
              "      <th></th>\n",
              "      <th>Unnamed: 0</th>\n",
              "      <th>0</th>\n",
              "      <th>1</th>\n",
              "      <th>2</th>\n",
              "      <th>3</th>\n",
              "      <th>most_similar</th>\n",
              "      <th>word</th>\n",
              "      <th>percent</th>\n",
              "    </tr>\n",
              "  </thead>\n",
              "  <tbody>\n",
              "    <tr>\n",
              "      <th>9861</th>\n",
              "      <td>0</td>\n",
              "      <td>gram2-opposite</td>\n",
              "      <td>acceptable</td>\n",
              "      <td>unacceptable</td>\n",
              "      <td>aware</td>\n",
              "      <td>('unaware', 0.6383266448974609)</td>\n",
              "      <td>unaware</td>\n",
              "      <td>0.638327</td>\n",
              "    </tr>\n",
              "    <tr>\n",
              "      <th>9862</th>\n",
              "      <td>0</td>\n",
              "      <td>gram2-opposite</td>\n",
              "      <td>acceptable</td>\n",
              "      <td>unacceptable</td>\n",
              "      <td>certain</td>\n",
              "      <td>('unjustified', 0.4622364938259125)</td>\n",
              "      <td>unjustified</td>\n",
              "      <td>0.462236</td>\n",
              "    </tr>\n",
              "  </tbody>\n",
              "</table>\n",
              "</div>"
            ],
            "text/plain": [
              "      Unnamed: 0               0  ...         word   percent\n",
              "9861           0  gram2-opposite  ...      unaware  0.638327\n",
              "9862           0  gram2-opposite  ...  unjustified  0.462236\n",
              "\n",
              "[2 rows x 8 columns]"
            ]
          },
          "metadata": {},
          "execution_count": 9
        }
      ]
    },
    {
      "cell_type": "code",
      "source": [
        "df[df['0']=='capital-world'].head(2)"
      ],
      "metadata": {
        "colab": {
          "base_uri": "https://localhost:8080/",
          "height": 112
        },
        "id": "ZDf8YW3fRmo2",
        "outputId": "d23457cc-3f94-4cf0-cc01-8400cd5d0661"
      },
      "execution_count": 10,
      "outputs": [
        {
          "output_type": "execute_result",
          "data": {
            "text/html": [
              "<div>\n",
              "<style scoped>\n",
              "    .dataframe tbody tr th:only-of-type {\n",
              "        vertical-align: middle;\n",
              "    }\n",
              "\n",
              "    .dataframe tbody tr th {\n",
              "        vertical-align: top;\n",
              "    }\n",
              "\n",
              "    .dataframe thead th {\n",
              "        text-align: right;\n",
              "    }\n",
              "</style>\n",
              "<table border=\"1\" class=\"dataframe\">\n",
              "  <thead>\n",
              "    <tr style=\"text-align: right;\">\n",
              "      <th></th>\n",
              "      <th>Unnamed: 0</th>\n",
              "      <th>0</th>\n",
              "      <th>1</th>\n",
              "      <th>2</th>\n",
              "      <th>3</th>\n",
              "      <th>most_similar</th>\n",
              "      <th>word</th>\n",
              "      <th>percent</th>\n",
              "    </tr>\n",
              "  </thead>\n",
              "  <tbody>\n",
              "    <tr>\n",
              "      <th>506</th>\n",
              "      <td>0</td>\n",
              "      <td>capital-world</td>\n",
              "      <td>Abuja</td>\n",
              "      <td>Nigeria</td>\n",
              "      <td>Accra</td>\n",
              "      <td>('Ghana', 0.820812463760376)</td>\n",
              "      <td>Ghana</td>\n",
              "      <td>0.820812</td>\n",
              "    </tr>\n",
              "    <tr>\n",
              "      <th>507</th>\n",
              "      <td>0</td>\n",
              "      <td>capital-world</td>\n",
              "      <td>Abuja</td>\n",
              "      <td>Nigeria</td>\n",
              "      <td>Algiers</td>\n",
              "      <td>('Algeria', 0.6122236847877502)</td>\n",
              "      <td>Algeria</td>\n",
              "      <td>0.612224</td>\n",
              "    </tr>\n",
              "  </tbody>\n",
              "</table>\n",
              "</div>"
            ],
            "text/plain": [
              "     Unnamed: 0              0  ...     word   percent\n",
              "506           0  capital-world  ...    Ghana  0.820812\n",
              "507           0  capital-world  ...  Algeria  0.612224\n",
              "\n",
              "[2 rows x 8 columns]"
            ]
          },
          "metadata": {},
          "execution_count": 10
        }
      ]
    },
    {
      "cell_type": "code",
      "source": [
        "df_semantic = df[df['0'].str.contains('gram')]\n",
        "df_syntactic = df[~df['0'].str.contains('gram')]\n",
        "print('semantic analogy: ', df_semantic['percent'].mean())\n",
        "print('syntactic analogy: ', df_syntactic['percent'].mean())"
      ],
      "metadata": {
        "colab": {
          "base_uri": "https://localhost:8080/"
        },
        "id": "mHi855i-R_4j",
        "outputId": "b476163a-67d9-4806-8ce8-7afc9eb1aced"
      },
      "execution_count": 11,
      "outputs": [
        {
          "output_type": "stream",
          "name": "stdout",
          "text": [
            "semantic analogy:  0.650942272388963\n",
            "syntactic analogy:  0.6538859319056501\n"
          ]
        }
      ]
    },
    {
      "cell_type": "markdown",
      "source": [
        "66. WordSimilarity-353での評価\n",
        "\n",
        "[The WordSimilarity-353 Test Collection](http://www.gabrilovich.com/resources/data/wordsim353/wordsim353.html)の評価データをダウンロードし，単語ベクトルにより計算される類似度のランキングと，人間の類似度判定のランキングの間のスピアマン相関係数を計算せよ．"
      ],
      "metadata": {
        "id": "d7shzsNyS5hO"
      }
    },
    {
      "cell_type": "code",
      "source": [
        "!wget 'https://gabrilovich.com/resources/data/wordsim353/wordsim353.zip'"
      ],
      "metadata": {
        "colab": {
          "base_uri": "https://localhost:8080/"
        },
        "id": "idKDEFhmjrGD",
        "outputId": "629c65c3-a92a-4306-8ad7-336a7ac39b0c"
      },
      "execution_count": 2,
      "outputs": [
        {
          "output_type": "stream",
          "name": "stdout",
          "text": [
            "--2021-12-17 05:23:57--  https://gabrilovich.com/resources/data/wordsim353/wordsim353.zip\n",
            "Resolving gabrilovich.com (gabrilovich.com)... 208.97.177.37\n",
            "Connecting to gabrilovich.com (gabrilovich.com)|208.97.177.37|:443... connected.\n",
            "HTTP request sent, awaiting response... 200 OK\n",
            "Length: 23257 (23K) [application/zip]\n",
            "Saving to: ‘wordsim353.zip’\n",
            "\n",
            "wordsim353.zip      100%[===================>]  22.71K  --.-KB/s    in 0.03s   \n",
            "\n",
            "2021-12-17 05:23:57 (750 KB/s) - ‘wordsim353.zip’ saved [23257/23257]\n",
            "\n"
          ]
        }
      ]
    },
    {
      "cell_type": "code",
      "source": [
        "import zipfile\n",
        "import pandas as pd\n",
        "\n",
        "with zipfile.ZipFile('wordsim353.zip') as existing_zip:\n",
        "  print(existing_zip.namelist())\n",
        "  df_ = pd.read_csv(existing_zip.open('combined.csv'))"
      ],
      "metadata": {
        "colab": {
          "base_uri": "https://localhost:8080/"
        },
        "id": "5SCsps9yk5nP",
        "outputId": "06e0a7d3-7b17-4c8d-904e-563919f09a7c"
      },
      "execution_count": 10,
      "outputs": [
        {
          "output_type": "stream",
          "name": "stdout",
          "text": [
            "['combined.csv', 'set1.csv', 'set2.csv', 'combined.tab', 'set1.tab', 'set2.tab', 'instructions.txt']\n"
          ]
        }
      ]
    },
    {
      "cell_type": "code",
      "source": [
        "df_.head(2)"
      ],
      "metadata": {
        "colab": {
          "base_uri": "https://localhost:8080/",
          "height": 112
        },
        "id": "63Z4LwB1lac4",
        "outputId": "fec14e10-5494-46ab-d14c-8421b019531e"
      },
      "execution_count": 11,
      "outputs": [
        {
          "output_type": "execute_result",
          "data": {
            "text/html": [
              "<div>\n",
              "<style scoped>\n",
              "    .dataframe tbody tr th:only-of-type {\n",
              "        vertical-align: middle;\n",
              "    }\n",
              "\n",
              "    .dataframe tbody tr th {\n",
              "        vertical-align: top;\n",
              "    }\n",
              "\n",
              "    .dataframe thead th {\n",
              "        text-align: right;\n",
              "    }\n",
              "</style>\n",
              "<table border=\"1\" class=\"dataframe\">\n",
              "  <thead>\n",
              "    <tr style=\"text-align: right;\">\n",
              "      <th></th>\n",
              "      <th>Word 1</th>\n",
              "      <th>Word 2</th>\n",
              "      <th>Human (mean)</th>\n",
              "    </tr>\n",
              "  </thead>\n",
              "  <tbody>\n",
              "    <tr>\n",
              "      <th>0</th>\n",
              "      <td>love</td>\n",
              "      <td>sex</td>\n",
              "      <td>6.77</td>\n",
              "    </tr>\n",
              "    <tr>\n",
              "      <th>1</th>\n",
              "      <td>tiger</td>\n",
              "      <td>cat</td>\n",
              "      <td>7.35</td>\n",
              "    </tr>\n",
              "  </tbody>\n",
              "</table>\n",
              "</div>"
            ],
            "text/plain": [
              "  Word 1 Word 2  Human (mean)\n",
              "0   love    sex          6.77\n",
              "1  tiger    cat          7.35"
            ]
          },
          "metadata": {},
          "execution_count": 11
        }
      ]
    },
    {
      "cell_type": "code",
      "source": [
        "df_['similar'] = [model.similarity(x,y) for x,y in zip(df_['Word 1'],df_['Word 2'])]\n",
        "df_.head()"
      ],
      "metadata": {
        "colab": {
          "base_uri": "https://localhost:8080/",
          "height": 206
        },
        "id": "njcGxKwD2dUq",
        "outputId": "bd1a602f-2158-43e1-f0db-9e43ae7b270b"
      },
      "execution_count": 12,
      "outputs": [
        {
          "output_type": "execute_result",
          "data": {
            "text/html": [
              "<div>\n",
              "<style scoped>\n",
              "    .dataframe tbody tr th:only-of-type {\n",
              "        vertical-align: middle;\n",
              "    }\n",
              "\n",
              "    .dataframe tbody tr th {\n",
              "        vertical-align: top;\n",
              "    }\n",
              "\n",
              "    .dataframe thead th {\n",
              "        text-align: right;\n",
              "    }\n",
              "</style>\n",
              "<table border=\"1\" class=\"dataframe\">\n",
              "  <thead>\n",
              "    <tr style=\"text-align: right;\">\n",
              "      <th></th>\n",
              "      <th>Word 1</th>\n",
              "      <th>Word 2</th>\n",
              "      <th>Human (mean)</th>\n",
              "      <th>similar</th>\n",
              "    </tr>\n",
              "  </thead>\n",
              "  <tbody>\n",
              "    <tr>\n",
              "      <th>0</th>\n",
              "      <td>love</td>\n",
              "      <td>sex</td>\n",
              "      <td>6.77</td>\n",
              "      <td>0.263938</td>\n",
              "    </tr>\n",
              "    <tr>\n",
              "      <th>1</th>\n",
              "      <td>tiger</td>\n",
              "      <td>cat</td>\n",
              "      <td>7.35</td>\n",
              "      <td>0.517296</td>\n",
              "    </tr>\n",
              "    <tr>\n",
              "      <th>2</th>\n",
              "      <td>tiger</td>\n",
              "      <td>tiger</td>\n",
              "      <td>10.00</td>\n",
              "      <td>1.000000</td>\n",
              "    </tr>\n",
              "    <tr>\n",
              "      <th>3</th>\n",
              "      <td>book</td>\n",
              "      <td>paper</td>\n",
              "      <td>7.46</td>\n",
              "      <td>0.363463</td>\n",
              "    </tr>\n",
              "    <tr>\n",
              "      <th>4</th>\n",
              "      <td>computer</td>\n",
              "      <td>keyboard</td>\n",
              "      <td>7.62</td>\n",
              "      <td>0.396392</td>\n",
              "    </tr>\n",
              "  </tbody>\n",
              "</table>\n",
              "</div>"
            ],
            "text/plain": [
              "     Word 1    Word 2  Human (mean)   similar\n",
              "0      love       sex          6.77  0.263938\n",
              "1     tiger       cat          7.35  0.517296\n",
              "2     tiger     tiger         10.00  1.000000\n",
              "3      book     paper          7.46  0.363463\n",
              "4  computer  keyboard          7.62  0.396392"
            ]
          },
          "metadata": {},
          "execution_count": 12
        }
      ]
    },
    {
      "cell_type": "code",
      "source": [
        "from scipy.stats import spearmanr\n",
        "\n",
        "spearmanr(df_['Human (mean)'], df_['similar'])"
      ],
      "metadata": {
        "colab": {
          "base_uri": "https://localhost:8080/"
        },
        "id": "GXtsziQP2SVs",
        "outputId": "e056a16b-f182-4a77-b6e9-5187a1662a29"
      },
      "execution_count": 13,
      "outputs": [
        {
          "output_type": "execute_result",
          "data": {
            "text/plain": [
              "SpearmanrResult(correlation=0.7000166486272194, pvalue=2.86866666051422e-53)"
            ]
          },
          "metadata": {},
          "execution_count": 13
        }
      ]
    },
    {
      "cell_type": "markdown",
      "source": [
        "67. k-meansクラスタリング\n",
        "\n",
        "国名に関する単語ベクトルを抽出し，k-meansクラスタリングをクラスタ数k=5として実行せよ．"
      ],
      "metadata": {
        "id": "1ExukXmjS5o5"
      }
    },
    {
      "cell_type": "code",
      "source": [
        ""
      ],
      "metadata": {
        "id": "f_VIjoBXkoET"
      },
      "execution_count": null,
      "outputs": []
    },
    {
      "cell_type": "markdown",
      "source": [
        "68. Ward法によるクラスタリング\n",
        "\n",
        "国名に関する単語ベクトルに対し，Ward法による階層型クラスタリングを実行せよ．さらに，クラスタリング結果をデンドログラムとして可視化せよ．"
      ],
      "metadata": {
        "id": "PNNd-FfOS6Ek"
      }
    },
    {
      "cell_type": "markdown",
      "source": [
        "69. t-SNEによる可視化\n",
        "\n",
        "ベクトル空間上の国名に関する単語ベクトルをt-SNEで可視化せよ．"
      ],
      "metadata": {
        "id": "WnY1SpoiS6HD"
      }
    },
    {
      "cell_type": "code",
      "source": [
        ""
      ],
      "metadata": {
        "id": "uAFQrXKzR2R9"
      },
      "execution_count": 16,
      "outputs": []
    }
  ]
}